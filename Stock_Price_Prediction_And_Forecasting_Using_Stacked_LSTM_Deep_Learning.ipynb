{
  "nbformat": 4,
  "nbformat_minor": 0,
  "metadata": {
    "colab": {
      "name": "Stock Price Prediction And Forecasting Using Stacked LSTM- Deep Learning.ipynb",
      "provenance": [],
      "authorship_tag": "ABX9TyNgp0yVWJYGUeAVAndrhGM7",
      "include_colab_link": true
    },
    "kernelspec": {
      "name": "python3",
      "display_name": "Python 3"
    },
    "language_info": {
      "name": "python"
    }
  },
  "cells": [
    {
      "cell_type": "markdown",
      "metadata": {
        "id": "view-in-github",
        "colab_type": "text"
      },
      "source": [
        "<a href=\"https://colab.research.google.com/github/melvinsackaria/DeepLearning/blob/main/Stock_Price_Prediction_And_Forecasting_Using_Stacked_LSTM_Deep_Learning.ipynb\" target=\"_parent\"><img src=\"https://colab.research.google.com/assets/colab-badge.svg\" alt=\"Open In Colab\"/></a>"
      ]
    },
    {
      "cell_type": "markdown",
      "source": [
        "**A Stacked LSTM** architecture can be defined as an LSTM model comprised of multiple LSTM layers. An LSTM layer above provides a sequence output rather than a single value output to the LSTM layer below. \n",
        "Specifically, one output per input time step, rather than one output time step for all input time steps."
      ],
      "metadata": {
        "id": "hhVzfJ2Dz4Ov"
      }
    },
    {
      "cell_type": "code",
      "execution_count": 1,
      "metadata": {
        "id": "mXb-oTbOxKFh"
      },
      "outputs": [],
      "source": [
        "### Data Collection\n",
        "import pandas_datareader as pdr\n",
        "key=\"f5be53ecb92a8b84c43cacd80c460b3aaabf577a\"#https://api.tiingo.com/documentation/general/overview"
      ]
    },
    {
      "cell_type": "code",
      "source": [
        "df = pdr.get_data_tiingo('AAPL', api_key=key)"
      ],
      "metadata": {
        "colab": {
          "base_uri": "https://localhost:8080/"
        },
        "id": "bNLJrU6Y0BWS",
        "outputId": "c1750d29-8378-45ea-e7f5-643479b26cdb"
      },
      "execution_count": 2,
      "outputs": [
        {
          "output_type": "stream",
          "name": "stderr",
          "text": [
            "/usr/local/lib/python3.7/dist-packages/pandas_datareader/tiingo.py:234: FutureWarning: In a future version of pandas all arguments of concat except for the argument 'objs' will be keyword-only\n",
            "  return pd.concat(dfs, self._concat_axis)\n"
          ]
        }
      ]
    },
    {
      "cell_type": "code",
      "source": [
        "df.to_csv('AAPL.csv')"
      ],
      "metadata": {
        "id": "DHTkiuKt0Ct5"
      },
      "execution_count": 3,
      "outputs": []
    },
    {
      "cell_type": "code",
      "source": [
        "import pandas as pd\n",
        "df=pd.read_csv('AAPL.csv')\n",
        "df.head()"
      ],
      "metadata": {
        "id": "1PMNSdXR0D3_",
        "colab": {
          "base_uri": "https://localhost:8080/",
          "height": 206
        },
        "outputId": "6eb430b9-dd87-4654-d1f3-bc381515c1c6"
      },
      "execution_count": 4,
      "outputs": [
        {
          "output_type": "execute_result",
          "data": {
            "text/plain": [
              "  symbol                       date   close    high     low    open    volume  \\\n",
              "0   AAPL  2017-05-02 00:00:00+00:00  147.51  148.09  146.84  147.54  39752670   \n",
              "1   AAPL  2017-05-03 00:00:00+00:00  147.06  147.49  144.27  145.59  45142806   \n",
              "2   AAPL  2017-05-04 00:00:00+00:00  146.53  147.14  145.81  146.52  23275690   \n",
              "3   AAPL  2017-05-05 00:00:00+00:00  148.96  148.98  146.76  146.76  26787359   \n",
              "4   AAPL  2017-05-08 00:00:00+00:00  153.01  153.70  149.03  149.03  48339210   \n",
              "\n",
              "    adjClose    adjHigh     adjLow    adjOpen  adjVolume  divCash  splitFactor  \n",
              "0  34.812924  34.949807  34.654802  34.820004  159010680      0.0          1.0  \n",
              "1  34.706723  34.808204  34.048272  34.359797  180571224      0.0          1.0  \n",
              "2  34.581641  34.725603  34.411718  34.579281   93102760      0.0          1.0  \n",
              "3  35.155130  35.159850  34.635922  34.635922  107149436      0.0          1.0  \n",
              "4  36.110945  36.273788  35.171650  35.171650  193356840      0.0          1.0  "
            ],
            "text/html": [
              "\n",
              "  <div id=\"df-646fecb4-e387-4927-a920-ffca7dcc7c6b\">\n",
              "    <div class=\"colab-df-container\">\n",
              "      <div>\n",
              "<style scoped>\n",
              "    .dataframe tbody tr th:only-of-type {\n",
              "        vertical-align: middle;\n",
              "    }\n",
              "\n",
              "    .dataframe tbody tr th {\n",
              "        vertical-align: top;\n",
              "    }\n",
              "\n",
              "    .dataframe thead th {\n",
              "        text-align: right;\n",
              "    }\n",
              "</style>\n",
              "<table border=\"1\" class=\"dataframe\">\n",
              "  <thead>\n",
              "    <tr style=\"text-align: right;\">\n",
              "      <th></th>\n",
              "      <th>symbol</th>\n",
              "      <th>date</th>\n",
              "      <th>close</th>\n",
              "      <th>high</th>\n",
              "      <th>low</th>\n",
              "      <th>open</th>\n",
              "      <th>volume</th>\n",
              "      <th>adjClose</th>\n",
              "      <th>adjHigh</th>\n",
              "      <th>adjLow</th>\n",
              "      <th>adjOpen</th>\n",
              "      <th>adjVolume</th>\n",
              "      <th>divCash</th>\n",
              "      <th>splitFactor</th>\n",
              "    </tr>\n",
              "  </thead>\n",
              "  <tbody>\n",
              "    <tr>\n",
              "      <th>0</th>\n",
              "      <td>AAPL</td>\n",
              "      <td>2017-05-02 00:00:00+00:00</td>\n",
              "      <td>147.51</td>\n",
              "      <td>148.09</td>\n",
              "      <td>146.84</td>\n",
              "      <td>147.54</td>\n",
              "      <td>39752670</td>\n",
              "      <td>34.812924</td>\n",
              "      <td>34.949807</td>\n",
              "      <td>34.654802</td>\n",
              "      <td>34.820004</td>\n",
              "      <td>159010680</td>\n",
              "      <td>0.0</td>\n",
              "      <td>1.0</td>\n",
              "    </tr>\n",
              "    <tr>\n",
              "      <th>1</th>\n",
              "      <td>AAPL</td>\n",
              "      <td>2017-05-03 00:00:00+00:00</td>\n",
              "      <td>147.06</td>\n",
              "      <td>147.49</td>\n",
              "      <td>144.27</td>\n",
              "      <td>145.59</td>\n",
              "      <td>45142806</td>\n",
              "      <td>34.706723</td>\n",
              "      <td>34.808204</td>\n",
              "      <td>34.048272</td>\n",
              "      <td>34.359797</td>\n",
              "      <td>180571224</td>\n",
              "      <td>0.0</td>\n",
              "      <td>1.0</td>\n",
              "    </tr>\n",
              "    <tr>\n",
              "      <th>2</th>\n",
              "      <td>AAPL</td>\n",
              "      <td>2017-05-04 00:00:00+00:00</td>\n",
              "      <td>146.53</td>\n",
              "      <td>147.14</td>\n",
              "      <td>145.81</td>\n",
              "      <td>146.52</td>\n",
              "      <td>23275690</td>\n",
              "      <td>34.581641</td>\n",
              "      <td>34.725603</td>\n",
              "      <td>34.411718</td>\n",
              "      <td>34.579281</td>\n",
              "      <td>93102760</td>\n",
              "      <td>0.0</td>\n",
              "      <td>1.0</td>\n",
              "    </tr>\n",
              "    <tr>\n",
              "      <th>3</th>\n",
              "      <td>AAPL</td>\n",
              "      <td>2017-05-05 00:00:00+00:00</td>\n",
              "      <td>148.96</td>\n",
              "      <td>148.98</td>\n",
              "      <td>146.76</td>\n",
              "      <td>146.76</td>\n",
              "      <td>26787359</td>\n",
              "      <td>35.155130</td>\n",
              "      <td>35.159850</td>\n",
              "      <td>34.635922</td>\n",
              "      <td>34.635922</td>\n",
              "      <td>107149436</td>\n",
              "      <td>0.0</td>\n",
              "      <td>1.0</td>\n",
              "    </tr>\n",
              "    <tr>\n",
              "      <th>4</th>\n",
              "      <td>AAPL</td>\n",
              "      <td>2017-05-08 00:00:00+00:00</td>\n",
              "      <td>153.01</td>\n",
              "      <td>153.70</td>\n",
              "      <td>149.03</td>\n",
              "      <td>149.03</td>\n",
              "      <td>48339210</td>\n",
              "      <td>36.110945</td>\n",
              "      <td>36.273788</td>\n",
              "      <td>35.171650</td>\n",
              "      <td>35.171650</td>\n",
              "      <td>193356840</td>\n",
              "      <td>0.0</td>\n",
              "      <td>1.0</td>\n",
              "    </tr>\n",
              "  </tbody>\n",
              "</table>\n",
              "</div>\n",
              "      <button class=\"colab-df-convert\" onclick=\"convertToInteractive('df-646fecb4-e387-4927-a920-ffca7dcc7c6b')\"\n",
              "              title=\"Convert this dataframe to an interactive table.\"\n",
              "              style=\"display:none;\">\n",
              "        \n",
              "  <svg xmlns=\"http://www.w3.org/2000/svg\" height=\"24px\"viewBox=\"0 0 24 24\"\n",
              "       width=\"24px\">\n",
              "    <path d=\"M0 0h24v24H0V0z\" fill=\"none\"/>\n",
              "    <path d=\"M18.56 5.44l.94 2.06.94-2.06 2.06-.94-2.06-.94-.94-2.06-.94 2.06-2.06.94zm-11 1L8.5 8.5l.94-2.06 2.06-.94-2.06-.94L8.5 2.5l-.94 2.06-2.06.94zm10 10l.94 2.06.94-2.06 2.06-.94-2.06-.94-.94-2.06-.94 2.06-2.06.94z\"/><path d=\"M17.41 7.96l-1.37-1.37c-.4-.4-.92-.59-1.43-.59-.52 0-1.04.2-1.43.59L10.3 9.45l-7.72 7.72c-.78.78-.78 2.05 0 2.83L4 21.41c.39.39.9.59 1.41.59.51 0 1.02-.2 1.41-.59l7.78-7.78 2.81-2.81c.8-.78.8-2.07 0-2.86zM5.41 20L4 18.59l7.72-7.72 1.47 1.35L5.41 20z\"/>\n",
              "  </svg>\n",
              "      </button>\n",
              "      \n",
              "  <style>\n",
              "    .colab-df-container {\n",
              "      display:flex;\n",
              "      flex-wrap:wrap;\n",
              "      gap: 12px;\n",
              "    }\n",
              "\n",
              "    .colab-df-convert {\n",
              "      background-color: #E8F0FE;\n",
              "      border: none;\n",
              "      border-radius: 50%;\n",
              "      cursor: pointer;\n",
              "      display: none;\n",
              "      fill: #1967D2;\n",
              "      height: 32px;\n",
              "      padding: 0 0 0 0;\n",
              "      width: 32px;\n",
              "    }\n",
              "\n",
              "    .colab-df-convert:hover {\n",
              "      background-color: #E2EBFA;\n",
              "      box-shadow: 0px 1px 2px rgba(60, 64, 67, 0.3), 0px 1px 3px 1px rgba(60, 64, 67, 0.15);\n",
              "      fill: #174EA6;\n",
              "    }\n",
              "\n",
              "    [theme=dark] .colab-df-convert {\n",
              "      background-color: #3B4455;\n",
              "      fill: #D2E3FC;\n",
              "    }\n",
              "\n",
              "    [theme=dark] .colab-df-convert:hover {\n",
              "      background-color: #434B5C;\n",
              "      box-shadow: 0px 1px 3px 1px rgba(0, 0, 0, 0.15);\n",
              "      filter: drop-shadow(0px 1px 2px rgba(0, 0, 0, 0.3));\n",
              "      fill: #FFFFFF;\n",
              "    }\n",
              "  </style>\n",
              "\n",
              "      <script>\n",
              "        const buttonEl =\n",
              "          document.querySelector('#df-646fecb4-e387-4927-a920-ffca7dcc7c6b button.colab-df-convert');\n",
              "        buttonEl.style.display =\n",
              "          google.colab.kernel.accessAllowed ? 'block' : 'none';\n",
              "\n",
              "        async function convertToInteractive(key) {\n",
              "          const element = document.querySelector('#df-646fecb4-e387-4927-a920-ffca7dcc7c6b');\n",
              "          const dataTable =\n",
              "            await google.colab.kernel.invokeFunction('convertToInteractive',\n",
              "                                                     [key], {});\n",
              "          if (!dataTable) return;\n",
              "\n",
              "          const docLinkHtml = 'Like what you see? Visit the ' +\n",
              "            '<a target=\"_blank\" href=https://colab.research.google.com/notebooks/data_table.ipynb>data table notebook</a>'\n",
              "            + ' to learn more about interactive tables.';\n",
              "          element.innerHTML = '';\n",
              "          dataTable['output_type'] = 'display_data';\n",
              "          await google.colab.output.renderOutput(dataTable, element);\n",
              "          const docLink = document.createElement('div');\n",
              "          docLink.innerHTML = docLinkHtml;\n",
              "          element.appendChild(docLink);\n",
              "        }\n",
              "      </script>\n",
              "    </div>\n",
              "  </div>\n",
              "  "
            ]
          },
          "metadata": {},
          "execution_count": 4
        }
      ]
    },
    {
      "cell_type": "code",
      "source": [
        "df.tail()"
      ],
      "metadata": {
        "id": "PEAup4U7AcKP"
      },
      "execution_count": null,
      "outputs": []
    },
    {
      "cell_type": "code",
      "source": [
        "df1=df.reset_index()['close']"
      ],
      "metadata": {
        "id": "FKbXoZoWAtO-"
      },
      "execution_count": 5,
      "outputs": []
    },
    {
      "cell_type": "code",
      "source": [
        "df1"
      ],
      "metadata": {
        "colab": {
          "base_uri": "https://localhost:8080/"
        },
        "id": "O4nx3ua9Avsu",
        "outputId": "1ff0d7f8-6292-4a81-9c89-ad692a7bb575"
      },
      "execution_count": 6,
      "outputs": [
        {
          "output_type": "execute_result",
          "data": {
            "text/plain": [
              "0       147.51\n",
              "1       147.06\n",
              "2       146.53\n",
              "3       148.96\n",
              "4       153.01\n",
              "         ...  \n",
              "1254    162.88\n",
              "1255    156.80\n",
              "1256    156.57\n",
              "1257    163.64\n",
              "1258    157.65\n",
              "Name: close, Length: 1259, dtype: float64"
            ]
          },
          "metadata": {},
          "execution_count": 6
        }
      ]
    },
    {
      "cell_type": "code",
      "source": [
        "import matplotlib.pyplot as plt\n",
        "plt.plot(df1)"
      ],
      "metadata": {
        "colab": {
          "base_uri": "https://localhost:8080/",
          "height": 282
        },
        "id": "dMwJZR4JAxmP",
        "outputId": "eee90e4a-4d7f-483f-e53e-dbccf51d804f"
      },
      "execution_count": 7,
      "outputs": [
        {
          "output_type": "execute_result",
          "data": {
            "text/plain": [
              "[<matplotlib.lines.Line2D at 0x7f8d7868be90>]"
            ]
          },
          "metadata": {},
          "execution_count": 7
        },
        {
          "output_type": "display_data",
          "data": {
            "text/plain": [
              "<Figure size 432x288 with 1 Axes>"
            ],
            "image/png": "[encoded data removed]"
          },
          "metadata": {
            "needs_background": "light"
          }
        }
      ]
    },
    {
      "cell_type": "code",
      "source": [
        "### LSTM are sensitive to the scale of the data. so we apply MinMax scaler \n",
        "import numpy as np"
      ],
      "metadata": {
        "id": "QfEUdB4QA4qf"
      },
      "execution_count": 8,
      "outputs": []
    },
    {
      "cell_type": "code",
      "source": [
        "df1"
      ],
      "metadata": {
        "colab": {
          "base_uri": "https://localhost:8080/"
        },
        "id": "65UcV7FHEK3H",
        "outputId": "e0b616c2-d795-4cf1-f128-6043d3bf2843"
      },
      "execution_count": 9,
      "outputs": [
        {
          "output_type": "execute_result",
          "data": {
            "text/plain": [
              "0       147.51\n",
              "1       147.06\n",
              "2       146.53\n",
              "3       148.96\n",
              "4       153.01\n",
              "         ...  \n",
              "1254    162.88\n",
              "1255    156.80\n",
              "1256    156.57\n",
              "1257    163.64\n",
              "1258    157.65\n",
              "Name: close, Length: 1259, dtype: float64"
            ]
          },
          "metadata": {},
          "execution_count": 9
        }
      ]
    },
    {
      "cell_type": "code",
      "source": [
        "from sklearn.preprocessing import MinMaxScaler\n",
        "scaler=MinMaxScaler(feature_range=(0,1))\n",
        "df1=scaler.fit_transform(np.array(df1).reshape(-1,1))"
      ],
      "metadata": {
        "id": "3yXaxCYeEOb9"
      },
      "execution_count": 10,
      "outputs": []
    },
    {
      "cell_type": "code",
      "source": [
        "print(df1)"
      ],
      "metadata": {
        "colab": {
          "base_uri": "https://localhost:8080/"
        },
        "id": "Kb054CAwEZSS",
        "outputId": "e1a98717-f01f-4652-b548-49b3c76fa996"
      },
      "execution_count": 11,
      "outputs": [
        {
          "output_type": "stream",
          "name": "stdout",
          "text": [
            "[[0.101866  ]\n",
            " [0.10073889]\n",
            " [0.0994114 ]\n",
            " ...\n",
            " [0.12455855]\n",
            " [0.14226675]\n",
            " [0.12726362]]\n"
          ]
        }
      ]
    },
    {
      "cell_type": "markdown",
      "source": [
        "For time series data its not a good idea to use randomseed or crossvalidation as previous days data has influence in today value.\n"
      ],
      "metadata": {
        "id": "tQ1Bs_rFGH9y"
      }
    },
    {
      "cell_type": "code",
      "source": [
        "##splitting dataset into train and test split\n",
        "training_size=int(len(df1)*0.65)\n",
        "test_size=len(df1)-training_size\n",
        "train_data,test_data=df1[0:training_size,:],df1[training_size:len(df1),:1]"
      ],
      "metadata": {
        "id": "pyEGh6B5FItK"
      },
      "execution_count": 12,
      "outputs": []
    },
    {
      "cell_type": "code",
      "source": [
        "training_size,test_size"
      ],
      "metadata": {
        "colab": {
          "base_uri": "https://localhost:8080/"
        },
        "id": "UIuszFeSFbIj",
        "outputId": "5ccae66c-62ff-4440-b988-eab53c853161"
      },
      "execution_count": 13,
      "outputs": [
        {
          "output_type": "execute_result",
          "data": {
            "text/plain": [
              "(818, 441)"
            ]
          },
          "metadata": {},
          "execution_count": 13
        }
      ]
    },
    {
      "cell_type": "code",
      "source": [
        "#train_data"
      ],
      "metadata": {
        "id": "k5XkdiXjFcrn"
      },
      "execution_count": 15,
      "outputs": []
    },
    {
      "cell_type": "markdown",
      "source": [
        "**Data Preprocessing**\n",
        "TimeStep - if we want to predict next day output , how many previous days values you have to consider."
      ],
      "metadata": {
        "id": "dkSVRaowIevI"
      }
    },
    {
      "cell_type": "markdown",
      "source": [
        "![image.png](data:image/png;base64,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)"
      ],
      "metadata": {
        "id": "ZiTTYV7II6Lf"
      }
    },
    {
      "cell_type": "code",
      "source": [
        "import numpy\n",
        "# convert an array of values into a dataset matrix\n",
        "def create_dataset(dataset, time_step=1):\n",
        "\tdataX, dataY = [], []\n",
        "\tfor i in range(len(dataset)-time_step-1):\n",
        "\t\ta = dataset[i:(i+time_step), 0]   ###i=0, 0,1,2,3-----99   100 \n",
        "\t\tdataX.append(a)\n",
        "\t\tdataY.append(dataset[i + time_step, 0])\n",
        "\treturn numpy.array(dataX), numpy.array(dataY)"
      ],
      "metadata": {
        "id": "HpxFKOwAFhVu"
      },
      "execution_count": 16,
      "outputs": []
    },
    {
      "cell_type": "code",
      "source": [
        "# reshape into X=t,t+1,t+2,t+3 and Y=t+4\n",
        "time_step = 100\n",
        "X_train, y_train = create_dataset(train_data, time_step)\n",
        "X_test, ytest = create_dataset(test_data, time_step)"
      ],
      "metadata": {
        "id": "hYNWG5k1Fnkr"
      },
      "execution_count": 17,
      "outputs": []
    },
    {
      "cell_type": "code",
      "source": [
        "print(X_train.shape), print(y_train.shape)"
      ],
      "metadata": {
        "colab": {
          "base_uri": "https://localhost:8080/"
        },
        "id": "KeNe5AOtFo_j",
        "outputId": "9c2428ae-7d28-4593-dafc-989fbb7be336"
      },
      "execution_count": 18,
      "outputs": [
        {
          "output_type": "stream",
          "name": "stdout",
          "text": [
            "(717, 100)\n",
            "(717,)\n"
          ]
        },
        {
          "output_type": "execute_result",
          "data": {
            "text/plain": [
              "(None, None)"
            ]
          },
          "metadata": {},
          "execution_count": 18
        }
      ]
    },
    {
      "cell_type": "code",
      "source": [
        "print(X_test.shape), print(ytest.shape)"
      ],
      "metadata": {
        "colab": {
          "base_uri": "https://localhost:8080/"
        },
        "id": "ogW3uFP2FqaL",
        "outputId": "dbc1c48c-2ce7-405e-b7aa-1b4166d295ac"
      },
      "execution_count": 19,
      "outputs": [
        {
          "output_type": "stream",
          "name": "stdout",
          "text": [
            "(340, 100)\n",
            "(340,)\n"
          ]
        },
        {
          "output_type": "execute_result",
          "data": {
            "text/plain": [
              "(None, None)"
            ]
          },
          "metadata": {},
          "execution_count": 19
        }
      ]
    },
    {
      "cell_type": "code",
      "source": [
        "# Above shape is 2D. we have to reshape input (into a 3D) to be [samples, time steps, features] which is required for LSTM\n",
        "X_train =X_train.reshape(X_train.shape[0],X_train.shape[1] , 1)\n",
        "X_test = X_test.reshape(X_test.shape[0],X_test.shape[1] , 1)"
      ],
      "metadata": {
        "id": "U-lqpquaFsS6"
      },
      "execution_count": 20,
      "outputs": []
    },
    {
      "cell_type": "code",
      "source": [
        "### Create the Stacked LSTM model\n",
        "from tensorflow.keras.models import Sequential\n",
        "from tensorflow.keras.layers import Dense\n",
        "from tensorflow.keras.layers import LSTM"
      ],
      "metadata": {
        "id": "oZeVDKbVJ2Hv"
      },
      "execution_count": 21,
      "outputs": []
    },
    {
      "cell_type": "code",
      "source": [
        "model=Sequential()\n",
        "model.add(LSTM(50,return_sequences=True,input_shape=(100,1)))\n",
        "model.add(LSTM(50,return_sequences=True))\n",
        "model.add(LSTM(50))\n",
        "model.add(Dense(1))\n",
        "model.compile(loss='mean_squared_error',optimizer='adam')"
      ],
      "metadata": {
        "id": "OEEd_O6_J7EB"
      },
      "execution_count": 22,
      "outputs": []
    },
    {
      "cell_type": "code",
      "source": [
        "model.summary()"
      ],
      "metadata": {
        "colab": {
          "base_uri": "https://localhost:8080/"
        },
        "id": "rbO1d6-aJ-Rg",
        "outputId": "a808a6cc-046f-446f-9ccb-486240cda2c6"
      },
      "execution_count": 23,
      "outputs": [
        {
          "output_type": "stream",
          "name": "stdout",
          "text": [
            "Model: \"sequential\"\n",
            "_________________________________________________________________\n",
            " Layer (type)                Output Shape              Param #   \n",
            "=================================================================\n",
            " lstm (LSTM)                 (None, 100, 50)           10400     \n",
            "                                                                 \n",
            " lstm_1 (LSTM)               (None, 100, 50)           20200     \n",
            "                                                                 \n",
            " lstm_2 (LSTM)               (None, 50)                20200     \n",
            "                                                                 \n",
            " dense (Dense)               (None, 1)                 51        \n",
            "                                                                 \n",
            "=================================================================\n",
            "Total params: 50,851\n",
            "Trainable params: 50,851\n",
            "Non-trainable params: 0\n",
            "_________________________________________________________________\n"
          ]
        }
      ]
    },
    {
      "cell_type": "code",
      "source": [
        "model.summary()"
      ],
      "metadata": {
        "colab": {
          "base_uri": "https://localhost:8080/"
        },
        "id": "EzryB5oUKABg",
        "outputId": "bb175cc0-0f40-4e65-eec1-4a92114a71bc"
      },
      "execution_count": 24,
      "outputs": [
        {
          "output_type": "stream",
          "name": "stdout",
          "text": [
            "Model: \"sequential\"\n",
            "_________________________________________________________________\n",
            " Layer (type)                Output Shape              Param #   \n",
            "=================================================================\n",
            " lstm (LSTM)                 (None, 100, 50)           10400     \n",
            "                                                                 \n",
            " lstm_1 (LSTM)               (None, 100, 50)           20200     \n",
            "                                                                 \n",
            " lstm_2 (LSTM)               (None, 50)                20200     \n",
            "                                                                 \n",
            " dense (Dense)               (None, 1)                 51        \n",
            "                                                                 \n",
            "=================================================================\n",
            "Total params: 50,851\n",
            "Trainable params: 50,851\n",
            "Non-trainable params: 0\n",
            "_________________________________________________________________\n"
          ]
        }
      ]
    },
    {
      "cell_type": "code",
      "source": [
        "model.fit(X_train,y_train,validation_data=(X_test,ytest),epochs=100,batch_size=64,verbose=1)"
      ],
      "metadata": {
        "colab": {
          "base_uri": "https://localhost:8080/"
        },
        "id": "Asjov_ElKCgu",
        "outputId": "bc025d52-a8d4-435b-8631-3901a7f7886b"
      },
      "execution_count": 25,
      "outputs": [
        {
          "output_type": "stream",
          "name": "stdout",
          "text": [
            "Epoch 1/100\n",
            "12/12 [==============================] - 9s 304ms/step - loss: 0.0298 - val_loss: 0.0017\n",
            "Epoch 2/100\n",
            "12/12 [==============================] - 2s 185ms/step - loss: 0.0063 - val_loss: 0.0073\n",
            "Epoch 3/100\n",
            "12/12 [==============================] - 2s 185ms/step - loss: 0.0027 - val_loss: 6.6968e-04\n",
            "Epoch 4/100\n",
            "12/12 [==============================] - 2s 184ms/step - loss: 0.0014 - val_loss: 3.0261e-04\n",
            "Epoch 5/100\n",
            "12/12 [==============================] - 2s 182ms/step - loss: 0.0010 - val_loss: 2.6972e-04\n",
            "Epoch 6/100\n",
            "12/12 [==============================] - 2s 186ms/step - loss: 9.8853e-04 - val_loss: 2.6499e-04\n",
            "Epoch 7/100\n",
            "12/12 [==============================] - 2s 184ms/step - loss: 9.5892e-04 - val_loss: 2.6716e-04\n",
            "Epoch 8/100\n",
            "12/12 [==============================] - 2s 182ms/step - loss: 9.7486e-04 - val_loss: 3.2454e-04\n",
            "Epoch 9/100\n",
            "12/12 [==============================] - 3s 228ms/step - loss: 8.7644e-04 - val_loss: 2.5421e-04\n",
            "Epoch 10/100\n",
            "12/12 [==============================] - 3s 209ms/step - loss: 9.2195e-04 - val_loss: 2.4587e-04\n",
            "Epoch 11/100\n",
            "12/12 [==============================] - 2s 183ms/step - loss: 8.2307e-04 - val_loss: 2.8401e-04\n",
            "Epoch 12/100\n",
            "12/12 [==============================] - 2s 182ms/step - loss: 7.3815e-04 - val_loss: 2.5395e-04\n",
            "Epoch 13/100\n",
            "12/12 [==============================] - 2s 186ms/step - loss: 6.8402e-04 - val_loss: 2.9424e-04\n",
            "Epoch 14/100\n",
            "12/12 [==============================] - 3s 294ms/step - loss: 6.6587e-04 - val_loss: 2.4983e-04\n",
            "Epoch 15/100\n",
            "12/12 [==============================] - 3s 236ms/step - loss: 6.2743e-04 - val_loss: 2.4840e-04\n",
            "Epoch 16/100\n",
            "12/12 [==============================] - 3s 256ms/step - loss: 5.8745e-04 - val_loss: 2.3237e-04\n",
            "Epoch 17/100\n",
            "12/12 [==============================] - 2s 182ms/step - loss: 6.3704e-04 - val_loss: 2.4740e-04\n",
            "Epoch 18/100\n",
            "12/12 [==============================] - 2s 197ms/step - loss: 5.8386e-04 - val_loss: 2.3341e-04\n",
            "Epoch 19/100\n",
            "12/12 [==============================] - 3s 279ms/step - loss: 5.5640e-04 - val_loss: 2.2492e-04\n",
            "Epoch 20/100\n",
            "12/12 [==============================] - 4s 296ms/step - loss: 5.6220e-04 - val_loss: 2.2091e-04\n",
            "Epoch 21/100\n",
            "12/12 [==============================] - 3s 293ms/step - loss: 5.4012e-04 - val_loss: 2.2018e-04\n",
            "Epoch 22/100\n",
            "12/12 [==============================] - 3s 234ms/step - loss: 5.1848e-04 - val_loss: 2.3277e-04\n",
            "Epoch 23/100\n",
            "12/12 [==============================] - 3s 267ms/step - loss: 5.7781e-04 - val_loss: 2.1509e-04\n",
            "Epoch 24/100\n",
            "12/12 [==============================] - 4s 312ms/step - loss: 5.5107e-04 - val_loss: 2.2259e-04\n",
            "Epoch 25/100\n",
            "12/12 [==============================] - 4s 373ms/step - loss: 4.8778e-04 - val_loss: 2.4689e-04\n",
            "Epoch 26/100\n",
            "12/12 [==============================] - 4s 318ms/step - loss: 5.2497e-04 - val_loss: 2.1167e-04\n",
            "Epoch 27/100\n",
            "12/12 [==============================] - 3s 285ms/step - loss: 5.1614e-04 - val_loss: 2.5368e-04\n",
            "Epoch 28/100\n",
            "12/12 [==============================] - 4s 318ms/step - loss: 5.0199e-04 - val_loss: 2.0688e-04\n",
            "Epoch 29/100\n",
            "12/12 [==============================] - 3s 286ms/step - loss: 4.6545e-04 - val_loss: 2.2162e-04\n",
            "Epoch 30/100\n",
            "12/12 [==============================] - 3s 247ms/step - loss: 4.5378e-04 - val_loss: 2.0044e-04\n",
            "Epoch 31/100\n",
            "12/12 [==============================] - 3s 253ms/step - loss: 5.0201e-04 - val_loss: 2.6283e-04\n",
            "Epoch 32/100\n",
            "12/12 [==============================] - 4s 354ms/step - loss: 4.8484e-04 - val_loss: 1.9758e-04\n",
            "Epoch 33/100\n",
            "12/12 [==============================] - 3s 285ms/step - loss: 5.6756e-04 - val_loss: 2.0362e-04\n",
            "Epoch 34/100\n",
            "12/12 [==============================] - 2s 185ms/step - loss: 4.5839e-04 - val_loss: 1.9690e-04\n",
            "Epoch 35/100\n",
            "12/12 [==============================] - 2s 182ms/step - loss: 4.6003e-04 - val_loss: 1.9292e-04\n",
            "Epoch 36/100\n",
            "12/12 [==============================] - 2s 186ms/step - loss: 4.7580e-04 - val_loss: 1.9425e-04\n",
            "Epoch 37/100\n",
            "12/12 [==============================] - 4s 305ms/step - loss: 4.8094e-04 - val_loss: 2.1224e-04\n",
            "Epoch 38/100\n",
            "12/12 [==============================] - 3s 217ms/step - loss: 4.8462e-04 - val_loss: 2.3514e-04\n",
            "Epoch 39/100\n",
            "12/12 [==============================] - 2s 185ms/step - loss: 4.5375e-04 - val_loss: 1.9898e-04\n",
            "Epoch 40/100\n",
            "12/12 [==============================] - 2s 183ms/step - loss: 4.3772e-04 - val_loss: 2.2883e-04\n",
            "Epoch 41/100\n",
            "12/12 [==============================] - 2s 184ms/step - loss: 4.5594e-04 - val_loss: 1.8904e-04\n",
            "Epoch 42/100\n",
            "12/12 [==============================] - 2s 183ms/step - loss: 4.6797e-04 - val_loss: 2.3235e-04\n",
            "Epoch 43/100\n",
            "12/12 [==============================] - 3s 224ms/step - loss: 4.3290e-04 - val_loss: 1.8322e-04\n",
            "Epoch 44/100\n",
            "12/12 [==============================] - 5s 373ms/step - loss: 4.1941e-04 - val_loss: 1.9933e-04\n",
            "Epoch 45/100\n",
            "12/12 [==============================] - 4s 307ms/step - loss: 4.3847e-04 - val_loss: 2.0127e-04\n",
            "Epoch 46/100\n",
            "12/12 [==============================] - 4s 311ms/step - loss: 4.1112e-04 - val_loss: 1.8558e-04\n",
            "Epoch 47/100\n",
            "12/12 [==============================] - 3s 291ms/step - loss: 4.1238e-04 - val_loss: 1.9732e-04\n",
            "Epoch 48/100\n",
            "12/12 [==============================] - 4s 317ms/step - loss: 4.1310e-04 - val_loss: 1.9848e-04\n",
            "Epoch 49/100\n",
            "12/12 [==============================] - 3s 234ms/step - loss: 4.0420e-04 - val_loss: 1.8641e-04\n",
            "Epoch 50/100\n",
            "12/12 [==============================] - 3s 265ms/step - loss: 4.1495e-04 - val_loss: 2.7472e-04\n",
            "Epoch 51/100\n",
            "12/12 [==============================] - 3s 253ms/step - loss: 4.4842e-04 - val_loss: 2.1562e-04\n",
            "Epoch 52/100\n",
            "12/12 [==============================] - 2s 188ms/step - loss: 5.0382e-04 - val_loss: 1.8251e-04\n",
            "Epoch 53/100\n",
            "12/12 [==============================] - 2s 186ms/step - loss: 5.8435e-04 - val_loss: 2.8404e-04\n",
            "Epoch 54/100\n",
            "12/12 [==============================] - 2s 186ms/step - loss: 4.6307e-04 - val_loss: 1.8223e-04\n",
            "Epoch 55/100\n",
            "12/12 [==============================] - 2s 187ms/step - loss: 4.4486e-04 - val_loss: 1.8544e-04\n",
            "Epoch 56/100\n",
            "12/12 [==============================] - 2s 186ms/step - loss: 4.6570e-04 - val_loss: 1.8544e-04\n",
            "Epoch 57/100\n",
            "12/12 [==============================] - 2s 185ms/step - loss: 4.6735e-04 - val_loss: 2.1485e-04\n",
            "Epoch 58/100\n",
            "12/12 [==============================] - 2s 189ms/step - loss: 4.3247e-04 - val_loss: 1.7786e-04\n",
            "Epoch 59/100\n",
            "12/12 [==============================] - 2s 186ms/step - loss: 3.9314e-04 - val_loss: 1.7132e-04\n",
            "Epoch 60/100\n",
            "12/12 [==============================] - 2s 184ms/step - loss: 4.2415e-04 - val_loss: 1.9868e-04\n",
            "Epoch 61/100\n",
            "12/12 [==============================] - 2s 186ms/step - loss: 4.4116e-04 - val_loss: 1.9875e-04\n",
            "Epoch 62/100\n",
            "12/12 [==============================] - 2s 186ms/step - loss: 4.2905e-04 - val_loss: 1.7589e-04\n",
            "Epoch 63/100\n",
            "12/12 [==============================] - 3s 235ms/step - loss: 4.1010e-04 - val_loss: 1.9893e-04\n",
            "Epoch 64/100\n",
            "12/12 [==============================] - 2s 185ms/step - loss: 3.8211e-04 - val_loss: 2.0368e-04\n",
            "Epoch 65/100\n",
            "12/12 [==============================] - 2s 186ms/step - loss: 4.0289e-04 - val_loss: 1.6546e-04\n",
            "Epoch 66/100\n",
            "12/12 [==============================] - 2s 188ms/step - loss: 4.0752e-04 - val_loss: 2.7227e-04\n",
            "Epoch 67/100\n",
            "12/12 [==============================] - 2s 186ms/step - loss: 4.9206e-04 - val_loss: 1.6968e-04\n",
            "Epoch 68/100\n",
            "12/12 [==============================] - 2s 184ms/step - loss: 5.1428e-04 - val_loss: 1.8646e-04\n",
            "Epoch 69/100\n",
            "12/12 [==============================] - 2s 187ms/step - loss: 4.1857e-04 - val_loss: 1.7994e-04\n",
            "Epoch 70/100\n",
            "12/12 [==============================] - 2s 186ms/step - loss: 4.0196e-04 - val_loss: 1.6792e-04\n",
            "Epoch 71/100\n",
            "12/12 [==============================] - 2s 185ms/step - loss: 3.9054e-04 - val_loss: 2.0406e-04\n",
            "Epoch 72/100\n",
            "12/12 [==============================] - 2s 185ms/step - loss: 4.0761e-04 - val_loss: 2.0337e-04\n",
            "Epoch 73/100\n",
            "12/12 [==============================] - 2s 186ms/step - loss: 3.7619e-04 - val_loss: 1.7123e-04\n",
            "Epoch 74/100\n",
            "12/12 [==============================] - 2s 186ms/step - loss: 3.7087e-04 - val_loss: 1.8111e-04\n",
            "Epoch 75/100\n",
            "12/12 [==============================] - 2s 185ms/step - loss: 3.5876e-04 - val_loss: 1.7527e-04\n",
            "Epoch 76/100\n",
            "12/12 [==============================] - 2s 186ms/step - loss: 3.6186e-04 - val_loss: 1.7358e-04\n",
            "Epoch 77/100\n",
            "12/12 [==============================] - 2s 188ms/step - loss: 3.5815e-04 - val_loss: 2.2716e-04\n",
            "Epoch 78/100\n",
            "12/12 [==============================] - 2s 183ms/step - loss: 3.5434e-04 - val_loss: 2.0010e-04\n",
            "Epoch 79/100\n",
            "12/12 [==============================] - 2s 186ms/step - loss: 3.6327e-04 - val_loss: 2.6432e-04\n",
            "Epoch 80/100\n",
            "12/12 [==============================] - 2s 185ms/step - loss: 3.7229e-04 - val_loss: 2.0920e-04\n",
            "Epoch 81/100\n",
            "12/12 [==============================] - 2s 185ms/step - loss: 3.9955e-04 - val_loss: 1.5856e-04\n",
            "Epoch 82/100\n",
            "12/12 [==============================] - 2s 189ms/step - loss: 3.7620e-04 - val_loss: 1.6168e-04\n",
            "Epoch 83/100\n",
            "12/12 [==============================] - 2s 186ms/step - loss: 3.8827e-04 - val_loss: 1.7939e-04\n",
            "Epoch 84/100\n",
            "12/12 [==============================] - 2s 190ms/step - loss: 3.4588e-04 - val_loss: 1.9621e-04\n",
            "Epoch 85/100\n",
            "12/12 [==============================] - 2s 205ms/step - loss: 3.6752e-04 - val_loss: 1.8018e-04\n",
            "Epoch 86/100\n",
            "12/12 [==============================] - 4s 316ms/step - loss: 3.8159e-04 - val_loss: 1.5167e-04\n",
            "Epoch 87/100\n",
            "12/12 [==============================] - 2s 185ms/step - loss: 4.2412e-04 - val_loss: 2.3931e-04\n",
            "Epoch 88/100\n",
            "12/12 [==============================] - 2s 184ms/step - loss: 3.8631e-04 - val_loss: 1.9885e-04\n",
            "Epoch 89/100\n",
            "12/12 [==============================] - 2s 188ms/step - loss: 3.7920e-04 - val_loss: 1.9406e-04\n",
            "Epoch 90/100\n",
            "12/12 [==============================] - 2s 188ms/step - loss: 4.1875e-04 - val_loss: 2.0244e-04\n",
            "Epoch 91/100\n",
            "12/12 [==============================] - 2s 194ms/step - loss: 3.7991e-04 - val_loss: 1.5908e-04\n",
            "Epoch 92/100\n",
            "12/12 [==============================] - 2s 188ms/step - loss: 3.3218e-04 - val_loss: 1.7405e-04\n",
            "Epoch 93/100\n",
            "12/12 [==============================] - 2s 186ms/step - loss: 3.8312e-04 - val_loss: 1.5839e-04\n",
            "Epoch 94/100\n",
            "12/12 [==============================] - 2s 190ms/step - loss: 3.3764e-04 - val_loss: 1.9083e-04\n",
            "Epoch 95/100\n",
            "12/12 [==============================] - 2s 189ms/step - loss: 3.3902e-04 - val_loss: 1.6505e-04\n",
            "Epoch 96/100\n",
            "12/12 [==============================] - 2s 186ms/step - loss: 3.2279e-04 - val_loss: 1.7321e-04\n",
            "Epoch 97/100\n",
            "12/12 [==============================] - 2s 189ms/step - loss: 3.1843e-04 - val_loss: 1.9557e-04\n",
            "Epoch 98/100\n",
            "12/12 [==============================] - 2s 187ms/step - loss: 3.1698e-04 - val_loss: 1.6319e-04\n",
            "Epoch 99/100\n",
            "12/12 [==============================] - 2s 187ms/step - loss: 3.2988e-04 - val_loss: 1.6240e-04\n",
            "Epoch 100/100\n",
            "12/12 [==============================] - 2s 190ms/step - loss: 3.7948e-04 - val_loss: 1.4290e-04\n"
          ]
        },
        {
          "output_type": "execute_result",
          "data": {
            "text/plain": [
              "<keras.callbacks.History at 0x7f8cff6b6150>"
            ]
          },
          "metadata": {},
          "execution_count": 25
        }
      ]
    },
    {
      "cell_type": "code",
      "source": [
        "import tensorflow as tf"
      ],
      "metadata": {
        "id": "r3bPRonLKJ89"
      },
      "execution_count": 26,
      "outputs": []
    },
    {
      "cell_type": "code",
      "source": [
        "### Lets Do the prediction and check performance metrics\n",
        "train_predict=model.predict(X_train)\n",
        "test_predict=model.predict(X_test)"
      ],
      "metadata": {
        "id": "UqajulVeKNCV"
      },
      "execution_count": 27,
      "outputs": []
    },
    {
      "cell_type": "code",
      "source": [
        "##Transformback to original form\n",
        "train_predict=scaler.inverse_transform(train_predict)\n",
        "test_predict=scaler.inverse_transform(test_predict)"
      ],
      "metadata": {
        "id": "btK2JlwtKPyV"
      },
      "execution_count": 28,
      "outputs": []
    },
    {
      "cell_type": "code",
      "source": [
        "### Calculate RMSE performance metrics\n",
        "import math\n",
        "from sklearn.metrics import mean_squared_error\n",
        "math.sqrt(mean_squared_error(y_train,train_predict))"
      ],
      "metadata": {
        "colab": {
          "base_uri": "https://localhost:8080/"
        },
        "id": "XSEODpKJKQNH",
        "outputId": "747300f5-fe77-4022-fcbb-17fa0417eaf2"
      },
      "execution_count": 29,
      "outputs": [
        {
          "output_type": "execute_result",
          "data": {
            "text/plain": [
              "221.06929359362036"
            ]
          },
          "metadata": {},
          "execution_count": 29
        }
      ]
    },
    {
      "cell_type": "code",
      "source": [
        "### Test Data RMSE\n",
        "math.sqrt(mean_squared_error(ytest,test_predict))"
      ],
      "metadata": {
        "colab": {
          "base_uri": "https://localhost:8080/"
        },
        "id": "c8frdrA_KRm1",
        "outputId": "e5c20dc5-5809-4bb2-aa67-922839ae7e6f"
      },
      "execution_count": 30,
      "outputs": [
        {
          "output_type": "execute_result",
          "data": {
            "text/plain": [
              "147.81654679700154"
            ]
          },
          "metadata": {},
          "execution_count": 30
        }
      ]
    },
    {
      "cell_type": "code",
      "source": [
        "### Plotting \n",
        "# shift train predictions for plotting\n",
        "look_back=100\n",
        "trainPredictPlot = numpy.empty_like(df1)\n",
        "trainPredictPlot[:, :] = np.nan\n",
        "trainPredictPlot[look_back:len(train_predict)+look_back, :] = train_predict\n",
        "# shift test predictions for plotting\n",
        "testPredictPlot = numpy.empty_like(df1)\n",
        "testPredictPlot[:, :] = numpy.nan\n",
        "testPredictPlot[len(train_predict)+(look_back*2)+1:len(df1)-1, :] = test_predict\n",
        "# plot baseline and predictions\n",
        "plt.plot(scaler.inverse_transform(df1))\n",
        "plt.plot(trainPredictPlot)\n",
        "plt.plot(testPredictPlot)\n",
        "plt.show()"
      ],
      "metadata": {
        "colab": {
          "base_uri": "https://localhost:8080/",
          "height": 265
        },
        "id": "rk_CRDakKS6Y",
        "outputId": "c270a0b6-374f-4b48-a80d-96cd73f9560e"
      },
      "execution_count": 31,
      "outputs": [
        {
          "output_type": "display_data",
          "data": {
            "text/plain": [
              "<Figure size 432x288 with 1 Axes>"
            ],
            "image/png": "[encoded data removed]"
          },
          "metadata": {
            "needs_background": "light"
          }
        }
      ]
    },
    {
      "cell_type": "markdown",
      "source": [
        "orange - train data , green - predicted"
      ],
      "metadata": {
        "id": "mtGDnvmJLyjJ"
      }
    },
    {
      "cell_type": "code",
      "source": [
        "len(test_data)"
      ],
      "metadata": {
        "colab": {
          "base_uri": "https://localhost:8080/"
        },
        "id": "_zK6av3YKUae",
        "outputId": "99e7f56e-f833-4db7-c9bf-ee1fb408663a"
      },
      "execution_count": 32,
      "outputs": [
        {
          "output_type": "execute_result",
          "data": {
            "text/plain": [
              "441"
            ]
          },
          "metadata": {},
          "execution_count": 32
        }
      ]
    },
    {
      "cell_type": "markdown",
      "source": [
        "Suppose last day in my dataset is 22 may, to predict for 23rd may i have to take previous 100 days data . 441-100"
      ],
      "metadata": {
        "id": "13Nv1levMILf"
      }
    },
    {
      "cell_type": "code",
      "source": [
        "x_input=test_data[341:].reshape(1,-1)\n",
        "x_input.shape"
      ],
      "metadata": {
        "colab": {
          "base_uri": "https://localhost:8080/"
        },
        "id": "_f2ahm_mKVvO",
        "outputId": "09813268-3ccd-4b22-c1fb-e11771cfb729"
      },
      "execution_count": 33,
      "outputs": [
        {
          "output_type": "execute_result",
          "data": {
            "text/plain": [
              "(1, 100)"
            ]
          },
          "metadata": {},
          "execution_count": 33
        }
      ]
    },
    {
      "cell_type": "code",
      "source": [
        "temp_input=list(x_input)\n",
        "temp_input=temp_input[0].tolist()"
      ],
      "metadata": {
        "id": "QgpoIyRPKYDr"
      },
      "execution_count": 34,
      "outputs": []
    },
    {
      "cell_type": "code",
      "source": [
        "temp_input"
      ],
      "metadata": {
        "colab": {
          "base_uri": "https://localhost:8080/"
        },
        "id": "XEFbu11aKYof",
        "outputId": "f3d74348-70c1-4557-a0b7-9cc17b1c3a2d"
      },
      "execution_count": 35,
      "outputs": [
        {
          "output_type": "execute_result",
          "data": {
            "text/plain": [
              "[0.1611521603005635,\n",
              " 0.17092047589229803,\n",
              " 0.16961803381340007,\n",
              " 0.18186599874765175,\n",
              " 0.17257357545397617,\n",
              " 0.16904195366311836,\n",
              " 0.1814902943018159,\n",
              " 0.1638572323105823,\n",
              " 0.16105197244834057,\n",
              " 0.1575704445835942,\n",
              " 0.1656856606136506,\n",
              " 0.1723231058234188,\n",
              " 0.17392611145898557,\n",
              " 0.18407013149655604,\n",
              " 0.18146524733876013,\n",
              " 0.1816906700062617,\n",
              " 0.1787351283656856,\n",
              " 0.17715716969317463,\n",
              " 0.18827802128991855,\n",
              " 0.182492172824045,\n",
              " 0.1705197244834063,\n",
              " 0.16320601127113332,\n",
              " 0.16363180964308072,\n",
              " 0.1636819035691922,\n",
              " 0.17092047589229803,\n",
              " 0.17204758922980584,\n",
              " 0.1636819035691922,\n",
              " 0.1658860363180964,\n",
              " 0.15769567939887286,\n",
              " 0.1487539135879774,\n",
              " 0.1444458359423919,\n",
              " 0.13918597370068875,\n",
              " 0.13720726361928615,\n",
              " 0.1325986224170319,\n",
              " 0.13237319974953032,\n",
              " 0.13119599248591102,\n",
              " 0.15902316844082653,\n",
              " 0.17016906700062612,\n",
              " 0.16974326862867878,\n",
              " 0.17282404508453347,\n",
              " 0.165460237946149,\n",
              " 0.16418284283030676,\n",
              " 0.16235441452723853,\n",
              " 0.17029430181590482,\n",
              " 0.17392611145898557,\n",
              " 0.16350657482780212,\n",
              " 0.1547902316844082,\n",
              " 0.15539135879774574,\n",
              " 0.16518472135253592,\n",
              " 0.1645835942391985,\n",
              " 0.15539135879774574,\n",
              " 0.15143393863494048,\n",
              " 0.14396994364433308,\n",
              " 0.13332498434564805,\n",
              " 0.14001252348152782,\n",
              " 0.14529743268628675,\n",
              " 0.14597370068879145,\n",
              " 0.14116468378209135,\n",
              " 0.14958046336881647,\n",
              " 0.1487539135879774,\n",
              " 0.14108954289292414,\n",
              " 0.13139636819035688,\n",
              " 0.1267376330619912,\n",
              " 0.1405385097056981,\n",
              " 0.12944270507201,\n",
              " 0.11994990607388845,\n",
              " 0.10965560425798371,\n",
              " 0.12085159674389478,\n",
              " 0.13212273011897302,\n",
              " 0.13470256731371316,\n",
              " 0.14311834690043823,\n",
              " 0.14662492172824038,\n",
              " 0.1552410770194113,\n",
              " 0.1587226048841578,\n",
              " 0.16839073262366933,\n",
              " 0.17001878522229175,\n",
              " 0.17222291797119593,\n",
              " 0.18063869755792106,\n",
              " 0.1776581089542893,\n",
              " 0.16974326862867878,\n",
              " 0.16899185973700687,\n",
              " 0.1793362554790231,\n",
              " 0.17087038196618654,\n",
              " 0.16278021289918598,\n",
              " 0.1635566687539135,\n",
              " 0.158422041327489,\n",
              " 0.14755165936130238,\n",
              " 0.1523356293049467,\n",
              " 0.15919849718221663,\n",
              " 0.14639949906073885,\n",
              " 0.1458484658735128,\n",
              " 0.15168440826549778,\n",
              " 0.15125860989355033,\n",
              " 0.14922980588603624,\n",
              " 0.13763306199123349,\n",
              " 0.140363180964308,\n",
              " 0.1251346274264245,\n",
              " 0.12455854727614268,\n",
              " 0.14226675015654344,\n",
              " 0.12726361928616153]"
            ]
          },
          "metadata": {},
          "execution_count": 35
        }
      ]
    },
    {
      "cell_type": "code",
      "source": [
        "# demonstrate prediction for next 30 days\n",
        "from numpy import array\n",
        "\n",
        "lst_output=[]\n",
        "n_steps=100\n",
        "i=0\n",
        "while(i<30):\n",
        "    \n",
        "    if(len(temp_input)>100):\n",
        "        #print(temp_input)\n",
        "        x_input=np.array(temp_input[1:])\n",
        "        print(\"{} day input {}\".format(i,x_input))\n",
        "        x_input=x_input.reshape(1,-1)\n",
        "        x_input = x_input.reshape((1, n_steps, 1))\n",
        "        #print(x_input)\n",
        "        yhat = model.predict(x_input, verbose=0)\n",
        "        print(\"{} day output {}\".format(i,yhat))\n",
        "        temp_input.extend(yhat[0].tolist())\n",
        "        temp_input=temp_input[1:]\n",
        "        #print(temp_input)\n",
        "        lst_output.extend(yhat.tolist())\n",
        "        i=i+1\n",
        "    else:\n",
        "        x_input = x_input.reshape((1, n_steps,1))\n",
        "        yhat = model.predict(x_input, verbose=0)\n",
        "        print(yhat[0])\n",
        "        temp_input.extend(yhat[0].tolist())\n",
        "        print(len(temp_input))\n",
        "        lst_output.extend(yhat.tolist())\n",
        "        i=i+1\n",
        "    \n",
        "\n",
        "print(lst_output)"
      ],
      "metadata": {
        "colab": {
          "base_uri": "https://localhost:8080/"
        },
        "id": "96ghYp0TKamr",
        "outputId": "97f153ba-d70d-4ef9-8b17-36be42c4b510"
      },
      "execution_count": 36,
      "outputs": [
        {
          "output_type": "stream",
          "name": "stdout",
          "text": [
            "[0.13183106]\n",
            "101\n",
            "1 day input [0.17092048 0.16961803 0.181866   0.17257358 0.16904195 0.18149029\n",
            " 0.16385723 0.16105197 0.15757044 0.16568566 0.17232311 0.17392611\n",
            " 0.18407013 0.18146525 0.18169067 0.17873513 0.17715717 0.18827802\n",
            " 0.18249217 0.17051972 0.16320601 0.16363181 0.1636819  0.17092048\n",
            " 0.17204759 0.1636819  0.16588604 0.15769568 0.14875391 0.14444584\n",
            " 0.13918597 0.13720726 0.13259862 0.1323732  0.13119599 0.15902317\n",
            " 0.17016907 0.16974327 0.17282405 0.16546024 0.16418284 0.16235441\n",
            " 0.1702943  0.17392611 0.16350657 0.15479023 0.15539136 0.16518472\n",
            " 0.16458359 0.15539136 0.15143394 0.14396994 0.13332498 0.14001252\n",
            " 0.14529743 0.1459737  0.14116468 0.14958046 0.14875391 0.14108954\n",
            " 0.13139637 0.12673763 0.14053851 0.12944271 0.11994991 0.1096556\n",
            " 0.1208516  0.13212273 0.13470257 0.14311835 0.14662492 0.15524108\n",
            " 0.1587226  0.16839073 0.17001879 0.17222292 0.1806387  0.17765811\n",
            " 0.16974327 0.16899186 0.17933626 0.17087038 0.16278021 0.16355667\n",
            " 0.15842204 0.14755166 0.15233563 0.1591985  0.1463995  0.14584847\n",
            " 0.15168441 0.15125861 0.14922981 0.13763306 0.14036318 0.12513463\n",
            " 0.12455855 0.14226675 0.12726362 0.13183106]\n",
            "1 day output [[0.13014102]]\n",
            "2 day input [0.16961803 0.181866   0.17257358 0.16904195 0.18149029 0.16385723\n",
            " 0.16105197 0.15757044 0.16568566 0.17232311 0.17392611 0.18407013\n",
            " 0.18146525 0.18169067 0.17873513 0.17715717 0.18827802 0.18249217\n",
            " 0.17051972 0.16320601 0.16363181 0.1636819  0.17092048 0.17204759\n",
            " 0.1636819  0.16588604 0.15769568 0.14875391 0.14444584 0.13918597\n",
            " 0.13720726 0.13259862 0.1323732  0.13119599 0.15902317 0.17016907\n",
            " 0.16974327 0.17282405 0.16546024 0.16418284 0.16235441 0.1702943\n",
            " 0.17392611 0.16350657 0.15479023 0.15539136 0.16518472 0.16458359\n",
            " 0.15539136 0.15143394 0.14396994 0.13332498 0.14001252 0.14529743\n",
            " 0.1459737  0.14116468 0.14958046 0.14875391 0.14108954 0.13139637\n",
            " 0.12673763 0.14053851 0.12944271 0.11994991 0.1096556  0.1208516\n",
            " 0.13212273 0.13470257 0.14311835 0.14662492 0.15524108 0.1587226\n",
            " 0.16839073 0.17001879 0.17222292 0.1806387  0.17765811 0.16974327\n",
            " 0.16899186 0.17933626 0.17087038 0.16278021 0.16355667 0.15842204\n",
            " 0.14755166 0.15233563 0.1591985  0.1463995  0.14584847 0.15168441\n",
            " 0.15125861 0.14922981 0.13763306 0.14036318 0.12513463 0.12455855\n",
            " 0.14226675 0.12726362 0.13183106 0.13014102]\n",
            "2 day output [[0.12883201]]\n",
            "3 day input [0.181866   0.17257358 0.16904195 0.18149029 0.16385723 0.16105197\n",
            " 0.15757044 0.16568566 0.17232311 0.17392611 0.18407013 0.18146525\n",
            " 0.18169067 0.17873513 0.17715717 0.18827802 0.18249217 0.17051972\n",
            " 0.16320601 0.16363181 0.1636819  0.17092048 0.17204759 0.1636819\n",
            " 0.16588604 0.15769568 0.14875391 0.14444584 0.13918597 0.13720726\n",
            " 0.13259862 0.1323732  0.13119599 0.15902317 0.17016907 0.16974327\n",
            " 0.17282405 0.16546024 0.16418284 0.16235441 0.1702943  0.17392611\n",
            " 0.16350657 0.15479023 0.15539136 0.16518472 0.16458359 0.15539136\n",
            " 0.15143394 0.14396994 0.13332498 0.14001252 0.14529743 0.1459737\n",
            " 0.14116468 0.14958046 0.14875391 0.14108954 0.13139637 0.12673763\n",
            " 0.14053851 0.12944271 0.11994991 0.1096556  0.1208516  0.13212273\n",
            " 0.13470257 0.14311835 0.14662492 0.15524108 0.1587226  0.16839073\n",
            " 0.17001879 0.17222292 0.1806387  0.17765811 0.16974327 0.16899186\n",
            " 0.17933626 0.17087038 0.16278021 0.16355667 0.15842204 0.14755166\n",
            " 0.15233563 0.1591985  0.1463995  0.14584847 0.15168441 0.15125861\n",
            " 0.14922981 0.13763306 0.14036318 0.12513463 0.12455855 0.14226675\n",
            " 0.12726362 0.13183106 0.13014102 0.12883201]\n",
            "3 day output [[0.12781325]]\n",
            "4 day input [0.17257358 0.16904195 0.18149029 0.16385723 0.16105197 0.15757044\n",
            " 0.16568566 0.17232311 0.17392611 0.18407013 0.18146525 0.18169067\n",
            " 0.17873513 0.17715717 0.18827802 0.18249217 0.17051972 0.16320601\n",
            " 0.16363181 0.1636819  0.17092048 0.17204759 0.1636819  0.16588604\n",
            " 0.15769568 0.14875391 0.14444584 0.13918597 0.13720726 0.13259862\n",
            " 0.1323732  0.13119599 0.15902317 0.17016907 0.16974327 0.17282405\n",
            " 0.16546024 0.16418284 0.16235441 0.1702943  0.17392611 0.16350657\n",
            " 0.15479023 0.15539136 0.16518472 0.16458359 0.15539136 0.15143394\n",
            " 0.14396994 0.13332498 0.14001252 0.14529743 0.1459737  0.14116468\n",
            " 0.14958046 0.14875391 0.14108954 0.13139637 0.12673763 0.14053851\n",
            " 0.12944271 0.11994991 0.1096556  0.1208516  0.13212273 0.13470257\n",
            " 0.14311835 0.14662492 0.15524108 0.1587226  0.16839073 0.17001879\n",
            " 0.17222292 0.1806387  0.17765811 0.16974327 0.16899186 0.17933626\n",
            " 0.17087038 0.16278021 0.16355667 0.15842204 0.14755166 0.15233563\n",
            " 0.1591985  0.1463995  0.14584847 0.15168441 0.15125861 0.14922981\n",
            " 0.13763306 0.14036318 0.12513463 0.12455855 0.14226675 0.12726362\n",
            " 0.13183106 0.13014102 0.12883201 0.12781325]\n",
            "4 day output [[0.12699662]]\n",
            "5 day input [0.16904195 0.18149029 0.16385723 0.16105197 0.15757044 0.16568566\n",
            " 0.17232311 0.17392611 0.18407013 0.18146525 0.18169067 0.17873513\n",
            " 0.17715717 0.18827802 0.18249217 0.17051972 0.16320601 0.16363181\n",
            " 0.1636819  0.17092048 0.17204759 0.1636819  0.16588604 0.15769568\n",
            " 0.14875391 0.14444584 0.13918597 0.13720726 0.13259862 0.1323732\n",
            " 0.13119599 0.15902317 0.17016907 0.16974327 0.17282405 0.16546024\n",
            " 0.16418284 0.16235441 0.1702943  0.17392611 0.16350657 0.15479023\n",
            " 0.15539136 0.16518472 0.16458359 0.15539136 0.15143394 0.14396994\n",
            " 0.13332498 0.14001252 0.14529743 0.1459737  0.14116468 0.14958046\n",
            " 0.14875391 0.14108954 0.13139637 0.12673763 0.14053851 0.12944271\n",
            " 0.11994991 0.1096556  0.1208516  0.13212273 0.13470257 0.14311835\n",
            " 0.14662492 0.15524108 0.1587226  0.16839073 0.17001879 0.17222292\n",
            " 0.1806387  0.17765811 0.16974327 0.16899186 0.17933626 0.17087038\n",
            " 0.16278021 0.16355667 0.15842204 0.14755166 0.15233563 0.1591985\n",
            " 0.1463995  0.14584847 0.15168441 0.15125861 0.14922981 0.13763306\n",
            " 0.14036318 0.12513463 0.12455855 0.14226675 0.12726362 0.13183106\n",
            " 0.13014102 0.12883201 0.12781325 0.12699662]\n",
            "5 day output [[0.12631546]]\n",
            "6 day input [0.18149029 0.16385723 0.16105197 0.15757044 0.16568566 0.17232311\n",
            " 0.17392611 0.18407013 0.18146525 0.18169067 0.17873513 0.17715717\n",
            " 0.18827802 0.18249217 0.17051972 0.16320601 0.16363181 0.1636819\n",
            " 0.17092048 0.17204759 0.1636819  0.16588604 0.15769568 0.14875391\n",
            " 0.14444584 0.13918597 0.13720726 0.13259862 0.1323732  0.13119599\n",
            " 0.15902317 0.17016907 0.16974327 0.17282405 0.16546024 0.16418284\n",
            " 0.16235441 0.1702943  0.17392611 0.16350657 0.15479023 0.15539136\n",
            " 0.16518472 0.16458359 0.15539136 0.15143394 0.14396994 0.13332498\n",
            " 0.14001252 0.14529743 0.1459737  0.14116468 0.14958046 0.14875391\n",
            " 0.14108954 0.13139637 0.12673763 0.14053851 0.12944271 0.11994991\n",
            " 0.1096556  0.1208516  0.13212273 0.13470257 0.14311835 0.14662492\n",
            " 0.15524108 0.1587226  0.16839073 0.17001879 0.17222292 0.1806387\n",
            " 0.17765811 0.16974327 0.16899186 0.17933626 0.17087038 0.16278021\n",
            " 0.16355667 0.15842204 0.14755166 0.15233563 0.1591985  0.1463995\n",
            " 0.14584847 0.15168441 0.15125861 0.14922981 0.13763306 0.14036318\n",
            " 0.12513463 0.12455855 0.14226675 0.12726362 0.13183106 0.13014102\n",
            " 0.12883201 0.12781325 0.12699662 0.12631546]\n",
            "6 day output [[0.12572542]]\n",
            "7 day input [0.16385723 0.16105197 0.15757044 0.16568566 0.17232311 0.17392611\n",
            " 0.18407013 0.18146525 0.18169067 0.17873513 0.17715717 0.18827802\n",
            " 0.18249217 0.17051972 0.16320601 0.16363181 0.1636819  0.17092048\n",
            " 0.17204759 0.1636819  0.16588604 0.15769568 0.14875391 0.14444584\n",
            " 0.13918597 0.13720726 0.13259862 0.1323732  0.13119599 0.15902317\n",
            " 0.17016907 0.16974327 0.17282405 0.16546024 0.16418284 0.16235441\n",
            " 0.1702943  0.17392611 0.16350657 0.15479023 0.15539136 0.16518472\n",
            " 0.16458359 0.15539136 0.15143394 0.14396994 0.13332498 0.14001252\n",
            " 0.14529743 0.1459737  0.14116468 0.14958046 0.14875391 0.14108954\n",
            " 0.13139637 0.12673763 0.14053851 0.12944271 0.11994991 0.1096556\n",
            " 0.1208516  0.13212273 0.13470257 0.14311835 0.14662492 0.15524108\n",
            " 0.1587226  0.16839073 0.17001879 0.17222292 0.1806387  0.17765811\n",
            " 0.16974327 0.16899186 0.17933626 0.17087038 0.16278021 0.16355667\n",
            " 0.15842204 0.14755166 0.15233563 0.1591985  0.1463995  0.14584847\n",
            " 0.15168441 0.15125861 0.14922981 0.13763306 0.14036318 0.12513463\n",
            " 0.12455855 0.14226675 0.12726362 0.13183106 0.13014102 0.12883201\n",
            " 0.12781325 0.12699662 0.12631546 0.12572542]\n",
            "7 day output [[0.12519918]]\n",
            "8 day input [0.16105197 0.15757044 0.16568566 0.17232311 0.17392611 0.18407013\n",
            " 0.18146525 0.18169067 0.17873513 0.17715717 0.18827802 0.18249217\n",
            " 0.17051972 0.16320601 0.16363181 0.1636819  0.17092048 0.17204759\n",
            " 0.1636819  0.16588604 0.15769568 0.14875391 0.14444584 0.13918597\n",
            " 0.13720726 0.13259862 0.1323732  0.13119599 0.15902317 0.17016907\n",
            " 0.16974327 0.17282405 0.16546024 0.16418284 0.16235441 0.1702943\n",
            " 0.17392611 0.16350657 0.15479023 0.15539136 0.16518472 0.16458359\n",
            " 0.15539136 0.15143394 0.14396994 0.13332498 0.14001252 0.14529743\n",
            " 0.1459737  0.14116468 0.14958046 0.14875391 0.14108954 0.13139637\n",
            " 0.12673763 0.14053851 0.12944271 0.11994991 0.1096556  0.1208516\n",
            " 0.13212273 0.13470257 0.14311835 0.14662492 0.15524108 0.1587226\n",
            " 0.16839073 0.17001879 0.17222292 0.1806387  0.17765811 0.16974327\n",
            " 0.16899186 0.17933626 0.17087038 0.16278021 0.16355667 0.15842204\n",
            " 0.14755166 0.15233563 0.1591985  0.1463995  0.14584847 0.15168441\n",
            " 0.15125861 0.14922981 0.13763306 0.14036318 0.12513463 0.12455855\n",
            " 0.14226675 0.12726362 0.13183106 0.13014102 0.12883201 0.12781325\n",
            " 0.12699662 0.12631546 0.12572542 0.12519918]\n",
            "8 day output [[0.12472036]]\n",
            "9 day input [0.15757044 0.16568566 0.17232311 0.17392611 0.18407013 0.18146525\n",
            " 0.18169067 0.17873513 0.17715717 0.18827802 0.18249217 0.17051972\n",
            " 0.16320601 0.16363181 0.1636819  0.17092048 0.17204759 0.1636819\n",
            " 0.16588604 0.15769568 0.14875391 0.14444584 0.13918597 0.13720726\n",
            " 0.13259862 0.1323732  0.13119599 0.15902317 0.17016907 0.16974327\n",
            " 0.17282405 0.16546024 0.16418284 0.16235441 0.1702943  0.17392611\n",
            " 0.16350657 0.15479023 0.15539136 0.16518472 0.16458359 0.15539136\n",
            " 0.15143394 0.14396994 0.13332498 0.14001252 0.14529743 0.1459737\n",
            " 0.14116468 0.14958046 0.14875391 0.14108954 0.13139637 0.12673763\n",
            " 0.14053851 0.12944271 0.11994991 0.1096556  0.1208516  0.13212273\n",
            " 0.13470257 0.14311835 0.14662492 0.15524108 0.1587226  0.16839073\n",
            " 0.17001879 0.17222292 0.1806387  0.17765811 0.16974327 0.16899186\n",
            " 0.17933626 0.17087038 0.16278021 0.16355667 0.15842204 0.14755166\n",
            " 0.15233563 0.1591985  0.1463995  0.14584847 0.15168441 0.15125861\n",
            " 0.14922981 0.13763306 0.14036318 0.12513463 0.12455855 0.14226675\n",
            " 0.12726362 0.13183106 0.13014102 0.12883201 0.12781325 0.12699662\n",
            " 0.12631546 0.12572542 0.12519918 0.12472036]\n",
            "9 day output [[0.12427901]]\n",
            "10 day input [0.16568566 0.17232311 0.17392611 0.18407013 0.18146525 0.18169067\n",
            " 0.17873513 0.17715717 0.18827802 0.18249217 0.17051972 0.16320601\n",
            " 0.16363181 0.1636819  0.17092048 0.17204759 0.1636819  0.16588604\n",
            " 0.15769568 0.14875391 0.14444584 0.13918597 0.13720726 0.13259862\n",
            " 0.1323732  0.13119599 0.15902317 0.17016907 0.16974327 0.17282405\n",
            " 0.16546024 0.16418284 0.16235441 0.1702943  0.17392611 0.16350657\n",
            " 0.15479023 0.15539136 0.16518472 0.16458359 0.15539136 0.15143394\n",
            " 0.14396994 0.13332498 0.14001252 0.14529743 0.1459737  0.14116468\n",
            " 0.14958046 0.14875391 0.14108954 0.13139637 0.12673763 0.14053851\n",
            " 0.12944271 0.11994991 0.1096556  0.1208516  0.13212273 0.13470257\n",
            " 0.14311835 0.14662492 0.15524108 0.1587226  0.16839073 0.17001879\n",
            " 0.17222292 0.1806387  0.17765811 0.16974327 0.16899186 0.17933626\n",
            " 0.17087038 0.16278021 0.16355667 0.15842204 0.14755166 0.15233563\n",
            " 0.1591985  0.1463995  0.14584847 0.15168441 0.15125861 0.14922981\n",
            " 0.13763306 0.14036318 0.12513463 0.12455855 0.14226675 0.12726362\n",
            " 0.13183106 0.13014102 0.12883201 0.12781325 0.12699662 0.12631546\n",
            " 0.12572542 0.12519918 0.12472036 0.12427901]\n",
            "10 day output [[0.12386844]]\n",
            "11 day input [0.17232311 0.17392611 0.18407013 0.18146525 0.18169067 0.17873513\n",
            " 0.17715717 0.18827802 0.18249217 0.17051972 0.16320601 0.16363181\n",
            " 0.1636819  0.17092048 0.17204759 0.1636819  0.16588604 0.15769568\n",
            " 0.14875391 0.14444584 0.13918597 0.13720726 0.13259862 0.1323732\n",
            " 0.13119599 0.15902317 0.17016907 0.16974327 0.17282405 0.16546024\n",
            " 0.16418284 0.16235441 0.1702943  0.17392611 0.16350657 0.15479023\n",
            " 0.15539136 0.16518472 0.16458359 0.15539136 0.15143394 0.14396994\n",
            " 0.13332498 0.14001252 0.14529743 0.1459737  0.14116468 0.14958046\n",
            " 0.14875391 0.14108954 0.13139637 0.12673763 0.14053851 0.12944271\n",
            " 0.11994991 0.1096556  0.1208516  0.13212273 0.13470257 0.14311835\n",
            " 0.14662492 0.15524108 0.1587226  0.16839073 0.17001879 0.17222292\n",
            " 0.1806387  0.17765811 0.16974327 0.16899186 0.17933626 0.17087038\n",
            " 0.16278021 0.16355667 0.15842204 0.14755166 0.15233563 0.1591985\n",
            " 0.1463995  0.14584847 0.15168441 0.15125861 0.14922981 0.13763306\n",
            " 0.14036318 0.12513463 0.12455855 0.14226675 0.12726362 0.13183106\n",
            " 0.13014102 0.12883201 0.12781325 0.12699662 0.12631546 0.12572542\n",
            " 0.12519918 0.12472036 0.12427901 0.12386844]\n",
            "11 day output [[0.1234836]]\n",
            "12 day input [0.17392611 0.18407013 0.18146525 0.18169067 0.17873513 0.17715717\n",
            " 0.18827802 0.18249217 0.17051972 0.16320601 0.16363181 0.1636819\n",
            " 0.17092048 0.17204759 0.1636819  0.16588604 0.15769568 0.14875391\n",
            " 0.14444584 0.13918597 0.13720726 0.13259862 0.1323732  0.13119599\n",
            " 0.15902317 0.17016907 0.16974327 0.17282405 0.16546024 0.16418284\n",
            " 0.16235441 0.1702943  0.17392611 0.16350657 0.15479023 0.15539136\n",
            " 0.16518472 0.16458359 0.15539136 0.15143394 0.14396994 0.13332498\n",
            " 0.14001252 0.14529743 0.1459737  0.14116468 0.14958046 0.14875391\n",
            " 0.14108954 0.13139637 0.12673763 0.14053851 0.12944271 0.11994991\n",
            " 0.1096556  0.1208516  0.13212273 0.13470257 0.14311835 0.14662492\n",
            " 0.15524108 0.1587226  0.16839073 0.17001879 0.17222292 0.1806387\n",
            " 0.17765811 0.16974327 0.16899186 0.17933626 0.17087038 0.16278021\n",
            " 0.16355667 0.15842204 0.14755166 0.15233563 0.1591985  0.1463995\n",
            " 0.14584847 0.15168441 0.15125861 0.14922981 0.13763306 0.14036318\n",
            " 0.12513463 0.12455855 0.14226675 0.12726362 0.13183106 0.13014102\n",
            " 0.12883201 0.12781325 0.12699662 0.12631546 0.12572542 0.12519918\n",
            " 0.12472036 0.12427901 0.12386844 0.1234836 ]\n",
            "12 day output [[0.12312027]]\n",
            "13 day input [0.18407013 0.18146525 0.18169067 0.17873513 0.17715717 0.18827802\n",
            " 0.18249217 0.17051972 0.16320601 0.16363181 0.1636819  0.17092048\n",
            " 0.17204759 0.1636819  0.16588604 0.15769568 0.14875391 0.14444584\n",
            " 0.13918597 0.13720726 0.13259862 0.1323732  0.13119599 0.15902317\n",
            " 0.17016907 0.16974327 0.17282405 0.16546024 0.16418284 0.16235441\n",
            " 0.1702943  0.17392611 0.16350657 0.15479023 0.15539136 0.16518472\n",
            " 0.16458359 0.15539136 0.15143394 0.14396994 0.13332498 0.14001252\n",
            " 0.14529743 0.1459737  0.14116468 0.14958046 0.14875391 0.14108954\n",
            " 0.13139637 0.12673763 0.14053851 0.12944271 0.11994991 0.1096556\n",
            " 0.1208516  0.13212273 0.13470257 0.14311835 0.14662492 0.15524108\n",
            " 0.1587226  0.16839073 0.17001879 0.17222292 0.1806387  0.17765811\n",
            " 0.16974327 0.16899186 0.17933626 0.17087038 0.16278021 0.16355667\n",
            " 0.15842204 0.14755166 0.15233563 0.1591985  0.1463995  0.14584847\n",
            " 0.15168441 0.15125861 0.14922981 0.13763306 0.14036318 0.12513463\n",
            " 0.12455855 0.14226675 0.12726362 0.13183106 0.13014102 0.12883201\n",
            " 0.12781325 0.12699662 0.12631546 0.12572542 0.12519918 0.12472036\n",
            " 0.12427901 0.12386844 0.1234836  0.12312027]\n",
            "13 day output [[0.12277474]]\n",
            "14 day input [0.18146525 0.18169067 0.17873513 0.17715717 0.18827802 0.18249217\n",
            " 0.17051972 0.16320601 0.16363181 0.1636819  0.17092048 0.17204759\n",
            " 0.1636819  0.16588604 0.15769568 0.14875391 0.14444584 0.13918597\n",
            " 0.13720726 0.13259862 0.1323732  0.13119599 0.15902317 0.17016907\n",
            " 0.16974327 0.17282405 0.16546024 0.16418284 0.16235441 0.1702943\n",
            " 0.17392611 0.16350657 0.15479023 0.15539136 0.16518472 0.16458359\n",
            " 0.15539136 0.15143394 0.14396994 0.13332498 0.14001252 0.14529743\n",
            " 0.1459737  0.14116468 0.14958046 0.14875391 0.14108954 0.13139637\n",
            " 0.12673763 0.14053851 0.12944271 0.11994991 0.1096556  0.1208516\n",
            " 0.13212273 0.13470257 0.14311835 0.14662492 0.15524108 0.1587226\n",
            " 0.16839073 0.17001879 0.17222292 0.1806387  0.17765811 0.16974327\n",
            " 0.16899186 0.17933626 0.17087038 0.16278021 0.16355667 0.15842204\n",
            " 0.14755166 0.15233563 0.1591985  0.1463995  0.14584847 0.15168441\n",
            " 0.15125861 0.14922981 0.13763306 0.14036318 0.12513463 0.12455855\n",
            " 0.14226675 0.12726362 0.13183106 0.13014102 0.12883201 0.12781325\n",
            " 0.12699662 0.12631546 0.12572542 0.12519918 0.12472036 0.12427901\n",
            " 0.12386844 0.1234836  0.12312027 0.12277474]\n",
            "14 day output [[0.12244355]]\n",
            "15 day input [0.18169067 0.17873513 0.17715717 0.18827802 0.18249217 0.17051972\n",
            " 0.16320601 0.16363181 0.1636819  0.17092048 0.17204759 0.1636819\n",
            " 0.16588604 0.15769568 0.14875391 0.14444584 0.13918597 0.13720726\n",
            " 0.13259862 0.1323732  0.13119599 0.15902317 0.17016907 0.16974327\n",
            " 0.17282405 0.16546024 0.16418284 0.16235441 0.1702943  0.17392611\n",
            " 0.16350657 0.15479023 0.15539136 0.16518472 0.16458359 0.15539136\n",
            " 0.15143394 0.14396994 0.13332498 0.14001252 0.14529743 0.1459737\n",
            " 0.14116468 0.14958046 0.14875391 0.14108954 0.13139637 0.12673763\n",
            " 0.14053851 0.12944271 0.11994991 0.1096556  0.1208516  0.13212273\n",
            " 0.13470257 0.14311835 0.14662492 0.15524108 0.1587226  0.16839073\n",
            " 0.17001879 0.17222292 0.1806387  0.17765811 0.16974327 0.16899186\n",
            " 0.17933626 0.17087038 0.16278021 0.16355667 0.15842204 0.14755166\n",
            " 0.15233563 0.1591985  0.1463995  0.14584847 0.15168441 0.15125861\n",
            " 0.14922981 0.13763306 0.14036318 0.12513463 0.12455855 0.14226675\n",
            " 0.12726362 0.13183106 0.13014102 0.12883201 0.12781325 0.12699662\n",
            " 0.12631546 0.12572542 0.12519918 0.12472036 0.12427901 0.12386844\n",
            " 0.1234836  0.12312027 0.12277474 0.12244355]\n",
            "15 day output [[0.1221237]]\n",
            "16 day input [0.17873513 0.17715717 0.18827802 0.18249217 0.17051972 0.16320601\n",
            " 0.16363181 0.1636819  0.17092048 0.17204759 0.1636819  0.16588604\n",
            " 0.15769568 0.14875391 0.14444584 0.13918597 0.13720726 0.13259862\n",
            " 0.1323732  0.13119599 0.15902317 0.17016907 0.16974327 0.17282405\n",
            " 0.16546024 0.16418284 0.16235441 0.1702943  0.17392611 0.16350657\n",
            " 0.15479023 0.15539136 0.16518472 0.16458359 0.15539136 0.15143394\n",
            " 0.14396994 0.13332498 0.14001252 0.14529743 0.1459737  0.14116468\n",
            " 0.14958046 0.14875391 0.14108954 0.13139637 0.12673763 0.14053851\n",
            " 0.12944271 0.11994991 0.1096556  0.1208516  0.13212273 0.13470257\n",
            " 0.14311835 0.14662492 0.15524108 0.1587226  0.16839073 0.17001879\n",
            " 0.17222292 0.1806387  0.17765811 0.16974327 0.16899186 0.17933626\n",
            " 0.17087038 0.16278021 0.16355667 0.15842204 0.14755166 0.15233563\n",
            " 0.1591985  0.1463995  0.14584847 0.15168441 0.15125861 0.14922981\n",
            " 0.13763306 0.14036318 0.12513463 0.12455855 0.14226675 0.12726362\n",
            " 0.13183106 0.13014102 0.12883201 0.12781325 0.12699662 0.12631546\n",
            " 0.12572542 0.12519918 0.12472036 0.12427901 0.12386844 0.1234836\n",
            " 0.12312027 0.12277474 0.12244355 0.1221237 ]\n",
            "16 day output [[0.12181258]]\n",
            "17 day input [0.17715717 0.18827802 0.18249217 0.17051972 0.16320601 0.16363181\n",
            " 0.1636819  0.17092048 0.17204759 0.1636819  0.16588604 0.15769568\n",
            " 0.14875391 0.14444584 0.13918597 0.13720726 0.13259862 0.1323732\n",
            " 0.13119599 0.15902317 0.17016907 0.16974327 0.17282405 0.16546024\n",
            " 0.16418284 0.16235441 0.1702943  0.17392611 0.16350657 0.15479023\n",
            " 0.15539136 0.16518472 0.16458359 0.15539136 0.15143394 0.14396994\n",
            " 0.13332498 0.14001252 0.14529743 0.1459737  0.14116468 0.14958046\n",
            " 0.14875391 0.14108954 0.13139637 0.12673763 0.14053851 0.12944271\n",
            " 0.11994991 0.1096556  0.1208516  0.13212273 0.13470257 0.14311835\n",
            " 0.14662492 0.15524108 0.1587226  0.16839073 0.17001879 0.17222292\n",
            " 0.1806387  0.17765811 0.16974327 0.16899186 0.17933626 0.17087038\n",
            " 0.16278021 0.16355667 0.15842204 0.14755166 0.15233563 0.1591985\n",
            " 0.1463995  0.14584847 0.15168441 0.15125861 0.14922981 0.13763306\n",
            " 0.14036318 0.12513463 0.12455855 0.14226675 0.12726362 0.13183106\n",
            " 0.13014102 0.12883201 0.12781325 0.12699662 0.12631546 0.12572542\n",
            " 0.12519918 0.12472036 0.12427901 0.12386844 0.1234836  0.12312027\n",
            " 0.12277474 0.12244355 0.1221237  0.12181258]\n",
            "17 day output [[0.12150791]]\n",
            "18 day input [0.18827802 0.18249217 0.17051972 0.16320601 0.16363181 0.1636819\n",
            " 0.17092048 0.17204759 0.1636819  0.16588604 0.15769568 0.14875391\n",
            " 0.14444584 0.13918597 0.13720726 0.13259862 0.1323732  0.13119599\n",
            " 0.15902317 0.17016907 0.16974327 0.17282405 0.16546024 0.16418284\n",
            " 0.16235441 0.1702943  0.17392611 0.16350657 0.15479023 0.15539136\n",
            " 0.16518472 0.16458359 0.15539136 0.15143394 0.14396994 0.13332498\n",
            " 0.14001252 0.14529743 0.1459737  0.14116468 0.14958046 0.14875391\n",
            " 0.14108954 0.13139637 0.12673763 0.14053851 0.12944271 0.11994991\n",
            " 0.1096556  0.1208516  0.13212273 0.13470257 0.14311835 0.14662492\n",
            " 0.15524108 0.1587226  0.16839073 0.17001879 0.17222292 0.1806387\n",
            " 0.17765811 0.16974327 0.16899186 0.17933626 0.17087038 0.16278021\n",
            " 0.16355667 0.15842204 0.14755166 0.15233563 0.1591985  0.1463995\n",
            " 0.14584847 0.15168441 0.15125861 0.14922981 0.13763306 0.14036318\n",
            " 0.12513463 0.12455855 0.14226675 0.12726362 0.13183106 0.13014102\n",
            " 0.12883201 0.12781325 0.12699662 0.12631546 0.12572542 0.12519918\n",
            " 0.12472036 0.12427901 0.12386844 0.1234836  0.12312027 0.12277474\n",
            " 0.12244355 0.1221237  0.12181258 0.12150791]\n",
            "18 day output [[0.12120787]]\n",
            "19 day input [0.18249217 0.17051972 0.16320601 0.16363181 0.1636819  0.17092048\n",
            " 0.17204759 0.1636819  0.16588604 0.15769568 0.14875391 0.14444584\n",
            " 0.13918597 0.13720726 0.13259862 0.1323732  0.13119599 0.15902317\n",
            " 0.17016907 0.16974327 0.17282405 0.16546024 0.16418284 0.16235441\n",
            " 0.1702943  0.17392611 0.16350657 0.15479023 0.15539136 0.16518472\n",
            " 0.16458359 0.15539136 0.15143394 0.14396994 0.13332498 0.14001252\n",
            " 0.14529743 0.1459737  0.14116468 0.14958046 0.14875391 0.14108954\n",
            " 0.13139637 0.12673763 0.14053851 0.12944271 0.11994991 0.1096556\n",
            " 0.1208516  0.13212273 0.13470257 0.14311835 0.14662492 0.15524108\n",
            " 0.1587226  0.16839073 0.17001879 0.17222292 0.1806387  0.17765811\n",
            " 0.16974327 0.16899186 0.17933626 0.17087038 0.16278021 0.16355667\n",
            " 0.15842204 0.14755166 0.15233563 0.1591985  0.1463995  0.14584847\n",
            " 0.15168441 0.15125861 0.14922981 0.13763306 0.14036318 0.12513463\n",
            " 0.12455855 0.14226675 0.12726362 0.13183106 0.13014102 0.12883201\n",
            " 0.12781325 0.12699662 0.12631546 0.12572542 0.12519918 0.12472036\n",
            " 0.12427901 0.12386844 0.1234836  0.12312027 0.12277474 0.12244355\n",
            " 0.1221237  0.12181258 0.12150791 0.12120787]\n",
            "19 day output [[0.12091102]]\n",
            "20 day input [0.17051972 0.16320601 0.16363181 0.1636819  0.17092048 0.17204759\n",
            " 0.1636819  0.16588604 0.15769568 0.14875391 0.14444584 0.13918597\n",
            " 0.13720726 0.13259862 0.1323732  0.13119599 0.15902317 0.17016907\n",
            " 0.16974327 0.17282405 0.16546024 0.16418284 0.16235441 0.1702943\n",
            " 0.17392611 0.16350657 0.15479023 0.15539136 0.16518472 0.16458359\n",
            " 0.15539136 0.15143394 0.14396994 0.13332498 0.14001252 0.14529743\n",
            " 0.1459737  0.14116468 0.14958046 0.14875391 0.14108954 0.13139637\n",
            " 0.12673763 0.14053851 0.12944271 0.11994991 0.1096556  0.1208516\n",
            " 0.13212273 0.13470257 0.14311835 0.14662492 0.15524108 0.1587226\n",
            " 0.16839073 0.17001879 0.17222292 0.1806387  0.17765811 0.16974327\n",
            " 0.16899186 0.17933626 0.17087038 0.16278021 0.16355667 0.15842204\n",
            " 0.14755166 0.15233563 0.1591985  0.1463995  0.14584847 0.15168441\n",
            " 0.15125861 0.14922981 0.13763306 0.14036318 0.12513463 0.12455855\n",
            " 0.14226675 0.12726362 0.13183106 0.13014102 0.12883201 0.12781325\n",
            " 0.12699662 0.12631546 0.12572542 0.12519918 0.12472036 0.12427901\n",
            " 0.12386844 0.1234836  0.12312027 0.12277474 0.12244355 0.1221237\n",
            " 0.12181258 0.12150791 0.12120787 0.12091102]\n",
            "20 day output [[0.12061612]]\n",
            "21 day input [0.16320601 0.16363181 0.1636819  0.17092048 0.17204759 0.1636819\n",
            " 0.16588604 0.15769568 0.14875391 0.14444584 0.13918597 0.13720726\n",
            " 0.13259862 0.1323732  0.13119599 0.15902317 0.17016907 0.16974327\n",
            " 0.17282405 0.16546024 0.16418284 0.16235441 0.1702943  0.17392611\n",
            " 0.16350657 0.15479023 0.15539136 0.16518472 0.16458359 0.15539136\n",
            " 0.15143394 0.14396994 0.13332498 0.14001252 0.14529743 0.1459737\n",
            " 0.14116468 0.14958046 0.14875391 0.14108954 0.13139637 0.12673763\n",
            " 0.14053851 0.12944271 0.11994991 0.1096556  0.1208516  0.13212273\n",
            " 0.13470257 0.14311835 0.14662492 0.15524108 0.1587226  0.16839073\n",
            " 0.17001879 0.17222292 0.1806387  0.17765811 0.16974327 0.16899186\n",
            " 0.17933626 0.17087038 0.16278021 0.16355667 0.15842204 0.14755166\n",
            " 0.15233563 0.1591985  0.1463995  0.14584847 0.15168441 0.15125861\n",
            " 0.14922981 0.13763306 0.14036318 0.12513463 0.12455855 0.14226675\n",
            " 0.12726362 0.13183106 0.13014102 0.12883201 0.12781325 0.12699662\n",
            " 0.12631546 0.12572542 0.12519918 0.12472036 0.12427901 0.12386844\n",
            " 0.1234836  0.12312027 0.12277474 0.12244355 0.1221237  0.12181258\n",
            " 0.12150791 0.12120787 0.12091102 0.12061612]\n",
            "21 day output [[0.12032238]]\n",
            "22 day input [0.16363181 0.1636819  0.17092048 0.17204759 0.1636819  0.16588604\n",
            " 0.15769568 0.14875391 0.14444584 0.13918597 0.13720726 0.13259862\n",
            " 0.1323732  0.13119599 0.15902317 0.17016907 0.16974327 0.17282405\n",
            " 0.16546024 0.16418284 0.16235441 0.1702943  0.17392611 0.16350657\n",
            " 0.15479023 0.15539136 0.16518472 0.16458359 0.15539136 0.15143394\n",
            " 0.14396994 0.13332498 0.14001252 0.14529743 0.1459737  0.14116468\n",
            " 0.14958046 0.14875391 0.14108954 0.13139637 0.12673763 0.14053851\n",
            " 0.12944271 0.11994991 0.1096556  0.1208516  0.13212273 0.13470257\n",
            " 0.14311835 0.14662492 0.15524108 0.1587226  0.16839073 0.17001879\n",
            " 0.17222292 0.1806387  0.17765811 0.16974327 0.16899186 0.17933626\n",
            " 0.17087038 0.16278021 0.16355667 0.15842204 0.14755166 0.15233563\n",
            " 0.1591985  0.1463995  0.14584847 0.15168441 0.15125861 0.14922981\n",
            " 0.13763306 0.14036318 0.12513463 0.12455855 0.14226675 0.12726362\n",
            " 0.13183106 0.13014102 0.12883201 0.12781325 0.12699662 0.12631546\n",
            " 0.12572542 0.12519918 0.12472036 0.12427901 0.12386844 0.1234836\n",
            " 0.12312027 0.12277474 0.12244355 0.1221237  0.12181258 0.12150791\n",
            " 0.12120787 0.12091102 0.12061612 0.12032238]\n",
            "22 day output [[0.12002919]]\n",
            "23 day input [0.1636819  0.17092048 0.17204759 0.1636819  0.16588604 0.15769568\n",
            " 0.14875391 0.14444584 0.13918597 0.13720726 0.13259862 0.1323732\n",
            " 0.13119599 0.15902317 0.17016907 0.16974327 0.17282405 0.16546024\n",
            " 0.16418284 0.16235441 0.1702943  0.17392611 0.16350657 0.15479023\n",
            " 0.15539136 0.16518472 0.16458359 0.15539136 0.15143394 0.14396994\n",
            " 0.13332498 0.14001252 0.14529743 0.1459737  0.14116468 0.14958046\n",
            " 0.14875391 0.14108954 0.13139637 0.12673763 0.14053851 0.12944271\n",
            " 0.11994991 0.1096556  0.1208516  0.13212273 0.13470257 0.14311835\n",
            " 0.14662492 0.15524108 0.1587226  0.16839073 0.17001879 0.17222292\n",
            " 0.1806387  0.17765811 0.16974327 0.16899186 0.17933626 0.17087038\n",
            " 0.16278021 0.16355667 0.15842204 0.14755166 0.15233563 0.1591985\n",
            " 0.1463995  0.14584847 0.15168441 0.15125861 0.14922981 0.13763306\n",
            " 0.14036318 0.12513463 0.12455855 0.14226675 0.12726362 0.13183106\n",
            " 0.13014102 0.12883201 0.12781325 0.12699662 0.12631546 0.12572542\n",
            " 0.12519918 0.12472036 0.12427901 0.12386844 0.1234836  0.12312027\n",
            " 0.12277474 0.12244355 0.1221237  0.12181258 0.12150791 0.12120787\n",
            " 0.12091102 0.12061612 0.12032238 0.12002919]\n",
            "23 day output [[0.11973623]]\n",
            "24 day input [0.17092048 0.17204759 0.1636819  0.16588604 0.15769568 0.14875391\n",
            " 0.14444584 0.13918597 0.13720726 0.13259862 0.1323732  0.13119599\n",
            " 0.15902317 0.17016907 0.16974327 0.17282405 0.16546024 0.16418284\n",
            " 0.16235441 0.1702943  0.17392611 0.16350657 0.15479023 0.15539136\n",
            " 0.16518472 0.16458359 0.15539136 0.15143394 0.14396994 0.13332498\n",
            " 0.14001252 0.14529743 0.1459737  0.14116468 0.14958046 0.14875391\n",
            " 0.14108954 0.13139637 0.12673763 0.14053851 0.12944271 0.11994991\n",
            " 0.1096556  0.1208516  0.13212273 0.13470257 0.14311835 0.14662492\n",
            " 0.15524108 0.1587226  0.16839073 0.17001879 0.17222292 0.1806387\n",
            " 0.17765811 0.16974327 0.16899186 0.17933626 0.17087038 0.16278021\n",
            " 0.16355667 0.15842204 0.14755166 0.15233563 0.1591985  0.1463995\n",
            " 0.14584847 0.15168441 0.15125861 0.14922981 0.13763306 0.14036318\n",
            " 0.12513463 0.12455855 0.14226675 0.12726362 0.13183106 0.13014102\n",
            " 0.12883201 0.12781325 0.12699662 0.12631546 0.12572542 0.12519918\n",
            " 0.12472036 0.12427901 0.12386844 0.1234836  0.12312027 0.12277474\n",
            " 0.12244355 0.1221237  0.12181258 0.12150791 0.12120787 0.12091102\n",
            " 0.12061612 0.12032238 0.12002919 0.11973623]\n",
            "24 day output [[0.11944325]]\n",
            "25 day input [0.17204759 0.1636819  0.16588604 0.15769568 0.14875391 0.14444584\n",
            " 0.13918597 0.13720726 0.13259862 0.1323732  0.13119599 0.15902317\n",
            " 0.17016907 0.16974327 0.17282405 0.16546024 0.16418284 0.16235441\n",
            " 0.1702943  0.17392611 0.16350657 0.15479023 0.15539136 0.16518472\n",
            " 0.16458359 0.15539136 0.15143394 0.14396994 0.13332498 0.14001252\n",
            " 0.14529743 0.1459737  0.14116468 0.14958046 0.14875391 0.14108954\n",
            " 0.13139637 0.12673763 0.14053851 0.12944271 0.11994991 0.1096556\n",
            " 0.1208516  0.13212273 0.13470257 0.14311835 0.14662492 0.15524108\n",
            " 0.1587226  0.16839073 0.17001879 0.17222292 0.1806387  0.17765811\n",
            " 0.16974327 0.16899186 0.17933626 0.17087038 0.16278021 0.16355667\n",
            " 0.15842204 0.14755166 0.15233563 0.1591985  0.1463995  0.14584847\n",
            " 0.15168441 0.15125861 0.14922981 0.13763306 0.14036318 0.12513463\n",
            " 0.12455855 0.14226675 0.12726362 0.13183106 0.13014102 0.12883201\n",
            " 0.12781325 0.12699662 0.12631546 0.12572542 0.12519918 0.12472036\n",
            " 0.12427901 0.12386844 0.1234836  0.12312027 0.12277474 0.12244355\n",
            " 0.1221237  0.12181258 0.12150791 0.12120787 0.12091102 0.12061612\n",
            " 0.12032238 0.12002919 0.11973623 0.11944325]\n",
            "25 day output [[0.11915029]]\n",
            "26 day input [0.1636819  0.16588604 0.15769568 0.14875391 0.14444584 0.13918597\n",
            " 0.13720726 0.13259862 0.1323732  0.13119599 0.15902317 0.17016907\n",
            " 0.16974327 0.17282405 0.16546024 0.16418284 0.16235441 0.1702943\n",
            " 0.17392611 0.16350657 0.15479023 0.15539136 0.16518472 0.16458359\n",
            " 0.15539136 0.15143394 0.14396994 0.13332498 0.14001252 0.14529743\n",
            " 0.1459737  0.14116468 0.14958046 0.14875391 0.14108954 0.13139637\n",
            " 0.12673763 0.14053851 0.12944271 0.11994991 0.1096556  0.1208516\n",
            " 0.13212273 0.13470257 0.14311835 0.14662492 0.15524108 0.1587226\n",
            " 0.16839073 0.17001879 0.17222292 0.1806387  0.17765811 0.16974327\n",
            " 0.16899186 0.17933626 0.17087038 0.16278021 0.16355667 0.15842204\n",
            " 0.14755166 0.15233563 0.1591985  0.1463995  0.14584847 0.15168441\n",
            " 0.15125861 0.14922981 0.13763306 0.14036318 0.12513463 0.12455855\n",
            " 0.14226675 0.12726362 0.13183106 0.13014102 0.12883201 0.12781325\n",
            " 0.12699662 0.12631546 0.12572542 0.12519918 0.12472036 0.12427901\n",
            " 0.12386844 0.1234836  0.12312027 0.12277474 0.12244355 0.1221237\n",
            " 0.12181258 0.12150791 0.12120787 0.12091102 0.12061612 0.12032238\n",
            " 0.12002919 0.11973623 0.11944325 0.11915029]\n",
            "26 day output [[0.11885739]]\n",
            "27 day input [0.16588604 0.15769568 0.14875391 0.14444584 0.13918597 0.13720726\n",
            " 0.13259862 0.1323732  0.13119599 0.15902317 0.17016907 0.16974327\n",
            " 0.17282405 0.16546024 0.16418284 0.16235441 0.1702943  0.17392611\n",
            " 0.16350657 0.15479023 0.15539136 0.16518472 0.16458359 0.15539136\n",
            " 0.15143394 0.14396994 0.13332498 0.14001252 0.14529743 0.1459737\n",
            " 0.14116468 0.14958046 0.14875391 0.14108954 0.13139637 0.12673763\n",
            " 0.14053851 0.12944271 0.11994991 0.1096556  0.1208516  0.13212273\n",
            " 0.13470257 0.14311835 0.14662492 0.15524108 0.1587226  0.16839073\n",
            " 0.17001879 0.17222292 0.1806387  0.17765811 0.16974327 0.16899186\n",
            " 0.17933626 0.17087038 0.16278021 0.16355667 0.15842204 0.14755166\n",
            " 0.15233563 0.1591985  0.1463995  0.14584847 0.15168441 0.15125861\n",
            " 0.14922981 0.13763306 0.14036318 0.12513463 0.12455855 0.14226675\n",
            " 0.12726362 0.13183106 0.13014102 0.12883201 0.12781325 0.12699662\n",
            " 0.12631546 0.12572542 0.12519918 0.12472036 0.12427901 0.12386844\n",
            " 0.1234836  0.12312027 0.12277474 0.12244355 0.1221237  0.12181258\n",
            " 0.12150791 0.12120787 0.12091102 0.12061612 0.12032238 0.12002919\n",
            " 0.11973623 0.11944325 0.11915029 0.11885739]\n",
            "27 day output [[0.11856478]]\n",
            "28 day input [0.15769568 0.14875391 0.14444584 0.13918597 0.13720726 0.13259862\n",
            " 0.1323732  0.13119599 0.15902317 0.17016907 0.16974327 0.17282405\n",
            " 0.16546024 0.16418284 0.16235441 0.1702943  0.17392611 0.16350657\n",
            " 0.15479023 0.15539136 0.16518472 0.16458359 0.15539136 0.15143394\n",
            " 0.14396994 0.13332498 0.14001252 0.14529743 0.1459737  0.14116468\n",
            " 0.14958046 0.14875391 0.14108954 0.13139637 0.12673763 0.14053851\n",
            " 0.12944271 0.11994991 0.1096556  0.1208516  0.13212273 0.13470257\n",
            " 0.14311835 0.14662492 0.15524108 0.1587226  0.16839073 0.17001879\n",
            " 0.17222292 0.1806387  0.17765811 0.16974327 0.16899186 0.17933626\n",
            " 0.17087038 0.16278021 0.16355667 0.15842204 0.14755166 0.15233563\n",
            " 0.1591985  0.1463995  0.14584847 0.15168441 0.15125861 0.14922981\n",
            " 0.13763306 0.14036318 0.12513463 0.12455855 0.14226675 0.12726362\n",
            " 0.13183106 0.13014102 0.12883201 0.12781325 0.12699662 0.12631546\n",
            " 0.12572542 0.12519918 0.12472036 0.12427901 0.12386844 0.1234836\n",
            " 0.12312027 0.12277474 0.12244355 0.1221237  0.12181258 0.12150791\n",
            " 0.12120787 0.12091102 0.12061612 0.12032238 0.12002919 0.11973623\n",
            " 0.11944325 0.11915029 0.11885739 0.11856478]\n",
            "28 day output [[0.11827269]]\n",
            "29 day input [0.14875391 0.14444584 0.13918597 0.13720726 0.13259862 0.1323732\n",
            " 0.13119599 0.15902317 0.17016907 0.16974327 0.17282405 0.16546024\n",
            " 0.16418284 0.16235441 0.1702943  0.17392611 0.16350657 0.15479023\n",
            " 0.15539136 0.16518472 0.16458359 0.15539136 0.15143394 0.14396994\n",
            " 0.13332498 0.14001252 0.14529743 0.1459737  0.14116468 0.14958046\n",
            " 0.14875391 0.14108954 0.13139637 0.12673763 0.14053851 0.12944271\n",
            " 0.11994991 0.1096556  0.1208516  0.13212273 0.13470257 0.14311835\n",
            " 0.14662492 0.15524108 0.1587226  0.16839073 0.17001879 0.17222292\n",
            " 0.1806387  0.17765811 0.16974327 0.16899186 0.17933626 0.17087038\n",
            " 0.16278021 0.16355667 0.15842204 0.14755166 0.15233563 0.1591985\n",
            " 0.1463995  0.14584847 0.15168441 0.15125861 0.14922981 0.13763306\n",
            " 0.14036318 0.12513463 0.12455855 0.14226675 0.12726362 0.13183106\n",
            " 0.13014102 0.12883201 0.12781325 0.12699662 0.12631546 0.12572542\n",
            " 0.12519918 0.12472036 0.12427901 0.12386844 0.1234836  0.12312027\n",
            " 0.12277474 0.12244355 0.1221237  0.12181258 0.12150791 0.12120787\n",
            " 0.12091102 0.12061612 0.12032238 0.12002919 0.11973623 0.11944325\n",
            " 0.11915029 0.11885739 0.11856478 0.11827269]\n",
            "29 day output [[0.11798152]]\n",
            "[[0.1318310648202896], [0.130141019821167], [0.12883201241493225], [0.12781324982643127], [0.12699662148952484], [0.12631545960903168], [0.1257254183292389], [0.12519918382167816], [0.12472035735845566], [0.12427900731563568], [0.1238684430718422], [0.12348359823226929], [0.1231202706694603], [0.12277473509311676], [0.1224435493350029], [0.12212369590997696], [0.12181258201599121], [0.1215079054236412], [0.12120787054300308], [0.12091101706027985], [0.120616115629673], [0.12032237648963928], [0.12002918869256973], [0.11973623186349869], [0.11944324523210526], [0.11915028840303421], [0.11885739117860794], [0.11856477707624435], [0.11827269196510315], [0.11798152327537537]]\n"
          ]
        }
      ]
    },
    {
      "cell_type": "code",
      "source": [
        "day_new=np.arange(1,101)\n",
        "day_pred=np.arange(101,131)\n",
        "import matplotlib.pyplot as plt\n",
        "len(df1)"
      ],
      "metadata": {
        "colab": {
          "base_uri": "https://localhost:8080/"
        },
        "id": "7tuC_BgaKiaq",
        "outputId": "d01ef3dd-29ba-4787-b446-5b7ccd958cca"
      },
      "execution_count": 42,
      "outputs": [
        {
          "output_type": "execute_result",
          "data": {
            "text/plain": [
              "1259"
            ]
          },
          "metadata": {},
          "execution_count": 42
        }
      ]
    },
    {
      "cell_type": "code",
      "source": [
        "plt.plot(day_new,scaler.inverse_transform(df1[1159:])) ## 1159 because total length of df1 =1259\n",
        "plt.plot(day_pred,scaler.inverse_transform(lst_output))"
      ],
      "metadata": {
        "colab": {
          "base_uri": "https://localhost:8080/",
          "height": 282
        },
        "id": "xx7dykVWKj8f",
        "outputId": "254547a7-4c06-4b32-baf5-e8964fd689ec"
      },
      "execution_count": 44,
      "outputs": [
        {
          "output_type": "execute_result",
          "data": {
            "text/plain": [
              "[<matplotlib.lines.Line2D at 0x7f8cf6883f50>]"
            ]
          },
          "metadata": {},
          "execution_count": 44
        },
        {
          "output_type": "display_data",
          "data": {
            "text/plain": [
              "<Figure size 432x288 with 1 Axes>"
            ],
            "image/png": "[encoded data removed]"
          },
          "metadata": {
            "needs_background": "light"
          }
        }
      ]
    },
    {
      "cell_type": "code",
      "source": [
        "df3=df1.tolist()\n",
        "df3.extend(lst_output)\n",
        "plt.plot(df3[1200:])"
      ],
      "metadata": {
        "colab": {
          "base_uri": "https://localhost:8080/",
          "height": 282
        },
        "id": "wOQ2Ov8mKlgA",
        "outputId": "10bd2a3e-ebe6-49d1-a264-0ee13f63af5e"
      },
      "execution_count": 45,
      "outputs": [
        {
          "output_type": "execute_result",
          "data": {
            "text/plain": [
              "[<matplotlib.lines.Line2D at 0x7f8cf679f710>]"
            ]
          },
          "metadata": {},
          "execution_count": 45
        },
        {
          "output_type": "display_data",
          "data": {
            "text/plain": [
              "<Figure size 432x288 with 1 Axes>"
            ],
            "image/png": "[encoded data removed]"
          },
          "metadata": {
            "needs_background": "light"
          }
        }
      ]
    },
    {
      "cell_type": "code",
      "source": [
        "df3=scaler.inverse_transform(df3).tolist()\n",
        "plt.plot(df3)"
      ],
      "metadata": {
        "colab": {
          "base_uri": "https://localhost:8080/",
          "height": 282
        },
        "id": "B3sXI5uuKm1I",
        "outputId": "bb926a76-24b0-4c5c-b1e9-cd27f63ae49c"
      },
      "execution_count": 46,
      "outputs": [
        {
          "output_type": "execute_result",
          "data": {
            "text/plain": [
              "[<matplotlib.lines.Line2D at 0x7f8cf678b8d0>]"
            ]
          },
          "metadata": {},
          "execution_count": 46
        },
        {
          "output_type": "display_data",
          "data": {
            "text/plain": [
              "<Figure size 432x288 with 1 Axes>"
            ],
            "image/png": "[encoded data removed]"
          },
          "metadata": {
            "needs_background": "light"
          }
        }
      ]
    },
    {
      "cell_type": "code",
      "source": [
        ""
      ],
      "metadata": {
        "id": "PBw9BSLzKocg"
      },
      "execution_count": null,
      "outputs": []
    }
  ]
}