{
  "nbformat": 4,
  "nbformat_minor": 0,
  "metadata": {
    "colab": {
      "name": "code_python.ipynb",
      "provenance": [],
      "authorship_tag": "ABX9TyO0Bj0Dgrbn5IohildNkQzB",
      "include_colab_link": true
    },
    "kernelspec": {
      "name": "python3",
      "display_name": "Python 3"
    },
    "language_info": {
      "name": "python"
    }
  },
  "cells": [
    {
      "cell_type": "markdown",
      "metadata": {
        "id": "view-in-github",
        "colab_type": "text"
      },
      "source": [
        "<a href=\"https://colab.research.google.com/github/melvinsackaria/DeepLearning/blob/main/code_python.ipynb\" target=\"_parent\"><img src=\"https://colab.research.google.com/assets/colab-badge.svg\" alt=\"Open In Colab\"/></a>"
      ]
    },
    {
      "cell_type": "code",
      "execution_count": null,
      "metadata": {
        "colab": {
          "base_uri": "https://localhost:8080/"
        },
        "id": "iNQpEyvVjURW",
        "outputId": "b8bae262-3bc0-4240-fa4c-8616c5b5d569"
      },
      "outputs": [
        {
          "output_type": "stream",
          "name": "stdout",
          "text": [
            "X is : 5\n",
            "X is : 7\n",
            "X is : 3\n",
            "X is : 2\n",
            "X is : 0\n",
            "X is : 1\n",
            "min:   0\n",
            "X is : 5\n",
            "X is : 7\n",
            "X is : 3\n",
            "X is : 2\n",
            "X is : 1\n",
            "min:   1\n",
            "X is : 5\n",
            "X is : 7\n",
            "X is : 3\n",
            "X is : 2\n",
            "min:   2\n",
            "X is : 5\n",
            "X is : 7\n",
            "X is : 3\n",
            "min:   3\n",
            "X is : 5\n",
            "X is : 7\n",
            "min:   5\n",
            "X is : 7\n",
            "min:   7\n",
            "[0, 1, 2, 3, 5, 7]\n"
          ]
        }
      ],
      "source": [
        "l=[5,7,3,2,0,1]\n",
        "n=[]\n",
        "while l:\n",
        "  min=l[0]\n",
        "  for x in l:\n",
        "    print(\"X is : \"+str(x))\n",
        "    if x<min:\n",
        "      #print(\"x: \"+str(x))\n",
        "      min=x\n",
        "  print(\"min:   \"+str(min))   \n",
        "  l.remove(min)\n",
        "  n.append(min)\n",
        "print(n)"
      ]
    },
    {
      "cell_type": "code",
      "source": [
        "l=[2,1,5,4,7,5,9,3]\n",
        "l.reverse()\n",
        "print(l)\n",
        "str1=\"madam\"\n",
        "print(''.join(str1))\n",
        "#OR\n",
        "str2 = reversed(str1)\n",
        "print(type(str2))\n",
        "for x in str1:\n",
        "  print(x)\n",
        "#OR\n"
      ],
      "metadata": {
        "colab": {
          "base_uri": "https://localhost:8080/"
        },
        "id": "Z5u2mal3184j",
        "outputId": "975ceb1b-c61c-4586-e3ab-e3534071195f"
      },
      "execution_count": null,
      "outputs": [
        {
          "output_type": "stream",
          "name": "stdout",
          "text": [
            "[3, 9, 5, 7, 4, 5, 1, 2]\n",
            "madam\n",
            "<class 'reversed'>\n",
            "m\n",
            "a\n",
            "d\n",
            "a\n",
            "m\n"
          ]
        }
      ]
    },
    {
      "cell_type": "code",
      "source": [
        "str3 = \"madam\"\n",
        "\n",
        "print(str3[::-1])\n",
        "\n",
        "for x in str3:\n",
        "  print(x)\n",
        "print(\"--------------\")\n",
        "for x in str3[::-1]:\n",
        "  print(x)\n"
      ],
      "metadata": {
        "colab": {
          "base_uri": "https://localhost:8080/"
        },
        "id": "AMzv3KUECAbr",
        "outputId": "9913516f-52b6-4d83-a99c-327a5c13fe0c"
      },
      "execution_count": null,
      "outputs": [
        {
          "output_type": "stream",
          "name": "stdout",
          "text": [
            "madam\n",
            "m\n",
            "a\n",
            "d\n",
            "a\n",
            "m\n",
            "--------------\n",
            "m\n",
            "a\n",
            "d\n",
            "a\n",
            "m\n"
          ]
        }
      ]
    },
    {
      "cell_type": "code",
      "source": [
        "str3 = \"madam\"\n",
        "for x in str3:\n",
        "  if all(x!=y for y in str3[::-1]):\n",
        "    print(\"xtrea\")\n",
        "print(\"y\")"
      ],
      "metadata": {
        "colab": {
          "base_uri": "https://localhost:8080/"
        },
        "id": "y1R7-13BEwAg",
        "outputId": "05364566-c666-4183-fd1a-17f5cd9e160f"
      },
      "execution_count": null,
      "outputs": [
        {
          "output_type": "stream",
          "name": "stdout",
          "text": [
            "y\n"
          ]
        }
      ]
    },
    {
      "cell_type": "code",
      "source": [
        "x=[1,2,3,4,5,6,4,3,1]\n",
        "for i in x:\n",
        "  print(set(x for x3))"
      ],
      "metadata": {
        "id": "LPoeoibkXCRt"
      },
      "execution_count": null,
      "outputs": []
    },
    {
      "cell_type": "code",
      "source": [
        "for num in range(100,200):\n",
        "    if all(num%i !=0 for i in range (2,num)):\n",
        "        print(num)"
      ],
      "metadata": {
        "colab": {
          "base_uri": "https://localhost:8080/"
        },
        "id": "pF1-5zhAFSbA",
        "outputId": "691bef0d-1bfa-4cb7-afc1-0e21c19b10ef"
      },
      "execution_count": null,
      "outputs": [
        {
          "output_type": "stream",
          "name": "stdout",
          "text": [
            "101\n",
            "103\n",
            "107\n",
            "109\n",
            "113\n",
            "127\n",
            "131\n",
            "137\n",
            "139\n",
            "149\n",
            "151\n",
            "157\n",
            "163\n",
            "167\n",
            "173\n",
            "179\n",
            "181\n",
            "191\n",
            "193\n",
            "197\n",
            "199\n"
          ]
        }
      ]
    }
  ]
}