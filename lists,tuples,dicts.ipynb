{
  "nbformat": 4,
  "nbformat_minor": 0,
  "metadata": {
    "colab": {
      "name": "lists,tuples,dicts.ipynb",
      "provenance": [],
      "authorship_tag": "ABX9TyO8G2PTAzci+CUG5/abu9BV",
      "include_colab_link": true
    },
    "kernelspec": {
      "name": "python3",
      "display_name": "Python 3"
    },
    "language_info": {
      "name": "python"
    }
  },
  "cells": [
    {
      "cell_type": "markdown",
      "metadata": {
        "id": "view-in-github",
        "colab_type": "text"
      },
      "source": [
        "<a href=\"https://colab.research.google.com/github/melvinsackaria/DeepLearning/blob/main/lists%2Ctuples%2Cdicts.ipynb\" target=\"_parent\"><img src=\"https://colab.research.google.com/assets/colab-badge.svg\" alt=\"Open In Colab\"/></a>"
      ]
    },
    {
      "cell_type": "code",
      "metadata": {
        "id": "YzGZpHIED0NK"
      },
      "source": [
        "test_list = [3, 6, 7, 8, 9, 2, 1, 5,11,10,19,18,17,54,44] "
      ],
      "execution_count": null,
      "outputs": []
    },
    {
      "cell_type": "code",
      "metadata": {
        "colab": {
          "base_uri": "https://localhost:8080/"
        },
        "id": "U7QB77hwGMtO",
        "outputId": "222b69f0-f10e-49a6-c0bb-4b339f697616"
      },
      "source": [
        "res = test_list[::2] + test_list[1::2] \n",
        "print(test_list[:2])\n",
        "print(test_list[0:1])\n",
        "print(test_list[::2])\n",
        "print(test_list[::3])\n",
        "print(test_list[1::2])\n",
        "print(res)"
      ],
      "execution_count": null,
      "outputs": [
        {
          "output_type": "stream",
          "name": "stdout",
          "text": [
            "[3, 6]\n",
            "[3]\n",
            "[3, 7, 9, 1, 11, 19, 17, 44]\n",
            "[3, 8, 1, 10, 17]\n",
            "[6, 8, 2, 5, 10, 18, 54]\n",
            "[3, 7, 9, 1, 11, 19, 17, 44, 6, 8, 2, 5, 10, 18, 54]\n"
          ]
        }
      ]
    },
    {
      "cell_type": "code",
      "metadata": {
        "colab": {
          "base_uri": "https://localhost:8080/"
        },
        "id": "7GSopgTf7W3G",
        "outputId": "cd7c668b-2e6d-4bbd-e891-223b6b9e1815"
      },
      "source": [
        "a= 60\n",
        "s=[1,2,3,4,5]\n",
        "print(\"value of a is {}\".format(a))\n",
        "print(s[1])"
      ],
      "execution_count": null,
      "outputs": [
        {
          "output_type": "stream",
          "name": "stdout",
          "text": [
            "value of a is 60\n",
            "2\n"
          ]
        }
      ]
    },
    {
      "cell_type": "code",
      "metadata": {
        "colab": {
          "base_uri": "https://localhost:8080/"
        },
        "id": "p7no19Rm8m32",
        "outputId": "50c91e37-8f64-44a9-8fa4-6c207b5e6c9f"
      },
      "source": [
        "b_tuple = (1,\"Melvin\")\n",
        "print(type(b_tuple)) "
      ],
      "execution_count": null,
      "outputs": [
        {
          "output_type": "stream",
          "name": "stdout",
          "text": [
            "<class 'tuple'>\n"
          ]
        }
      ]
    },
    {
      "cell_type": "code",
      "metadata": {
        "colab": {
          "base_uri": "https://localhost:8080/"
        },
        "id": "NhNjcBqW_ExO",
        "outputId": "ae300398-2035-49dd-cf83-edfa356b0179"
      },
      "source": [
        "customerTypes={1:\"Retail\",\"2\":\"Wholesale\",\"3\":\"Corporate\",\"4\":\"B2B\"} \n",
        "print(type(customerTypes))\n",
        "print(customerTypes[\"2\"])"
      ],
      "execution_count": null,
      "outputs": [
        {
          "output_type": "stream",
          "name": "stdout",
          "text": [
            "<class 'dict'>\n",
            "Wholesale\n"
          ]
        }
      ]
    },
    {
      "cell_type": "code",
      "metadata": {
        "colab": {
          "base_uri": "https://localhost:8080/"
        },
        "id": "Kk-_z2_QJW7K",
        "outputId": "9370f167-213e-4955-ebf1-5f3871d5bca2"
      },
      "source": [
        "d={}\n",
        "# Use for loop to add values\n",
        "for index in range(10):\n",
        "    d[index] = \"%i value\"%index\n",
        "\n",
        "for i in d:\n",
        "  print(\"Key is {} and value is {}\".format(i,d[i]))\n",
        "\n",
        "\n",
        "for k,v in d.items(): # for loop has 2 variables key,value\n",
        "    print(\"Value is: \",v,\", Key is: \",k)\n",
        "    if( k == 3):\n",
        "        break\n"
      ],
      "execution_count": null,
      "outputs": [
        {
          "output_type": "stream",
          "name": "stdout",
          "text": [
            "Key is 0 and value is 0 value\n",
            "Key is 1 and value is 1 value\n",
            "Key is 2 and value is 2 value\n",
            "Key is 3 and value is 3 value\n",
            "Key is 4 and value is 4 value\n",
            "Key is 5 and value is 5 value\n",
            "Key is 6 and value is 6 value\n",
            "Key is 7 and value is 7 value\n",
            "Key is 8 and value is 8 value\n",
            "Key is 9 and value is 9 value\n",
            "Value is:  0 value , Key is:  0\n",
            "Value is:  1 value , Key is:  1\n",
            "Value is:  2 value , Key is:  2\n",
            "Value is:  3 value , Key is:  3\n"
          ]
        }
      ]
    },
    {
      "cell_type": "code",
      "metadata": {
        "id": "UW5KtVv_a1_f"
      },
      "source": [
        ""
      ],
      "execution_count": null,
      "outputs": []
    }
  ]
}