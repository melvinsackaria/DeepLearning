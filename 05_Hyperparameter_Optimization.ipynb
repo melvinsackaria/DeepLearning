{
  "nbformat": 4,
  "nbformat_minor": 0,
  "metadata": {
    "colab": {
      "name": "05-Hyperparameter_Optimization.ipynb",
      "provenance": [],
      "authorship_tag": "ABX9TyO75LuE0zuzp8TvVd5Zd1VO",
      "include_colab_link": true
    },
    "kernelspec": {
      "name": "python3",
      "display_name": "Python 3"
    },
    "language_info": {
      "name": "python"
    },
    "widgets": {
      "application/vnd.jupyter.widget-state+json": {
        "04a656b4dd514c82b0cd32bb93f06aca": {
          "model_module": "@jupyter-widgets/controls",
          "model_name": "HBoxModel",
          "model_module_version": "1.5.0",
          "state": {
            "_dom_classes": [],
            "_model_module": "@jupyter-widgets/controls",
            "_model_module_version": "1.5.0",
            "_model_name": "HBoxModel",
            "_view_count": null,
            "_view_module": "@jupyter-widgets/controls",
            "_view_module_version": "1.5.0",
            "_view_name": "HBoxView",
            "box_style": "",
            "children": [
              "IPY_MODEL_423e1371cf0e43a1ae18946796cccd4d",
              "IPY_MODEL_55c264768e264e9c882ff2c4d47ac28b",
              "IPY_MODEL_7ca93cde1d48401aa1b4862de0a5c5f7"
            ],
            "layout": "IPY_MODEL_4778a657bbff44f797684bcc0f485b90"
          }
        },
        "423e1371cf0e43a1ae18946796cccd4d": {
          "model_module": "@jupyter-widgets/controls",
          "model_name": "HTMLModel",
          "model_module_version": "1.5.0",
          "state": {
            "_dom_classes": [],
            "_model_module": "@jupyter-widgets/controls",
            "_model_module_version": "1.5.0",
            "_model_name": "HTMLModel",
            "_view_count": null,
            "_view_module": "@jupyter-widgets/controls",
            "_view_module_version": "1.5.0",
            "_view_name": "HTMLView",
            "description": "",
            "description_tooltip": null,
            "layout": "IPY_MODEL_9f18f04c53464cafb97b96cb7b8c3d8d",
            "placeholder": "​",
            "style": "IPY_MODEL_b61c41abedd44e7ba6de38b773d335b8",
            "value": "Optimization Progress: 100%"
          }
        },
        "55c264768e264e9c882ff2c4d47ac28b": {
          "model_module": "@jupyter-widgets/controls",
          "model_name": "FloatProgressModel",
          "model_module_version": "1.5.0",
          "state": {
            "_dom_classes": [],
            "_model_module": "@jupyter-widgets/controls",
            "_model_module_version": "1.5.0",
            "_model_name": "FloatProgressModel",
            "_view_count": null,
            "_view_module": "@jupyter-widgets/controls",
            "_view_module_version": "1.5.0",
            "_view_name": "ProgressView",
            "bar_style": "",
            "description": "",
            "description_tooltip": null,
            "layout": "IPY_MODEL_ee70b2167c7949f19723b4455c5669cf",
            "max": 84,
            "min": 0,
            "orientation": "horizontal",
            "style": "IPY_MODEL_d5ca722f12bf4b77a26783305deb4fd3",
            "value": 84
          }
        },
        "7ca93cde1d48401aa1b4862de0a5c5f7": {
          "model_module": "@jupyter-widgets/controls",
          "model_name": "HTMLModel",
          "model_module_version": "1.5.0",
          "state": {
            "_dom_classes": [],
            "_model_module": "@jupyter-widgets/controls",
            "_model_module_version": "1.5.0",
            "_model_name": "HTMLModel",
            "_view_count": null,
            "_view_module": "@jupyter-widgets/controls",
            "_view_module_version": "1.5.0",
            "_view_name": "HTMLView",
            "description": "",
            "description_tooltip": null,
            "layout": "IPY_MODEL_1a065f44c4fb45f8ac4f974582a91fed",
            "placeholder": "​",
            "style": "IPY_MODEL_afacbac8b79b4061868c07cabcda4100",
            "value": " 84/84 [18:28&lt;00:00, 12.12s/pipeline]"
          }
        },
        "4778a657bbff44f797684bcc0f485b90": {
          "model_module": "@jupyter-widgets/base",
          "model_name": "LayoutModel",
          "model_module_version": "1.2.0",
          "state": {
            "_model_module": "@jupyter-widgets/base",
            "_model_module_version": "1.2.0",
            "_model_name": "LayoutModel",
            "_view_count": null,
            "_view_module": "@jupyter-widgets/base",
            "_view_module_version": "1.2.0",
            "_view_name": "LayoutView",
            "align_content": null,
            "align_items": null,
            "align_self": null,
            "border": null,
            "bottom": null,
            "display": null,
            "flex": null,
            "flex_flow": null,
            "grid_area": null,
            "grid_auto_columns": null,
            "grid_auto_flow": null,
            "grid_auto_rows": null,
            "grid_column": null,
            "grid_gap": null,
            "grid_row": null,
            "grid_template_areas": null,
            "grid_template_columns": null,
            "grid_template_rows": null,
            "height": null,
            "justify_content": null,
            "justify_items": null,
            "left": null,
            "margin": null,
            "max_height": null,
            "max_width": null,
            "min_height": null,
            "min_width": null,
            "object_fit": null,
            "object_position": null,
            "order": null,
            "overflow": null,
            "overflow_x": null,
            "overflow_y": null,
            "padding": null,
            "right": null,
            "top": null,
            "visibility": null,
            "width": null
          }
        },
        "9f18f04c53464cafb97b96cb7b8c3d8d": {
          "model_module": "@jupyter-widgets/base",
          "model_name": "LayoutModel",
          "model_module_version": "1.2.0",
          "state": {
            "_model_module": "@jupyter-widgets/base",
            "_model_module_version": "1.2.0",
            "_model_name": "LayoutModel",
            "_view_count": null,
            "_view_module": "@jupyter-widgets/base",
            "_view_module_version": "1.2.0",
            "_view_name": "LayoutView",
            "align_content": null,
            "align_items": null,
            "align_self": null,
            "border": null,
            "bottom": null,
            "display": null,
            "flex": null,
            "flex_flow": null,
            "grid_area": null,
            "grid_auto_columns": null,
            "grid_auto_flow": null,
            "grid_auto_rows": null,
            "grid_column": null,
            "grid_gap": null,
            "grid_row": null,
            "grid_template_areas": null,
            "grid_template_columns": null,
            "grid_template_rows": null,
            "height": null,
            "justify_content": null,
            "justify_items": null,
            "left": null,
            "margin": null,
            "max_height": null,
            "max_width": null,
            "min_height": null,
            "min_width": null,
            "object_fit": null,
            "object_position": null,
            "order": null,
            "overflow": null,
            "overflow_x": null,
            "overflow_y": null,
            "padding": null,
            "right": null,
            "top": null,
            "visibility": null,
            "width": null
          }
        },
        "b61c41abedd44e7ba6de38b773d335b8": {
          "model_module": "@jupyter-widgets/controls",
          "model_name": "DescriptionStyleModel",
          "model_module_version": "1.5.0",
          "state": {
            "_model_module": "@jupyter-widgets/controls",
            "_model_module_version": "1.5.0",
            "_model_name": "DescriptionStyleModel",
            "_view_count": null,
            "_view_module": "@jupyter-widgets/base",
            "_view_module_version": "1.2.0",
            "_view_name": "StyleView",
            "description_width": ""
          }
        },
        "ee70b2167c7949f19723b4455c5669cf": {
          "model_module": "@jupyter-widgets/base",
          "model_name": "LayoutModel",
          "model_module_version": "1.2.0",
          "state": {
            "_model_module": "@jupyter-widgets/base",
            "_model_module_version": "1.2.0",
            "_model_name": "LayoutModel",
            "_view_count": null,
            "_view_module": "@jupyter-widgets/base",
            "_view_module_version": "1.2.0",
            "_view_name": "LayoutView",
            "align_content": null,
            "align_items": null,
            "align_self": null,
            "border": null,
            "bottom": null,
            "display": null,
            "flex": null,
            "flex_flow": null,
            "grid_area": null,
            "grid_auto_columns": null,
            "grid_auto_flow": null,
            "grid_auto_rows": null,
            "grid_column": null,
            "grid_gap": null,
            "grid_row": null,
            "grid_template_areas": null,
            "grid_template_columns": null,
            "grid_template_rows": null,
            "height": null,
            "justify_content": null,
            "justify_items": null,
            "left": null,
            "margin": null,
            "max_height": null,
            "max_width": null,
            "min_height": null,
            "min_width": null,
            "object_fit": null,
            "object_position": null,
            "order": null,
            "overflow": null,
            "overflow_x": null,
            "overflow_y": null,
            "padding": null,
            "right": null,
            "top": null,
            "visibility": null,
            "width": null
          }
        },
        "d5ca722f12bf4b77a26783305deb4fd3": {
          "model_module": "@jupyter-widgets/controls",
          "model_name": "ProgressStyleModel",
          "model_module_version": "1.5.0",
          "state": {
            "_model_module": "@jupyter-widgets/controls",
            "_model_module_version": "1.5.0",
            "_model_name": "ProgressStyleModel",
            "_view_count": null,
            "_view_module": "@jupyter-widgets/base",
            "_view_module_version": "1.2.0",
            "_view_name": "StyleView",
            "bar_color": null,
            "description_width": ""
          }
        },
        "1a065f44c4fb45f8ac4f974582a91fed": {
          "model_module": "@jupyter-widgets/base",
          "model_name": "LayoutModel",
          "model_module_version": "1.2.0",
          "state": {
            "_model_module": "@jupyter-widgets/base",
            "_model_module_version": "1.2.0",
            "_model_name": "LayoutModel",
            "_view_count": null,
            "_view_module": "@jupyter-widgets/base",
            "_view_module_version": "1.2.0",
            "_view_name": "LayoutView",
            "align_content": null,
            "align_items": null,
            "align_self": null,
            "border": null,
            "bottom": null,
            "display": null,
            "flex": null,
            "flex_flow": null,
            "grid_area": null,
            "grid_auto_columns": null,
            "grid_auto_flow": null,
            "grid_auto_rows": null,
            "grid_column": null,
            "grid_gap": null,
            "grid_row": null,
            "grid_template_areas": null,
            "grid_template_columns": null,
            "grid_template_rows": null,
            "height": null,
            "justify_content": null,
            "justify_items": null,
            "left": null,
            "margin": null,
            "max_height": null,
            "max_width": null,
            "min_height": null,
            "min_width": null,
            "object_fit": null,
            "object_position": null,
            "order": null,
            "overflow": null,
            "overflow_x": null,
            "overflow_y": null,
            "padding": null,
            "right": null,
            "top": null,
            "visibility": null,
            "width": null
          }
        },
        "afacbac8b79b4061868c07cabcda4100": {
          "model_module": "@jupyter-widgets/controls",
          "model_name": "DescriptionStyleModel",
          "model_module_version": "1.5.0",
          "state": {
            "_model_module": "@jupyter-widgets/controls",
            "_model_module_version": "1.5.0",
            "_model_name": "DescriptionStyleModel",
            "_view_count": null,
            "_view_module": "@jupyter-widgets/base",
            "_view_module_version": "1.2.0",
            "_view_name": "StyleView",
            "description_width": ""
          }
        }
      }
    }
  },
  "cells": [
    {
      "cell_type": "markdown",
      "metadata": {
        "id": "view-in-github",
        "colab_type": "text"
      },
      "source": [
        "<a href=\"https://colab.research.google.com/github/melvinsackaria/DeepLearning/blob/main/05_Hyperparameter_Optimization.ipynb\" target=\"_parent\"><img src=\"https://colab.research.google.com/assets/colab-badge.svg\" alt=\"Open In Colab\"/></a>"
      ]
    },
    {
      "cell_type": "markdown",
      "source": [
        "\n",
        "**All Techniques Of Hyper Parameter Optimization**\n",
        "\n",
        "GridSearchCV\n",
        "\n",
        "RandomizedSearchCV\n",
        "\n",
        "Bayesian Optimization -Automate Hyperparameter Tuning (Hyperopt)\n",
        "\n",
        "Sequential Model Based Optimization(Tuning a scikit-learn estimator with skopt)\n",
        "\n",
        "Optuna- Automate Hyperparameter Tuning\n",
        "\n",
        "Genetic Algorithms (TPOT Classifier)"
      ],
      "metadata": {
        "id": "M2GWwqWut_jD"
      }
    },
    {
      "cell_type": "markdown",
      "source": [
        "**References**\n",
        "\n",
        "https://github.com/fmfn/BayesianOptimization\n",
        "\n",
        "https://github.com/hyperopt/hyperopt\n",
        "\n",
        "https://www.jeremyjordan.me/hyperparameter-tuning/\n",
        "\n",
        "https://optuna.org/\n",
        "\n",
        "https://towardsdatascience.com/hyperparameters-optimization-526348bb8e2d(By Pier Paolo Ippolito )\n",
        "\n",
        "https://scikit-optimize.github.io/stable/auto_examples/hyperparameter-optimization.html\n"
      ],
      "metadata": {
        "id": "yEPCTQ3huUrf"
      }
    },
    {
      "cell_type": "code",
      "execution_count": null,
      "metadata": {
        "id": "R_9hwi6zQ5WM"
      },
      "outputs": [],
      "source": [
        "import warnings\n",
        "warnings.filterwarnings('ignore')"
      ]
    },
    {
      "cell_type": "code",
      "source": [
        "import pandas as pd\n",
        "df=pd.read_csv('diabetes.csv')\n",
        "df.head()"
      ],
      "metadata": {
        "colab": {
          "base_uri": "https://localhost:8080/",
          "height": 206
        },
        "id": "BwEIb27HDWby",
        "outputId": "f20f693e-7e4d-46b7-b02d-8af43eec9933"
      },
      "execution_count": null,
      "outputs": [
        {
          "output_type": "execute_result",
          "data": {
            "text/plain": [
              "   Pregnancies  Glucose  BloodPressure  SkinThickness  Insulin   BMI  \\\n",
              "0            6      148             72             35        0  33.6   \n",
              "1            1       85             66             29        0  26.6   \n",
              "2            8      183             64              0        0  23.3   \n",
              "3            1       89             66             23       94  28.1   \n",
              "4            0      137             40             35      168  43.1   \n",
              "\n",
              "   DiabetesPedigreeFunction  Age  Outcome  \n",
              "0                     0.627   50        1  \n",
              "1                     0.351   31        0  \n",
              "2                     0.672   32        1  \n",
              "3                     0.167   21        0  \n",
              "4                     2.288   33        1  "
            ],
            "text/html": [
              "\n",
              "  <div id=\"df-fd78be07-e548-4af5-b848-81d7c33fd0ad\">\n",
              "    <div class=\"colab-df-container\">\n",
              "      <div>\n",
              "<style scoped>\n",
              "    .dataframe tbody tr th:only-of-type {\n",
              "        vertical-align: middle;\n",
              "    }\n",
              "\n",
              "    .dataframe tbody tr th {\n",
              "        vertical-align: top;\n",
              "    }\n",
              "\n",
              "    .dataframe thead th {\n",
              "        text-align: right;\n",
              "    }\n",
              "</style>\n",
              "<table border=\"1\" class=\"dataframe\">\n",
              "  <thead>\n",
              "    <tr style=\"text-align: right;\">\n",
              "      <th></th>\n",
              "      <th>Pregnancies</th>\n",
              "      <th>Glucose</th>\n",
              "      <th>BloodPressure</th>\n",
              "      <th>SkinThickness</th>\n",
              "      <th>Insulin</th>\n",
              "      <th>BMI</th>\n",
              "      <th>DiabetesPedigreeFunction</th>\n",
              "      <th>Age</th>\n",
              "      <th>Outcome</th>\n",
              "    </tr>\n",
              "  </thead>\n",
              "  <tbody>\n",
              "    <tr>\n",
              "      <th>0</th>\n",
              "      <td>6</td>\n",
              "      <td>148</td>\n",
              "      <td>72</td>\n",
              "      <td>35</td>\n",
              "      <td>0</td>\n",
              "      <td>33.6</td>\n",
              "      <td>0.627</td>\n",
              "      <td>50</td>\n",
              "      <td>1</td>\n",
              "    </tr>\n",
              "    <tr>\n",
              "      <th>1</th>\n",
              "      <td>1</td>\n",
              "      <td>85</td>\n",
              "      <td>66</td>\n",
              "      <td>29</td>\n",
              "      <td>0</td>\n",
              "      <td>26.6</td>\n",
              "      <td>0.351</td>\n",
              "      <td>31</td>\n",
              "      <td>0</td>\n",
              "    </tr>\n",
              "    <tr>\n",
              "      <th>2</th>\n",
              "      <td>8</td>\n",
              "      <td>183</td>\n",
              "      <td>64</td>\n",
              "      <td>0</td>\n",
              "      <td>0</td>\n",
              "      <td>23.3</td>\n",
              "      <td>0.672</td>\n",
              "      <td>32</td>\n",
              "      <td>1</td>\n",
              "    </tr>\n",
              "    <tr>\n",
              "      <th>3</th>\n",
              "      <td>1</td>\n",
              "      <td>89</td>\n",
              "      <td>66</td>\n",
              "      <td>23</td>\n",
              "      <td>94</td>\n",
              "      <td>28.1</td>\n",
              "      <td>0.167</td>\n",
              "      <td>21</td>\n",
              "      <td>0</td>\n",
              "    </tr>\n",
              "    <tr>\n",
              "      <th>4</th>\n",
              "      <td>0</td>\n",
              "      <td>137</td>\n",
              "      <td>40</td>\n",
              "      <td>35</td>\n",
              "      <td>168</td>\n",
              "      <td>43.1</td>\n",
              "      <td>2.288</td>\n",
              "      <td>33</td>\n",
              "      <td>1</td>\n",
              "    </tr>\n",
              "  </tbody>\n",
              "</table>\n",
              "</div>\n",
              "      <button class=\"colab-df-convert\" onclick=\"convertToInteractive('df-fd78be07-e548-4af5-b848-81d7c33fd0ad')\"\n",
              "              title=\"Convert this dataframe to an interactive table.\"\n",
              "              style=\"display:none;\">\n",
              "        \n",
              "  <svg xmlns=\"http://www.w3.org/2000/svg\" height=\"24px\"viewBox=\"0 0 24 24\"\n",
              "       width=\"24px\">\n",
              "    <path d=\"M0 0h24v24H0V0z\" fill=\"none\"/>\n",
              "    <path d=\"M18.56 5.44l.94 2.06.94-2.06 2.06-.94-2.06-.94-.94-2.06-.94 2.06-2.06.94zm-11 1L8.5 8.5l.94-2.06 2.06-.94-2.06-.94L8.5 2.5l-.94 2.06-2.06.94zm10 10l.94 2.06.94-2.06 2.06-.94-2.06-.94-.94-2.06-.94 2.06-2.06.94z\"/><path d=\"M17.41 7.96l-1.37-1.37c-.4-.4-.92-.59-1.43-.59-.52 0-1.04.2-1.43.59L10.3 9.45l-7.72 7.72c-.78.78-.78 2.05 0 2.83L4 21.41c.39.39.9.59 1.41.59.51 0 1.02-.2 1.41-.59l7.78-7.78 2.81-2.81c.8-.78.8-2.07 0-2.86zM5.41 20L4 18.59l7.72-7.72 1.47 1.35L5.41 20z\"/>\n",
              "  </svg>\n",
              "      </button>\n",
              "      \n",
              "  <style>\n",
              "    .colab-df-container {\n",
              "      display:flex;\n",
              "      flex-wrap:wrap;\n",
              "      gap: 12px;\n",
              "    }\n",
              "\n",
              "    .colab-df-convert {\n",
              "      background-color: #E8F0FE;\n",
              "      border: none;\n",
              "      border-radius: 50%;\n",
              "      cursor: pointer;\n",
              "      display: none;\n",
              "      fill: #1967D2;\n",
              "      height: 32px;\n",
              "      padding: 0 0 0 0;\n",
              "      width: 32px;\n",
              "    }\n",
              "\n",
              "    .colab-df-convert:hover {\n",
              "      background-color: #E2EBFA;\n",
              "      box-shadow: 0px 1px 2px rgba(60, 64, 67, 0.3), 0px 1px 3px 1px rgba(60, 64, 67, 0.15);\n",
              "      fill: #174EA6;\n",
              "    }\n",
              "\n",
              "    [theme=dark] .colab-df-convert {\n",
              "      background-color: #3B4455;\n",
              "      fill: #D2E3FC;\n",
              "    }\n",
              "\n",
              "    [theme=dark] .colab-df-convert:hover {\n",
              "      background-color: #434B5C;\n",
              "      box-shadow: 0px 1px 3px 1px rgba(0, 0, 0, 0.15);\n",
              "      filter: drop-shadow(0px 1px 2px rgba(0, 0, 0, 0.3));\n",
              "      fill: #FFFFFF;\n",
              "    }\n",
              "  </style>\n",
              "\n",
              "      <script>\n",
              "        const buttonEl =\n",
              "          document.querySelector('#df-fd78be07-e548-4af5-b848-81d7c33fd0ad button.colab-df-convert');\n",
              "        buttonEl.style.display =\n",
              "          google.colab.kernel.accessAllowed ? 'block' : 'none';\n",
              "\n",
              "        async function convertToInteractive(key) {\n",
              "          const element = document.querySelector('#df-fd78be07-e548-4af5-b848-81d7c33fd0ad');\n",
              "          const dataTable =\n",
              "            await google.colab.kernel.invokeFunction('convertToInteractive',\n",
              "                                                     [key], {});\n",
              "          if (!dataTable) return;\n",
              "\n",
              "          const docLinkHtml = 'Like what you see? Visit the ' +\n",
              "            '<a target=\"_blank\" href=https://colab.research.google.com/notebooks/data_table.ipynb>data table notebook</a>'\n",
              "            + ' to learn more about interactive tables.';\n",
              "          element.innerHTML = '';\n",
              "          dataTable['output_type'] = 'display_data';\n",
              "          await google.colab.output.renderOutput(dataTable, element);\n",
              "          const docLink = document.createElement('div');\n",
              "          docLink.innerHTML = docLinkHtml;\n",
              "          element.appendChild(docLink);\n",
              "        }\n",
              "      </script>\n",
              "    </div>\n",
              "  </div>\n",
              "  "
            ]
          },
          "metadata": {},
          "execution_count": 2
        }
      ]
    },
    {
      "cell_type": "code",
      "source": [
        "import numpy as np\n",
        "df['Glucose']=np.where(df['Glucose']==0,df['Glucose'].median(),df['Glucose'])\n",
        "df.head()"
      ],
      "metadata": {
        "colab": {
          "base_uri": "https://localhost:8080/",
          "height": 206
        },
        "id": "CJ8UXGz3DlJZ",
        "outputId": "d0b1b080-996a-4bdf-95cd-fa2344550e0b"
      },
      "execution_count": null,
      "outputs": [
        {
          "output_type": "execute_result",
          "data": {
            "text/plain": [
              "   Pregnancies  Glucose  BloodPressure  SkinThickness  Insulin   BMI  \\\n",
              "0            6    148.0             72             35        0  33.6   \n",
              "1            1     85.0             66             29        0  26.6   \n",
              "2            8    183.0             64              0        0  23.3   \n",
              "3            1     89.0             66             23       94  28.1   \n",
              "4            0    137.0             40             35      168  43.1   \n",
              "\n",
              "   DiabetesPedigreeFunction  Age  Outcome  \n",
              "0                     0.627   50        1  \n",
              "1                     0.351   31        0  \n",
              "2                     0.672   32        1  \n",
              "3                     0.167   21        0  \n",
              "4                     2.288   33        1  "
            ],
            "text/html": [
              "\n",
              "  <div id=\"df-cb1ab83a-1bf5-4a7d-ae06-20e7eab77246\">\n",
              "    <div class=\"colab-df-container\">\n",
              "      <div>\n",
              "<style scoped>\n",
              "    .dataframe tbody tr th:only-of-type {\n",
              "        vertical-align: middle;\n",
              "    }\n",
              "\n",
              "    .dataframe tbody tr th {\n",
              "        vertical-align: top;\n",
              "    }\n",
              "\n",
              "    .dataframe thead th {\n",
              "        text-align: right;\n",
              "    }\n",
              "</style>\n",
              "<table border=\"1\" class=\"dataframe\">\n",
              "  <thead>\n",
              "    <tr style=\"text-align: right;\">\n",
              "      <th></th>\n",
              "      <th>Pregnancies</th>\n",
              "      <th>Glucose</th>\n",
              "      <th>BloodPressure</th>\n",
              "      <th>SkinThickness</th>\n",
              "      <th>Insulin</th>\n",
              "      <th>BMI</th>\n",
              "      <th>DiabetesPedigreeFunction</th>\n",
              "      <th>Age</th>\n",
              "      <th>Outcome</th>\n",
              "    </tr>\n",
              "  </thead>\n",
              "  <tbody>\n",
              "    <tr>\n",
              "      <th>0</th>\n",
              "      <td>6</td>\n",
              "      <td>148.0</td>\n",
              "      <td>72</td>\n",
              "      <td>35</td>\n",
              "      <td>0</td>\n",
              "      <td>33.6</td>\n",
              "      <td>0.627</td>\n",
              "      <td>50</td>\n",
              "      <td>1</td>\n",
              "    </tr>\n",
              "    <tr>\n",
              "      <th>1</th>\n",
              "      <td>1</td>\n",
              "      <td>85.0</td>\n",
              "      <td>66</td>\n",
              "      <td>29</td>\n",
              "      <td>0</td>\n",
              "      <td>26.6</td>\n",
              "      <td>0.351</td>\n",
              "      <td>31</td>\n",
              "      <td>0</td>\n",
              "    </tr>\n",
              "    <tr>\n",
              "      <th>2</th>\n",
              "      <td>8</td>\n",
              "      <td>183.0</td>\n",
              "      <td>64</td>\n",
              "      <td>0</td>\n",
              "      <td>0</td>\n",
              "      <td>23.3</td>\n",
              "      <td>0.672</td>\n",
              "      <td>32</td>\n",
              "      <td>1</td>\n",
              "    </tr>\n",
              "    <tr>\n",
              "      <th>3</th>\n",
              "      <td>1</td>\n",
              "      <td>89.0</td>\n",
              "      <td>66</td>\n",
              "      <td>23</td>\n",
              "      <td>94</td>\n",
              "      <td>28.1</td>\n",
              "      <td>0.167</td>\n",
              "      <td>21</td>\n",
              "      <td>0</td>\n",
              "    </tr>\n",
              "    <tr>\n",
              "      <th>4</th>\n",
              "      <td>0</td>\n",
              "      <td>137.0</td>\n",
              "      <td>40</td>\n",
              "      <td>35</td>\n",
              "      <td>168</td>\n",
              "      <td>43.1</td>\n",
              "      <td>2.288</td>\n",
              "      <td>33</td>\n",
              "      <td>1</td>\n",
              "    </tr>\n",
              "  </tbody>\n",
              "</table>\n",
              "</div>\n",
              "      <button class=\"colab-df-convert\" onclick=\"convertToInteractive('df-cb1ab83a-1bf5-4a7d-ae06-20e7eab77246')\"\n",
              "              title=\"Convert this dataframe to an interactive table.\"\n",
              "              style=\"display:none;\">\n",
              "        \n",
              "  <svg xmlns=\"http://www.w3.org/2000/svg\" height=\"24px\"viewBox=\"0 0 24 24\"\n",
              "       width=\"24px\">\n",
              "    <path d=\"M0 0h24v24H0V0z\" fill=\"none\"/>\n",
              "    <path d=\"M18.56 5.44l.94 2.06.94-2.06 2.06-.94-2.06-.94-.94-2.06-.94 2.06-2.06.94zm-11 1L8.5 8.5l.94-2.06 2.06-.94-2.06-.94L8.5 2.5l-.94 2.06-2.06.94zm10 10l.94 2.06.94-2.06 2.06-.94-2.06-.94-.94-2.06-.94 2.06-2.06.94z\"/><path d=\"M17.41 7.96l-1.37-1.37c-.4-.4-.92-.59-1.43-.59-.52 0-1.04.2-1.43.59L10.3 9.45l-7.72 7.72c-.78.78-.78 2.05 0 2.83L4 21.41c.39.39.9.59 1.41.59.51 0 1.02-.2 1.41-.59l7.78-7.78 2.81-2.81c.8-.78.8-2.07 0-2.86zM5.41 20L4 18.59l7.72-7.72 1.47 1.35L5.41 20z\"/>\n",
              "  </svg>\n",
              "      </button>\n",
              "      \n",
              "  <style>\n",
              "    .colab-df-container {\n",
              "      display:flex;\n",
              "      flex-wrap:wrap;\n",
              "      gap: 12px;\n",
              "    }\n",
              "\n",
              "    .colab-df-convert {\n",
              "      background-color: #E8F0FE;\n",
              "      border: none;\n",
              "      border-radius: 50%;\n",
              "      cursor: pointer;\n",
              "      display: none;\n",
              "      fill: #1967D2;\n",
              "      height: 32px;\n",
              "      padding: 0 0 0 0;\n",
              "      width: 32px;\n",
              "    }\n",
              "\n",
              "    .colab-df-convert:hover {\n",
              "      background-color: #E2EBFA;\n",
              "      box-shadow: 0px 1px 2px rgba(60, 64, 67, 0.3), 0px 1px 3px 1px rgba(60, 64, 67, 0.15);\n",
              "      fill: #174EA6;\n",
              "    }\n",
              "\n",
              "    [theme=dark] .colab-df-convert {\n",
              "      background-color: #3B4455;\n",
              "      fill: #D2E3FC;\n",
              "    }\n",
              "\n",
              "    [theme=dark] .colab-df-convert:hover {\n",
              "      background-color: #434B5C;\n",
              "      box-shadow: 0px 1px 3px 1px rgba(0, 0, 0, 0.15);\n",
              "      filter: drop-shadow(0px 1px 2px rgba(0, 0, 0, 0.3));\n",
              "      fill: #FFFFFF;\n",
              "    }\n",
              "  </style>\n",
              "\n",
              "      <script>\n",
              "        const buttonEl =\n",
              "          document.querySelector('#df-cb1ab83a-1bf5-4a7d-ae06-20e7eab77246 button.colab-df-convert');\n",
              "        buttonEl.style.display =\n",
              "          google.colab.kernel.accessAllowed ? 'block' : 'none';\n",
              "\n",
              "        async function convertToInteractive(key) {\n",
              "          const element = document.querySelector('#df-cb1ab83a-1bf5-4a7d-ae06-20e7eab77246');\n",
              "          const dataTable =\n",
              "            await google.colab.kernel.invokeFunction('convertToInteractive',\n",
              "                                                     [key], {});\n",
              "          if (!dataTable) return;\n",
              "\n",
              "          const docLinkHtml = 'Like what you see? Visit the ' +\n",
              "            '<a target=\"_blank\" href=https://colab.research.google.com/notebooks/data_table.ipynb>data table notebook</a>'\n",
              "            + ' to learn more about interactive tables.';\n",
              "          element.innerHTML = '';\n",
              "          dataTable['output_type'] = 'display_data';\n",
              "          await google.colab.output.renderOutput(dataTable, element);\n",
              "          const docLink = document.createElement('div');\n",
              "          docLink.innerHTML = docLinkHtml;\n",
              "          element.appendChild(docLink);\n",
              "        }\n",
              "      </script>\n",
              "    </div>\n",
              "  </div>\n",
              "  "
            ]
          },
          "metadata": {},
          "execution_count": 3
        }
      ]
    },
    {
      "cell_type": "code",
      "source": [
        "#### Independent And Dependent features\n",
        "X=df.drop('Outcome',axis=1)\n",
        "y=df['Outcome']"
      ],
      "metadata": {
        "id": "cha33-zbDtAF"
      },
      "execution_count": null,
      "outputs": []
    },
    {
      "cell_type": "code",
      "source": [
        "pd.DataFrame(X,columns=df.columns[:-1])"
      ],
      "metadata": {
        "colab": {
          "base_uri": "https://localhost:8080/",
          "height": 423
        },
        "id": "a-oE7y42DvKQ",
        "outputId": "e329a8a2-81a3-4f11-c354-7bce1bc5d5e3"
      },
      "execution_count": null,
      "outputs": [
        {
          "output_type": "execute_result",
          "data": {
            "text/plain": [
              "     Pregnancies  Glucose  BloodPressure  SkinThickness  Insulin   BMI  \\\n",
              "0              6    148.0             72             35        0  33.6   \n",
              "1              1     85.0             66             29        0  26.6   \n",
              "2              8    183.0             64              0        0  23.3   \n",
              "3              1     89.0             66             23       94  28.1   \n",
              "4              0    137.0             40             35      168  43.1   \n",
              "..           ...      ...            ...            ...      ...   ...   \n",
              "763           10    101.0             76             48      180  32.9   \n",
              "764            2    122.0             70             27        0  36.8   \n",
              "765            5    121.0             72             23      112  26.2   \n",
              "766            1    126.0             60              0        0  30.1   \n",
              "767            1     93.0             70             31        0  30.4   \n",
              "\n",
              "     DiabetesPedigreeFunction  Age  \n",
              "0                       0.627   50  \n",
              "1                       0.351   31  \n",
              "2                       0.672   32  \n",
              "3                       0.167   21  \n",
              "4                       2.288   33  \n",
              "..                        ...  ...  \n",
              "763                     0.171   63  \n",
              "764                     0.340   27  \n",
              "765                     0.245   30  \n",
              "766                     0.349   47  \n",
              "767                     0.315   23  \n",
              "\n",
              "[768 rows x 8 columns]"
            ],
            "text/html": [
              "\n",
              "  <div id=\"df-9dcb57e6-c254-4182-8591-9b6b124d4546\">\n",
              "    <div class=\"colab-df-container\">\n",
              "      <div>\n",
              "<style scoped>\n",
              "    .dataframe tbody tr th:only-of-type {\n",
              "        vertical-align: middle;\n",
              "    }\n",
              "\n",
              "    .dataframe tbody tr th {\n",
              "        vertical-align: top;\n",
              "    }\n",
              "\n",
              "    .dataframe thead th {\n",
              "        text-align: right;\n",
              "    }\n",
              "</style>\n",
              "<table border=\"1\" class=\"dataframe\">\n",
              "  <thead>\n",
              "    <tr style=\"text-align: right;\">\n",
              "      <th></th>\n",
              "      <th>Pregnancies</th>\n",
              "      <th>Glucose</th>\n",
              "      <th>BloodPressure</th>\n",
              "      <th>SkinThickness</th>\n",
              "      <th>Insulin</th>\n",
              "      <th>BMI</th>\n",
              "      <th>DiabetesPedigreeFunction</th>\n",
              "      <th>Age</th>\n",
              "    </tr>\n",
              "  </thead>\n",
              "  <tbody>\n",
              "    <tr>\n",
              "      <th>0</th>\n",
              "      <td>6</td>\n",
              "      <td>148.0</td>\n",
              "      <td>72</td>\n",
              "      <td>35</td>\n",
              "      <td>0</td>\n",
              "      <td>33.6</td>\n",
              "      <td>0.627</td>\n",
              "      <td>50</td>\n",
              "    </tr>\n",
              "    <tr>\n",
              "      <th>1</th>\n",
              "      <td>1</td>\n",
              "      <td>85.0</td>\n",
              "      <td>66</td>\n",
              "      <td>29</td>\n",
              "      <td>0</td>\n",
              "      <td>26.6</td>\n",
              "      <td>0.351</td>\n",
              "      <td>31</td>\n",
              "    </tr>\n",
              "    <tr>\n",
              "      <th>2</th>\n",
              "      <td>8</td>\n",
              "      <td>183.0</td>\n",
              "      <td>64</td>\n",
              "      <td>0</td>\n",
              "      <td>0</td>\n",
              "      <td>23.3</td>\n",
              "      <td>0.672</td>\n",
              "      <td>32</td>\n",
              "    </tr>\n",
              "    <tr>\n",
              "      <th>3</th>\n",
              "      <td>1</td>\n",
              "      <td>89.0</td>\n",
              "      <td>66</td>\n",
              "      <td>23</td>\n",
              "      <td>94</td>\n",
              "      <td>28.1</td>\n",
              "      <td>0.167</td>\n",
              "      <td>21</td>\n",
              "    </tr>\n",
              "    <tr>\n",
              "      <th>4</th>\n",
              "      <td>0</td>\n",
              "      <td>137.0</td>\n",
              "      <td>40</td>\n",
              "      <td>35</td>\n",
              "      <td>168</td>\n",
              "      <td>43.1</td>\n",
              "      <td>2.288</td>\n",
              "      <td>33</td>\n",
              "    </tr>\n",
              "    <tr>\n",
              "      <th>...</th>\n",
              "      <td>...</td>\n",
              "      <td>...</td>\n",
              "      <td>...</td>\n",
              "      <td>...</td>\n",
              "      <td>...</td>\n",
              "      <td>...</td>\n",
              "      <td>...</td>\n",
              "      <td>...</td>\n",
              "    </tr>\n",
              "    <tr>\n",
              "      <th>763</th>\n",
              "      <td>10</td>\n",
              "      <td>101.0</td>\n",
              "      <td>76</td>\n",
              "      <td>48</td>\n",
              "      <td>180</td>\n",
              "      <td>32.9</td>\n",
              "      <td>0.171</td>\n",
              "      <td>63</td>\n",
              "    </tr>\n",
              "    <tr>\n",
              "      <th>764</th>\n",
              "      <td>2</td>\n",
              "      <td>122.0</td>\n",
              "      <td>70</td>\n",
              "      <td>27</td>\n",
              "      <td>0</td>\n",
              "      <td>36.8</td>\n",
              "      <td>0.340</td>\n",
              "      <td>27</td>\n",
              "    </tr>\n",
              "    <tr>\n",
              "      <th>765</th>\n",
              "      <td>5</td>\n",
              "      <td>121.0</td>\n",
              "      <td>72</td>\n",
              "      <td>23</td>\n",
              "      <td>112</td>\n",
              "      <td>26.2</td>\n",
              "      <td>0.245</td>\n",
              "      <td>30</td>\n",
              "    </tr>\n",
              "    <tr>\n",
              "      <th>766</th>\n",
              "      <td>1</td>\n",
              "      <td>126.0</td>\n",
              "      <td>60</td>\n",
              "      <td>0</td>\n",
              "      <td>0</td>\n",
              "      <td>30.1</td>\n",
              "      <td>0.349</td>\n",
              "      <td>47</td>\n",
              "    </tr>\n",
              "    <tr>\n",
              "      <th>767</th>\n",
              "      <td>1</td>\n",
              "      <td>93.0</td>\n",
              "      <td>70</td>\n",
              "      <td>31</td>\n",
              "      <td>0</td>\n",
              "      <td>30.4</td>\n",
              "      <td>0.315</td>\n",
              "      <td>23</td>\n",
              "    </tr>\n",
              "  </tbody>\n",
              "</table>\n",
              "<p>768 rows × 8 columns</p>\n",
              "</div>\n",
              "      <button class=\"colab-df-convert\" onclick=\"convertToInteractive('df-9dcb57e6-c254-4182-8591-9b6b124d4546')\"\n",
              "              title=\"Convert this dataframe to an interactive table.\"\n",
              "              style=\"display:none;\">\n",
              "        \n",
              "  <svg xmlns=\"http://www.w3.org/2000/svg\" height=\"24px\"viewBox=\"0 0 24 24\"\n",
              "       width=\"24px\">\n",
              "    <path d=\"M0 0h24v24H0V0z\" fill=\"none\"/>\n",
              "    <path d=\"M18.56 5.44l.94 2.06.94-2.06 2.06-.94-2.06-.94-.94-2.06-.94 2.06-2.06.94zm-11 1L8.5 8.5l.94-2.06 2.06-.94-2.06-.94L8.5 2.5l-.94 2.06-2.06.94zm10 10l.94 2.06.94-2.06 2.06-.94-2.06-.94-.94-2.06-.94 2.06-2.06.94z\"/><path d=\"M17.41 7.96l-1.37-1.37c-.4-.4-.92-.59-1.43-.59-.52 0-1.04.2-1.43.59L10.3 9.45l-7.72 7.72c-.78.78-.78 2.05 0 2.83L4 21.41c.39.39.9.59 1.41.59.51 0 1.02-.2 1.41-.59l7.78-7.78 2.81-2.81c.8-.78.8-2.07 0-2.86zM5.41 20L4 18.59l7.72-7.72 1.47 1.35L5.41 20z\"/>\n",
              "  </svg>\n",
              "      </button>\n",
              "      \n",
              "  <style>\n",
              "    .colab-df-container {\n",
              "      display:flex;\n",
              "      flex-wrap:wrap;\n",
              "      gap: 12px;\n",
              "    }\n",
              "\n",
              "    .colab-df-convert {\n",
              "      background-color: #E8F0FE;\n",
              "      border: none;\n",
              "      border-radius: 50%;\n",
              "      cursor: pointer;\n",
              "      display: none;\n",
              "      fill: #1967D2;\n",
              "      height: 32px;\n",
              "      padding: 0 0 0 0;\n",
              "      width: 32px;\n",
              "    }\n",
              "\n",
              "    .colab-df-convert:hover {\n",
              "      background-color: #E2EBFA;\n",
              "      box-shadow: 0px 1px 2px rgba(60, 64, 67, 0.3), 0px 1px 3px 1px rgba(60, 64, 67, 0.15);\n",
              "      fill: #174EA6;\n",
              "    }\n",
              "\n",
              "    [theme=dark] .colab-df-convert {\n",
              "      background-color: #3B4455;\n",
              "      fill: #D2E3FC;\n",
              "    }\n",
              "\n",
              "    [theme=dark] .colab-df-convert:hover {\n",
              "      background-color: #434B5C;\n",
              "      box-shadow: 0px 1px 3px 1px rgba(0, 0, 0, 0.15);\n",
              "      filter: drop-shadow(0px 1px 2px rgba(0, 0, 0, 0.3));\n",
              "      fill: #FFFFFF;\n",
              "    }\n",
              "  </style>\n",
              "\n",
              "      <script>\n",
              "        const buttonEl =\n",
              "          document.querySelector('#df-9dcb57e6-c254-4182-8591-9b6b124d4546 button.colab-df-convert');\n",
              "        buttonEl.style.display =\n",
              "          google.colab.kernel.accessAllowed ? 'block' : 'none';\n",
              "\n",
              "        async function convertToInteractive(key) {\n",
              "          const element = document.querySelector('#df-9dcb57e6-c254-4182-8591-9b6b124d4546');\n",
              "          const dataTable =\n",
              "            await google.colab.kernel.invokeFunction('convertToInteractive',\n",
              "                                                     [key], {});\n",
              "          if (!dataTable) return;\n",
              "\n",
              "          const docLinkHtml = 'Like what you see? Visit the ' +\n",
              "            '<a target=\"_blank\" href=https://colab.research.google.com/notebooks/data_table.ipynb>data table notebook</a>'\n",
              "            + ' to learn more about interactive tables.';\n",
              "          element.innerHTML = '';\n",
              "          dataTable['output_type'] = 'display_data';\n",
              "          await google.colab.output.renderOutput(dataTable, element);\n",
              "          const docLink = document.createElement('div');\n",
              "          docLink.innerHTML = docLinkHtml;\n",
              "          element.appendChild(docLink);\n",
              "        }\n",
              "      </script>\n",
              "    </div>\n",
              "  </div>\n",
              "  "
            ]
          },
          "metadata": {},
          "execution_count": 5
        }
      ]
    },
    {
      "cell_type": "code",
      "source": [
        "#### Train Test Split\n",
        "from sklearn.model_selection import train_test_split\n",
        "X_train,X_test,y_train,y_test=train_test_split(X,y,test_size=0.20,random_state=0)"
      ],
      "metadata": {
        "id": "LjkEsIEmDxBp"
      },
      "execution_count": null,
      "outputs": []
    },
    {
      "cell_type": "code",
      "source": [
        "from sklearn.ensemble import RandomForestClassifier\n",
        "rf_classifier=RandomForestClassifier(n_estimators=10).fit(X_train,y_train)\n",
        "prediction=rf_classifier.predict(X_test)"
      ],
      "metadata": {
        "id": "t_X3_qoaDzaZ"
      },
      "execution_count": null,
      "outputs": []
    },
    {
      "cell_type": "code",
      "source": [
        "y.value_counts()"
      ],
      "metadata": {
        "colab": {
          "base_uri": "https://localhost:8080/"
        },
        "id": "fO0XoqiOD1WB",
        "outputId": "82cec8a1-ad29-426d-a3cb-ccc0d7619949"
      },
      "execution_count": null,
      "outputs": [
        {
          "output_type": "execute_result",
          "data": {
            "text/plain": [
              "0    500\n",
              "1    268\n",
              "Name: Outcome, dtype: int64"
            ]
          },
          "metadata": {},
          "execution_count": 8
        }
      ]
    },
    {
      "cell_type": "code",
      "source": [
        "from sklearn.metrics import confusion_matrix,classification_report,accuracy_score\n",
        "print(confusion_matrix(y_test,prediction))\n",
        "print(accuracy_score(y_test,prediction))\n",
        "print(classification_report(y_test,prediction))"
      ],
      "metadata": {
        "colab": {
          "base_uri": "https://localhost:8080/"
        },
        "id": "THXIPfKuD3Wl",
        "outputId": "d28efe1c-b8a6-4263-fd21-09df4b28af4f"
      },
      "execution_count": null,
      "outputs": [
        {
          "output_type": "stream",
          "name": "stdout",
          "text": [
            "[[94 13]\n",
            " [24 23]]\n",
            "0.7597402597402597\n",
            "              precision    recall  f1-score   support\n",
            "\n",
            "           0       0.80      0.88      0.84       107\n",
            "           1       0.64      0.49      0.55        47\n",
            "\n",
            "    accuracy                           0.76       154\n",
            "   macro avg       0.72      0.68      0.69       154\n",
            "weighted avg       0.75      0.76      0.75       154\n",
            "\n"
          ]
        }
      ]
    },
    {
      "cell_type": "markdown",
      "source": [
        "The main parameters used by a Random Forest Classifier are:\n",
        "\n",
        "criterion = the function used to evaluate the quality of a split.\n",
        "\n",
        "max_depth = maximum number of levels allowed in each tree.\n",
        "\n",
        "max_features = maximum number of features considered when splitting a node.\n",
        "\n",
        "min_samples_leaf = minimum number of samples which can be stored in a tree leaf.\n",
        "\n",
        "min_samples_split = minimum number of samples necessary in a node to cause node splitting.\n",
        "\n",
        "n_estimators = number of trees in the ensamble."
      ],
      "metadata": {
        "id": "k3Zdqyq9D9Wf"
      }
    },
    {
      "cell_type": "code",
      "source": [
        "### Manual Hyperparameter Tuning\n",
        "model=RandomForestClassifier(n_estimators=300,criterion='entropy',\n",
        "                             max_features='sqrt',min_samples_leaf=10,random_state=100).fit(X_train,y_train)\n",
        "predictions=model.predict(X_test)\n",
        "print(confusion_matrix(y_test,predictions))\n",
        "print(accuracy_score(y_test,predictions))\n",
        "print(classification_report(y_test,predictions))"
      ],
      "metadata": {
        "colab": {
          "base_uri": "https://localhost:8080/"
        },
        "id": "_-xVRWv3EDP0",
        "outputId": "09e53b05-186c-4b3d-bff2-1d7f79ee39fc"
      },
      "execution_count": null,
      "outputs": [
        {
          "output_type": "stream",
          "name": "stdout",
          "text": [
            "[[98  9]\n",
            " [18 29]]\n",
            "0.8246753246753247\n",
            "              precision    recall  f1-score   support\n",
            "\n",
            "           0       0.84      0.92      0.88       107\n",
            "           1       0.76      0.62      0.68        47\n",
            "\n",
            "    accuracy                           0.82       154\n",
            "   macro avg       0.80      0.77      0.78       154\n",
            "weighted avg       0.82      0.82      0.82       154\n",
            "\n"
          ]
        }
      ]
    },
    {
      "cell_type": "markdown",
      "source": [
        "\n",
        "**Randomized Search Cv**"
      ],
      "metadata": {
        "id": "SDsOtBtlETLA"
      }
    },
    {
      "cell_type": "code",
      "source": [
        "import numpy as np\n",
        "from sklearn.model_selection import RandomizedSearchCV\n",
        "# Number of trees in random forest\n",
        "n_estimators = [int(x) for x in np.linspace(start = 200, stop = 2000, num = 10)]\n",
        "# Number of features to consider at every split\n",
        "max_features = ['auto', 'sqrt','log2']\n",
        "# Maximum number of levels in tree\n",
        "max_depth = [int(x) for x in np.linspace(10, 1000,10)]\n",
        "# Minimum number of samples required to split a node\n",
        "min_samples_split = [2, 5, 10,14]\n",
        "# Minimum number of samples required at each leaf node\n",
        "min_samples_leaf = [1, 2, 4,6,8]\n",
        "# Create the random grid\n",
        "random_grid = {'n_estimators': n_estimators,\n",
        "               'max_features': max_features,\n",
        "               'max_depth': max_depth,\n",
        "               'min_samples_split': min_samples_split,\n",
        "               'min_samples_leaf': min_samples_leaf,\n",
        "              'criterion':['entropy','gini']}\n",
        "print(random_grid)"
      ],
      "metadata": {
        "colab": {
          "base_uri": "https://localhost:8080/"
        },
        "id": "RflhCdMuEWgA",
        "outputId": "f0af7934-093d-47b7-b1d4-ccf2ceecc219"
      },
      "execution_count": null,
      "outputs": [
        {
          "output_type": "stream",
          "name": "stdout",
          "text": [
            "{'n_estimators': [200, 400, 600, 800, 1000, 1200, 1400, 1600, 1800, 2000], 'max_features': ['auto', 'sqrt', 'log2'], 'max_depth': [10, 120, 230, 340, 450, 560, 670, 780, 890, 1000], 'min_samples_split': [2, 5, 10, 14], 'min_samples_leaf': [1, 2, 4, 6, 8], 'criterion': ['entropy', 'gini']}\n"
          ]
        }
      ]
    },
    {
      "cell_type": "code",
      "source": [
        "rf=RandomForestClassifier()\n",
        "rf_randomcv=RandomizedSearchCV(estimator=rf,param_distributions=random_grid,n_iter=100,cv=3,verbose=2,\n",
        "                               random_state=100,n_jobs=-1)\n",
        "### fit the randomized model\n",
        "rf_randomcv.fit(X_train,y_train)"
      ],
      "metadata": {
        "colab": {
          "base_uri": "https://localhost:8080/"
        },
        "id": "lSVDU2cNEk0s",
        "outputId": "0d9cd346-5b02-456b-a562-399449002991"
      },
      "execution_count": null,
      "outputs": [
        {
          "output_type": "stream",
          "name": "stdout",
          "text": [
            "Fitting 3 folds for each of 100 candidates, totalling 300 fits\n"
          ]
        },
        {
          "output_type": "execute_result",
          "data": {
            "text/plain": [
              "RandomizedSearchCV(cv=3, estimator=RandomForestClassifier(), n_iter=100,\n",
              "                   n_jobs=-1,\n",
              "                   param_distributions={'criterion': ['entropy', 'gini'],\n",
              "                                        'max_depth': [10, 120, 230, 340, 450,\n",
              "                                                      560, 670, 780, 890,\n",
              "                                                      1000],\n",
              "                                        'max_features': ['auto', 'sqrt',\n",
              "                                                         'log2'],\n",
              "                                        'min_samples_leaf': [1, 2, 4, 6, 8],\n",
              "                                        'min_samples_split': [2, 5, 10, 14],\n",
              "                                        'n_estimators': [200, 400, 600, 800,\n",
              "                                                         1000, 1200, 1400, 1600,\n",
              "                                                         1800, 2000]},\n",
              "                   random_state=100, verbose=2)"
            ]
          },
          "metadata": {},
          "execution_count": 12
        }
      ]
    },
    {
      "cell_type": "code",
      "source": [
        "rf_randomcv"
      ],
      "metadata": {
        "colab": {
          "base_uri": "https://localhost:8080/"
        },
        "id": "7Aci8liGGzlu",
        "outputId": "d75b97a3-eed9-4fa7-e8e9-e92556ddab31"
      },
      "execution_count": null,
      "outputs": [
        {
          "output_type": "execute_result",
          "data": {
            "text/plain": [
              "RandomizedSearchCV(cv=3, estimator=RandomForestClassifier(), n_iter=100,\n",
              "                   n_jobs=-1,\n",
              "                   param_distributions={'criterion': ['entropy', 'gini'],\n",
              "                                        'max_depth': [10, 120, 230, 340, 450,\n",
              "                                                      560, 670, 780, 890,\n",
              "                                                      1000],\n",
              "                                        'max_features': ['auto', 'sqrt',\n",
              "                                                         'log2'],\n",
              "                                        'min_samples_leaf': [1, 2, 4, 6, 8],\n",
              "                                        'min_samples_split': [2, 5, 10, 14],\n",
              "                                        'n_estimators': [200, 400, 600, 800,\n",
              "                                                         1000, 1200, 1400, 1600,\n",
              "                                                         1800, 2000]},\n",
              "                   random_state=100, verbose=2)"
            ]
          },
          "metadata": {},
          "execution_count": 14
        }
      ]
    },
    {
      "cell_type": "code",
      "source": [
        "rf_randomcv.best_params_"
      ],
      "metadata": {
        "colab": {
          "base_uri": "https://localhost:8080/"
        },
        "id": "uxAKJdoVHZ8t",
        "outputId": "e1d23739-334f-4d5c-e0ba-641ac7ce8582"
      },
      "execution_count": null,
      "outputs": [
        {
          "output_type": "execute_result",
          "data": {
            "text/plain": [
              "{'criterion': 'gini',\n",
              " 'max_depth': 780,\n",
              " 'max_features': 'log2',\n",
              " 'min_samples_leaf': 1,\n",
              " 'min_samples_split': 2,\n",
              " 'n_estimators': 600}"
            ]
          },
          "metadata": {},
          "execution_count": 18
        }
      ]
    },
    {
      "cell_type": "code",
      "source": [
        "best_random_grid=rf_randomcv.best_estimator_\n",
        "best_random_grid"
      ],
      "metadata": {
        "colab": {
          "base_uri": "https://localhost:8080/"
        },
        "id": "D5kXOqYpG4TS",
        "outputId": "bc59c415-0da0-4ab2-b58e-915792bb39a1"
      },
      "execution_count": null,
      "outputs": [
        {
          "output_type": "execute_result",
          "data": {
            "text/plain": [
              "RandomForestClassifier(max_depth=780, max_features='log2', n_estimators=600)"
            ]
          },
          "metadata": {},
          "execution_count": 17
        }
      ]
    },
    {
      "cell_type": "code",
      "source": [
        "from sklearn.metrics import accuracy_score\n",
        "y_pred=best_random_grid.predict(X_test)\n",
        "print(confusion_matrix(y_test,y_pred))\n",
        "print(\"Accuracy Score {}\".format(accuracy_score(y_test,y_pred)))\n",
        "print(\"Classification report: {}\".format(classification_report(y_test,y_pred)))"
      ],
      "metadata": {
        "colab": {
          "base_uri": "https://localhost:8080/"
        },
        "id": "U6TTBpH_G-4C",
        "outputId": "23837d73-cbc2-4461-83ad-31a39749a5ff"
      },
      "execution_count": null,
      "outputs": [
        {
          "output_type": "stream",
          "name": "stdout",
          "text": [
            "[[92 15]\n",
            " [13 34]]\n",
            "Accuracy Score 0.8181818181818182\n",
            "Classification report:               precision    recall  f1-score   support\n",
            "\n",
            "           0       0.88      0.86      0.87       107\n",
            "           1       0.69      0.72      0.71        47\n",
            "\n",
            "    accuracy                           0.82       154\n",
            "   macro avg       0.79      0.79      0.79       154\n",
            "weighted avg       0.82      0.82      0.82       154\n",
            "\n"
          ]
        }
      ]
    },
    {
      "cell_type": "markdown",
      "source": [
        "**GridSearch CV**"
      ],
      "metadata": {
        "id": "8pTmVV8NHmF-"
      }
    },
    {
      "cell_type": "code",
      "source": [
        "rf_randomcv.best_params_"
      ],
      "metadata": {
        "colab": {
          "base_uri": "https://localhost:8080/"
        },
        "id": "3qX6HQ8YHzDO",
        "outputId": "1282582c-f5f8-4e75-a4f7-f4923af41ab2"
      },
      "execution_count": null,
      "outputs": [
        {
          "output_type": "execute_result",
          "data": {
            "text/plain": [
              "{'criterion': 'gini',\n",
              " 'max_depth': 780,\n",
              " 'max_features': 'log2',\n",
              " 'min_samples_leaf': 1,\n",
              " 'min_samples_split': 2,\n",
              " 'n_estimators': 600}"
            ]
          },
          "metadata": {},
          "execution_count": 19
        }
      ]
    },
    {
      "cell_type": "code",
      "source": [
        "from sklearn.model_selection import GridSearchCV\n",
        "#based on randomised cv values , you add or subtract the values to find the optimal value\n",
        "param_grid = {\n",
        "    'criterion': [rf_randomcv.best_params_['criterion']],\n",
        "    'max_depth': [rf_randomcv.best_params_['max_depth']],\n",
        "    'max_features': [rf_randomcv.best_params_['max_features']],\n",
        "    'min_samples_leaf': [rf_randomcv.best_params_['min_samples_leaf'], \n",
        "                         rf_randomcv.best_params_['min_samples_leaf']+2, \n",
        "                         rf_randomcv.best_params_['min_samples_leaf'] + 4],\n",
        "    'min_samples_split': [rf_randomcv.best_params_['min_samples_split'] - 2,\n",
        "                          rf_randomcv.best_params_['min_samples_split'] - 1,\n",
        "                          rf_randomcv.best_params_['min_samples_split'], \n",
        "                          rf_randomcv.best_params_['min_samples_split'] +1,\n",
        "                          rf_randomcv.best_params_['min_samples_split'] + 2],\n",
        "    'n_estimators': [rf_randomcv.best_params_['n_estimators'] - 200, rf_randomcv.best_params_['n_estimators'] - 100, \n",
        "                     rf_randomcv.best_params_['n_estimators'], \n",
        "                     rf_randomcv.best_params_['n_estimators'] + 100, rf_randomcv.best_params_['n_estimators'] + 200]\n",
        "}\n",
        "\n",
        "print(param_grid)"
      ],
      "metadata": {
        "colab": {
          "base_uri": "https://localhost:8080/"
        },
        "id": "nVWScvjAH3a4",
        "outputId": "5e37dd4e-99d1-4ee0-9ec0-8f8eb989373d"
      },
      "execution_count": null,
      "outputs": [
        {
          "output_type": "stream",
          "name": "stdout",
          "text": [
            "{'criterion': ['gini'], 'max_depth': [780], 'max_features': ['log2'], 'min_samples_leaf': [1, 3, 5], 'min_samples_split': [0, 1, 2, 3, 4], 'n_estimators': [400, 500, 600, 700, 800]}\n"
          ]
        }
      ]
    },
    {
      "cell_type": "markdown",
      "source": [
        "grid search cv, u dont have option to specify iterations. It actually happens on the basis of number of parameters we are selecting.In above case it is:\n",
        "1 ['gini'] * 1 [780]* 1 ['log2']* 3 [1, 3, 5]* 5[0, 1, 2, 3, 4]  * 5 [400, 500, 600, 700, 800] =75\n",
        "\n"
      ],
      "metadata": {
        "id": "HvNAsbXUJBo7"
      }
    },
    {
      "cell_type": "code",
      "source": [
        "#### Fit the grid_search to the data\n",
        "rf=RandomForestClassifier()\n",
        "grid_search=GridSearchCV(estimator=rf,param_grid=param_grid,cv=10,n_jobs=-1,verbose=2)\n",
        "grid_search.fit(X_train,y_train)"
      ],
      "metadata": {
        "colab": {
          "base_uri": "https://localhost:8080/"
        },
        "id": "iVmEhqbHIO5W",
        "outputId": "cf71ea7b-d2e3-456e-e67d-75e1e767821b"
      },
      "execution_count": null,
      "outputs": [
        {
          "output_type": "stream",
          "name": "stdout",
          "text": [
            "Fitting 10 folds for each of 75 candidates, totalling 750 fits\n"
          ]
        },
        {
          "output_type": "execute_result",
          "data": {
            "text/plain": [
              "GridSearchCV(cv=10, estimator=RandomForestClassifier(), n_jobs=-1,\n",
              "             param_grid={'criterion': ['gini'], 'max_depth': [780],\n",
              "                         'max_features': ['log2'],\n",
              "                         'min_samples_leaf': [1, 3, 5],\n",
              "                         'min_samples_split': [0, 1, 2, 3, 4],\n",
              "                         'n_estimators': [400, 500, 600, 700, 800]},\n",
              "             verbose=2)"
            ]
          },
          "metadata": {},
          "execution_count": 21
        }
      ]
    },
    {
      "cell_type": "code",
      "source": [
        "grid_search.best_estimator_"
      ],
      "metadata": {
        "colab": {
          "base_uri": "https://localhost:8080/"
        },
        "id": "ika3Cn_UIUTx",
        "outputId": "1084ed52-f1c0-4b1d-a249-7ac501447772"
      },
      "execution_count": null,
      "outputs": [
        {
          "output_type": "execute_result",
          "data": {
            "text/plain": [
              "RandomForestClassifier(max_depth=780, max_features='log2', min_samples_split=3,\n",
              "                       n_estimators=600)"
            ]
          },
          "metadata": {},
          "execution_count": 23
        }
      ]
    },
    {
      "cell_type": "code",
      "source": [
        "best_grid=grid_search.best_estimator_\n",
        "best_grid"
      ],
      "metadata": {
        "colab": {
          "base_uri": "https://localhost:8080/"
        },
        "id": "gHXMD3pJIWDS",
        "outputId": "8e8a5b8f-cce8-4dba-c702-a805b50c5dee"
      },
      "execution_count": null,
      "outputs": [
        {
          "output_type": "execute_result",
          "data": {
            "text/plain": [
              "RandomForestClassifier(max_depth=780, max_features='log2', min_samples_split=3,\n",
              "                       n_estimators=600)"
            ]
          },
          "metadata": {},
          "execution_count": 24
        }
      ]
    },
    {
      "cell_type": "code",
      "source": [
        "y_pred=best_grid.predict(X_test)\n",
        "print(confusion_matrix(y_test,y_pred))\n",
        "print(\"Accuracy Score {}\".format(accuracy_score(y_test,y_pred)))\n",
        "print(\"Classification report: {}\".format(classification_report(y_test,y_pred)))"
      ],
      "metadata": {
        "colab": {
          "base_uri": "https://localhost:8080/"
        },
        "id": "ypT3K0WRIZLO",
        "outputId": "7b380ce8-7444-4370-d14c-a0b943f9b8ab"
      },
      "execution_count": null,
      "outputs": [
        {
          "output_type": "stream",
          "name": "stdout",
          "text": [
            "[[92 15]\n",
            " [15 32]]\n",
            "Accuracy Score 0.8051948051948052\n",
            "Classification report:               precision    recall  f1-score   support\n",
            "\n",
            "           0       0.86      0.86      0.86       107\n",
            "           1       0.68      0.68      0.68        47\n",
            "\n",
            "    accuracy                           0.81       154\n",
            "   macro avg       0.77      0.77      0.77       154\n",
            "weighted avg       0.81      0.81      0.81       154\n",
            "\n"
          ]
        }
      ]
    },
    {
      "cell_type": "markdown",
      "source": [
        "**Automated Hyperparameter Tuning**\n",
        "Automated Hyperparameter Tuning can be done by using techniques such as\n",
        "\n",
        "Bayesian Optimization\n",
        "\n",
        "Gradient Descent\n",
        "\n",
        "Evolutionary Algorithms\n",
        "\n",
        "Bayesian Optimization\n",
        "\n",
        "Bayesian optimization uses probability to find the minimum of a function. The final aim is to find the input value to a function which can gives us the lowest possible output value.It usually performs better than random,grid and manual search providing better performance in the testing phase and reduced optimization time. In Hyperopt, Bayesian Optimization can be implemented giving 3 three main parameters to the function fmin.\n",
        "\n",
        "Objective Function = defines the loss function to minimize.\n",
        "\n",
        "Domain Space = defines the range of input values to test (in Bayesian Optimization this space creates a probability distribution for each of the used Hyperparameters).\n",
        "\n",
        "Optimization Algorithm = defines the search algorithm to use to select the best input values to use in each new iteration."
      ],
      "metadata": {
        "id": "QA9GHI6nIaYi"
      }
    },
    {
      "cell_type": "code",
      "source": [
        "#pip install hyperopt"
      ],
      "metadata": {
        "colab": {
          "base_uri": "https://localhost:8080/"
        },
        "id": "RnHsn2k6Ir9K",
        "outputId": "5345d01f-49a1-4806-fe14-7d83a7bd9632"
      },
      "execution_count": null,
      "outputs": [
        {
          "output_type": "stream",
          "name": "stdout",
          "text": [
            "Requirement already satisfied: hyperopt in /usr/local/lib/python3.7/dist-packages (0.1.2)\n",
            "Requirement already satisfied: scipy in /usr/local/lib/python3.7/dist-packages (from hyperopt) (1.4.1)\n",
            "Requirement already satisfied: future in /usr/local/lib/python3.7/dist-packages (from hyperopt) (0.16.0)\n",
            "Requirement already satisfied: six in /usr/local/lib/python3.7/dist-packages (from hyperopt) (1.15.0)\n",
            "Requirement already satisfied: numpy in /usr/local/lib/python3.7/dist-packages (from hyperopt) (1.21.5)\n",
            "Requirement already satisfied: pymongo in /usr/local/lib/python3.7/dist-packages (from hyperopt) (4.0.2)\n",
            "Requirement already satisfied: tqdm in /usr/local/lib/python3.7/dist-packages (from hyperopt) (4.63.0)\n",
            "Requirement already satisfied: networkx in /usr/local/lib/python3.7/dist-packages (from hyperopt) (2.6.3)\n"
          ]
        }
      ]
    },
    {
      "cell_type": "code",
      "source": [
        "from hyperopt import hp,fmin,tpe,STATUS_OK,Trials\n"
      ],
      "metadata": {
        "id": "5DVv6Aq3MWYL"
      },
      "execution_count": null,
      "outputs": []
    },
    {
      "cell_type": "code",
      "source": [
        "space = {'criterion': hp.choice('criterion', ['entropy', 'gini']), #choice - between entropy and gini\n",
        "        'max_depth': hp.quniform('max_depth', 10, 1200, 10),#quniform -integer values - 10 integer value between 10 and 1200\n",
        "        'max_features': hp.choice('max_features', ['auto', 'sqrt','log2', None]),\n",
        "        'min_samples_leaf': hp.uniform('min_samples_leaf', 0, 0.5),#uniform -floating numbers\n",
        "        'min_samples_split' : hp.uniform ('min_samples_split', 0, 1),\n",
        "        'n_estimators' : hp.choice('n_estimators', [10, 50, 300, 750, 1200,1300,1500])\n",
        "    }"
      ],
      "metadata": {
        "id": "VxGXnqiMMb-g"
      },
      "execution_count": null,
      "outputs": []
    },
    {
      "cell_type": "code",
      "source": [
        "def objective(space):\n",
        "    model = RandomForestClassifier(criterion = space['criterion'], max_depth = space['max_depth'],\n",
        "                                 max_features = space['max_features'],\n",
        "                                 min_samples_leaf = space['min_samples_leaf'],\n",
        "                                 min_samples_split = space['min_samples_split'],\n",
        "                                 n_estimators = space['n_estimators'], \n",
        "                                 )\n",
        "    \n",
        "    accuracy = cross_val_score(model, X_train, y_train, cv = 5).mean()\n",
        "\n",
        "    # We aim to maximize accuracy, therefore we return it as a negative value\n",
        "    return {'loss': -accuracy, 'status': STATUS_OK }"
      ],
      "metadata": {
        "id": "gDCSCozaMcy8"
      },
      "execution_count": null,
      "outputs": []
    },
    {
      "cell_type": "code",
      "source": [
        "from sklearn.model_selection import cross_val_score\n",
        "trials = Trials()\n",
        "best = fmin(fn= objective,\n",
        "            space= space,\n",
        "            algo= tpe.suggest,\n",
        "            max_evals = 80,\n",
        "            trials= trials)\n",
        "best"
      ],
      "metadata": {
        "colab": {
          "base_uri": "https://localhost:8080/"
        },
        "id": "X2s14Y-1MgiV",
        "outputId": "b77e09d4-21e7-49dc-ead7-fd47c0f29fe7"
      },
      "execution_count": null,
      "outputs": [
        {
          "output_type": "stream",
          "name": "stdout",
          "text": [
            "100%|██████████| 80/80 [09:26<00:00,  7.09s/it, best loss: -0.7687325069972012]\n"
          ]
        },
        {
          "output_type": "execute_result",
          "data": {
            "text/plain": [
              "{'criterion': 0,\n",
              " 'max_depth': 570.0,\n",
              " 'max_features': 2,\n",
              " 'min_samples_leaf': 0.08832039425849468,\n",
              " 'min_samples_split': 0.002232434330436406,\n",
              " 'n_estimators': 5}"
            ]
          },
          "metadata": {},
          "execution_count": 30
        }
      ]
    },
    {
      "cell_type": "code",
      "source": [
        "crit = {0: 'entropy', 1: 'gini'}\n",
        "feat = {0: 'auto', 1: 'sqrt', 2: 'log2', 3: None}\n",
        "est = {0: 10, 1: 50, 2: 300, 3: 750, 4: 1200,5:1300,6:1500}\n",
        "\n",
        "\n",
        "print(crit[best['criterion']])\n",
        "print(feat[best['max_features']])\n",
        "print(est[best['n_estimators']])"
      ],
      "metadata": {
        "colab": {
          "base_uri": "https://localhost:8080/"
        },
        "id": "yNZnclIHPI51",
        "outputId": "c14fec14-b354-49cd-9943-8aeb4b59515b"
      },
      "execution_count": null,
      "outputs": [
        {
          "output_type": "stream",
          "name": "stdout",
          "text": [
            "entropy\n",
            "log2\n",
            "1300\n"
          ]
        }
      ]
    },
    {
      "cell_type": "code",
      "source": [
        "best['min_samples_leaf']"
      ],
      "metadata": {
        "colab": {
          "base_uri": "https://localhost:8080/"
        },
        "id": "Tp_0pYOjPSkM",
        "outputId": "ce6b239a-9167-4226-8bad-f499f5646094"
      },
      "execution_count": null,
      "outputs": [
        {
          "output_type": "execute_result",
          "data": {
            "text/plain": [
              "0.08832039425849468"
            ]
          },
          "metadata": {},
          "execution_count": 32
        }
      ]
    },
    {
      "cell_type": "code",
      "source": [
        "trainedforest = RandomForestClassifier(criterion = crit[best['criterion']], max_depth = best['max_depth'], \n",
        "                                       max_features = feat[best['max_features']], \n",
        "                                       min_samples_leaf = best['min_samples_leaf'], \n",
        "                                       min_samples_split = best['min_samples_split'], \n",
        "                                       n_estimators = est[best['n_estimators']]).fit(X_train,y_train)\n",
        "predictionforest = trainedforest.predict(X_test)\n",
        "print(confusion_matrix(y_test,predictionforest))\n",
        "print(accuracy_score(y_test,predictionforest))\n",
        "print(classification_report(y_test,predictionforest))\n",
        "acc5 = accuracy_score(y_test,predictionforest)"
      ],
      "metadata": {
        "colab": {
          "base_uri": "https://localhost:8080/"
        },
        "id": "yWuI3y-CPTS5",
        "outputId": "04fa9cc7-f8c3-4bfd-f37a-4582950d9114"
      },
      "execution_count": null,
      "outputs": [
        {
          "output_type": "stream",
          "name": "stdout",
          "text": [
            "[[97 10]\n",
            " [24 23]]\n",
            "0.7792207792207793\n",
            "              precision    recall  f1-score   support\n",
            "\n",
            "           0       0.80      0.91      0.85       107\n",
            "           1       0.70      0.49      0.57        47\n",
            "\n",
            "    accuracy                           0.78       154\n",
            "   macro avg       0.75      0.70      0.71       154\n",
            "weighted avg       0.77      0.78      0.77       154\n",
            "\n"
          ]
        }
      ]
    },
    {
      "cell_type": "markdown",
      "source": [
        "**Genetic Algorithms**\n",
        "\n",
        "Genetic Algorithms tries to apply natural selection mechanisms to Machine Learning contexts.\n",
        "\n",
        "Let's immagine we create a population of N Machine Learning models with some predifined Hyperparameters. We can then calculate the accuracy of each model and decide to keep just half of the models (the ones that performs best). We can now generate some offsprings having similar Hyperparameters to the ones of the best models so that go get again a population of N models. At this point we can again caltulate the accuracy of each model and repeate the cycle for a defined number of generations. In this way, just the best models will survive at the end of the process."
      ],
      "metadata": {
        "id": "97ZTXkAUPYTo"
      }
    },
    {
      "cell_type": "code",
      "source": [
        "import numpy as np\n",
        "from sklearn.model_selection import RandomizedSearchCV\n",
        "# Number of trees in random forest\n",
        "n_estimators = [int(x) for x in np.linspace(start = 200, stop = 2000, num = 10)]\n",
        "# Number of features to consider at every split\n",
        "max_features = ['auto', 'sqrt','log2']\n",
        "# Maximum number of levels in tree\n",
        "max_depth = [int(x) for x in np.linspace(10, 1000,10)]\n",
        "# Minimum number of samples required to split a node\n",
        "min_samples_split = [2, 5, 10,14]\n",
        "# Minimum number of samples required at each leaf node\n",
        "min_samples_leaf = [1, 2, 4,6,8]\n",
        "# Create the random grid\n",
        "param = {'n_estimators': n_estimators,\n",
        "               'max_features': max_features,\n",
        "               'max_depth': max_depth,\n",
        "               'min_samples_split': min_samples_split,\n",
        "               'min_samples_leaf': min_samples_leaf,\n",
        "              'criterion':['entropy','gini']}\n",
        "print(param)"
      ],
      "metadata": {
        "colab": {
          "base_uri": "https://localhost:8080/"
        },
        "id": "ptVZLOe_PbL8",
        "outputId": "d4345672-00ab-4dc5-9732-9cc1c96d66eb"
      },
      "execution_count": null,
      "outputs": [
        {
          "output_type": "stream",
          "name": "stdout",
          "text": [
            "{'n_estimators': [200, 400, 600, 800, 1000, 1200, 1400, 1600, 1800, 2000], 'max_features': ['auto', 'sqrt', 'log2'], 'max_depth': [10, 120, 230, 340, 450, 560, 670, 780, 890, 1000], 'min_samples_split': [2, 5, 10, 14], 'min_samples_leaf': [1, 2, 4, 6, 8], 'criterion': ['entropy', 'gini']}\n"
          ]
        }
      ]
    },
    {
      "cell_type": "code",
      "source": [
        "pip install tpot"
      ],
      "metadata": {
        "colab": {
          "base_uri": "https://localhost:8080/"
        },
        "id": "ag2w1b8qPzoV",
        "outputId": "08cb34d9-d544-4af0-c369-c772ba40b5cf"
      },
      "execution_count": null,
      "outputs": [
        {
          "output_type": "stream",
          "name": "stdout",
          "text": [
            "Collecting tpot\n",
            "  Downloading TPOT-0.11.7-py3-none-any.whl (87 kB)\n",
            "\u001b[K     |████████████████████████████████| 87 kB 3.1 MB/s \n",
            "\u001b[?25hCollecting update-checker>=0.16\n",
            "  Downloading update_checker-0.18.0-py3-none-any.whl (7.0 kB)\n",
            "Requirement already satisfied: tqdm>=4.36.1 in /usr/local/lib/python3.7/dist-packages (from tpot) (4.63.0)\n",
            "Requirement already satisfied: pandas>=0.24.2 in /usr/local/lib/python3.7/dist-packages (from tpot) (1.3.5)\n",
            "Collecting xgboost>=1.1.0\n",
            "  Downloading xgboost-1.5.2-py3-none-manylinux2014_x86_64.whl (173.6 MB)\n",
            "\u001b[K     |████████████████████████████████| 173.6 MB 8.0 kB/s \n",
            "\u001b[?25hCollecting deap>=1.2\n",
            "  Downloading deap-1.3.1-cp37-cp37m-manylinux_2_5_x86_64.manylinux1_x86_64.manylinux_2_12_x86_64.manylinux2010_x86_64.whl (160 kB)\n",
            "\u001b[K     |████████████████████████████████| 160 kB 62.2 MB/s \n",
            "\u001b[?25hCollecting stopit>=1.1.1\n",
            "  Downloading stopit-1.1.2.tar.gz (18 kB)\n",
            "Requirement already satisfied: numpy>=1.16.3 in /usr/local/lib/python3.7/dist-packages (from tpot) (1.21.5)\n",
            "Requirement already satisfied: scikit-learn>=0.22.0 in /usr/local/lib/python3.7/dist-packages (from tpot) (1.0.2)\n",
            "Requirement already satisfied: scipy>=1.3.1 in /usr/local/lib/python3.7/dist-packages (from tpot) (1.4.1)\n",
            "Requirement already satisfied: joblib>=0.13.2 in /usr/local/lib/python3.7/dist-packages (from tpot) (1.1.0)\n",
            "Requirement already satisfied: python-dateutil>=2.7.3 in /usr/local/lib/python3.7/dist-packages (from pandas>=0.24.2->tpot) (2.8.2)\n",
            "Requirement already satisfied: pytz>=2017.3 in /usr/local/lib/python3.7/dist-packages (from pandas>=0.24.2->tpot) (2018.9)\n",
            "Requirement already satisfied: six>=1.5 in /usr/local/lib/python3.7/dist-packages (from python-dateutil>=2.7.3->pandas>=0.24.2->tpot) (1.15.0)\n",
            "Requirement already satisfied: threadpoolctl>=2.0.0 in /usr/local/lib/python3.7/dist-packages (from scikit-learn>=0.22.0->tpot) (3.1.0)\n",
            "Requirement already satisfied: requests>=2.3.0 in /usr/local/lib/python3.7/dist-packages (from update-checker>=0.16->tpot) (2.23.0)\n",
            "Requirement already satisfied: idna<3,>=2.5 in /usr/local/lib/python3.7/dist-packages (from requests>=2.3.0->update-checker>=0.16->tpot) (2.10)\n",
            "Requirement already satisfied: urllib3!=1.25.0,!=1.25.1,<1.26,>=1.21.1 in /usr/local/lib/python3.7/dist-packages (from requests>=2.3.0->update-checker>=0.16->tpot) (1.24.3)\n",
            "Requirement already satisfied: chardet<4,>=3.0.2 in /usr/local/lib/python3.7/dist-packages (from requests>=2.3.0->update-checker>=0.16->tpot) (3.0.4)\n",
            "Requirement already satisfied: certifi>=2017.4.17 in /usr/local/lib/python3.7/dist-packages (from requests>=2.3.0->update-checker>=0.16->tpot) (2021.10.8)\n",
            "Building wheels for collected packages: stopit\n",
            "  Building wheel for stopit (setup.py) ... \u001b[?25l\u001b[?25hdone\n",
            "  Created wheel for stopit: filename=stopit-1.1.2-py3-none-any.whl size=11956 sha256=88ea5877742a116b7d40516e63e0b4c1879f2d7682b496ae961780ef0bfb9de6\n",
            "  Stored in directory: /root/.cache/pip/wheels/e2/d2/79/eaf81edb391e27c87f51b8ef901ecc85a5363dc96b8b8d71e3\n",
            "Successfully built stopit\n",
            "Installing collected packages: xgboost, update-checker, stopit, deap, tpot\n",
            "  Attempting uninstall: xgboost\n",
            "    Found existing installation: xgboost 0.90\n",
            "    Uninstalling xgboost-0.90:\n",
            "      Successfully uninstalled xgboost-0.90\n",
            "Successfully installed deap-1.3.1 stopit-1.1.2 tpot-0.11.7 update-checker-0.18.0 xgboost-1.5.2\n"
          ]
        }
      ]
    },
    {
      "cell_type": "code",
      "source": [
        "from tpot import TPOTClassifier\n",
        "\n",
        "\n",
        "tpot_classifier = TPOTClassifier(generations= 5, population_size= 24, offspring_size= 12,\n",
        "                                 verbosity= 2, early_stop= 12,\n",
        "                                 config_dict={'sklearn.ensemble.RandomForestClassifier': param}, \n",
        "                                 cv = 4, scoring = 'accuracy')\n",
        "tpot_classifier.fit(X_train,y_train)"
      ],
      "metadata": {
        "colab": {
          "base_uri": "https://localhost:8080/",
          "height": 870,
          "referenced_widgets": [
            "04a656b4dd514c82b0cd32bb93f06aca",
            "423e1371cf0e43a1ae18946796cccd4d",
            "55c264768e264e9c882ff2c4d47ac28b",
            "7ca93cde1d48401aa1b4862de0a5c5f7",
            "4778a657bbff44f797684bcc0f485b90",
            "9f18f04c53464cafb97b96cb7b8c3d8d",
            "b61c41abedd44e7ba6de38b773d335b8",
            "ee70b2167c7949f19723b4455c5669cf",
            "d5ca722f12bf4b77a26783305deb4fd3",
            "1a065f44c4fb45f8ac4f974582a91fed",
            "afacbac8b79b4061868c07cabcda4100"
          ]
        },
        "id": "egsJxH0sPxSx",
        "outputId": "339d3d65-5e92-4367-c80a-149b0aa46dfa"
      },
      "execution_count": null,
      "outputs": [
        {
          "output_type": "display_data",
          "data": {
            "text/plain": [
              "Optimization Progress:   0%|          | 0/84 [00:00<?, ?pipeline/s]"
            ],
            "application/vnd.jupyter.widget-view+json": {
              "version_major": 2,
              "version_minor": 0,
              "model_id": "04a656b4dd514c82b0cd32bb93f06aca"
            }
          },
          "metadata": {}
        },
        {
          "output_type": "stream",
          "name": "stdout",
          "text": [
            "\n",
            "Generation 1 - Current best internal CV score: 0.7557401748578219\n",
            "\n",
            "Generation 2 - Current best internal CV score: 0.7589869281045751\n",
            "\n",
            "Generation 3 - Current best internal CV score: 0.7589869281045751\n",
            "\n",
            "Generation 4 - Current best internal CV score: 0.7622018504371446\n",
            "\n",
            "Generation 5 - Current best internal CV score: 0.7622018504371446\n",
            "\n",
            "Best pipeline: RandomForestClassifier(RandomForestClassifier(input_matrix, criterion=entropy, max_depth=560, max_features=log2, min_samples_leaf=6, min_samples_split=14, n_estimators=1600), criterion=entropy, max_depth=890, max_features=auto, min_samples_leaf=8, min_samples_split=14, n_estimators=200)\n"
          ]
        },
        {
          "output_type": "execute_result",
          "data": {
            "text/plain": [
              "TPOTClassifier(config_dict={'sklearn.ensemble.RandomForestClassifier': {'criterion': ['entropy',\n",
              "                                                                                      'gini'],\n",
              "                                                                        'max_depth': [10,\n",
              "                                                                                      120,\n",
              "                                                                                      230,\n",
              "                                                                                      340,\n",
              "                                                                                      450,\n",
              "                                                                                      560,\n",
              "                                                                                      670,\n",
              "                                                                                      780,\n",
              "                                                                                      890,\n",
              "                                                                                      1000],\n",
              "                                                                        'max_features': ['auto',\n",
              "                                                                                         'sqrt',\n",
              "                                                                                         'log2'],\n",
              "                                                                        'min_samples_leaf': [1,\n",
              "                                                                                             2,\n",
              "                                                                                             4,\n",
              "                                                                                             6,\n",
              "                                                                                             8],\n",
              "                                                                        'min_samples_split': [2,\n",
              "                                                                                              5,\n",
              "                                                                                              10,\n",
              "                                                                                              14],\n",
              "                                                                        'n_estimators': [200,\n",
              "                                                                                         400,\n",
              "                                                                                         600,\n",
              "                                                                                         800,\n",
              "                                                                                         1000,\n",
              "                                                                                         1200,\n",
              "                                                                                         1400,\n",
              "                                                                                         1600,\n",
              "                                                                                         1800,\n",
              "                                                                                         2000]}},\n",
              "               cv=4, early_stop=12, generations=5, offspring_size=12,\n",
              "               population_size=24, scoring='accuracy', verbosity=2)"
            ]
          },
          "metadata": {},
          "execution_count": 38
        }
      ]
    },
    {
      "cell_type": "code",
      "source": [
        "accuracy = tpot_classifier.score(X_test, y_test)\n",
        "print(accuracy)"
      ],
      "metadata": {
        "colab": {
          "base_uri": "https://localhost:8080/"
        },
        "id": "OSZFQ8sHPetF",
        "outputId": "e1d32e71-5485-4fad-f9dc-f0d538cd38d3"
      },
      "execution_count": null,
      "outputs": [
        {
          "output_type": "stream",
          "name": "stdout",
          "text": [
            "0.8636363636363636\n"
          ]
        }
      ]
    },
    {
      "cell_type": "markdown",
      "source": [
        "**Optimize hyperparameters of the model using Optuna**\n",
        "\n",
        "The hyperparameters of the above algorithm are n_estimators and max_depth for which we can try different values to see if the model accuracy can be improved. The objective function is modified to accept a trial object. This trial has several methods for sampling hyperparameters. We create a study to run the hyperparameter optimization and finally read the best hyperparameters."
      ],
      "metadata": {
        "id": "wyjYm5-vQQk-"
      }
    },
    {
      "cell_type": "code",
      "source": [
        "pip install optuna"
      ],
      "metadata": {
        "colab": {
          "base_uri": "https://localhost:8080/"
        },
        "id": "lK2gGmShWB4W",
        "outputId": "0fd7d475-d218-4802-dc24-08a430700aae"
      },
      "execution_count": null,
      "outputs": [
        {
          "output_type": "stream",
          "name": "stdout",
          "text": [
            "Collecting optuna\n",
            "  Downloading optuna-2.10.0-py3-none-any.whl (308 kB)\n",
            "\u001b[K     |████████████████████████████████| 308 kB 5.0 MB/s \n",
            "\u001b[?25hRequirement already satisfied: scipy!=1.4.0 in /usr/local/lib/python3.7/dist-packages (from optuna) (1.4.1)\n",
            "Collecting alembic\n",
            "  Downloading alembic-1.7.7-py3-none-any.whl (210 kB)\n",
            "\u001b[K     |████████████████████████████████| 210 kB 52.5 MB/s \n",
            "\u001b[?25hCollecting colorlog\n",
            "  Downloading colorlog-6.6.0-py2.py3-none-any.whl (11 kB)\n",
            "Requirement already satisfied: sqlalchemy>=1.1.0 in /usr/local/lib/python3.7/dist-packages (from optuna) (1.4.32)\n",
            "Requirement already satisfied: tqdm in /usr/local/lib/python3.7/dist-packages (from optuna) (4.63.0)\n",
            "Collecting cliff\n",
            "  Downloading cliff-3.10.1-py3-none-any.whl (81 kB)\n",
            "\u001b[K     |████████████████████████████████| 81 kB 8.8 MB/s \n",
            "\u001b[?25hCollecting cmaes>=0.8.2\n",
            "  Downloading cmaes-0.8.2-py3-none-any.whl (15 kB)\n",
            "Requirement already satisfied: packaging>=20.0 in /usr/local/lib/python3.7/dist-packages (from optuna) (21.3)\n",
            "Requirement already satisfied: numpy in /usr/local/lib/python3.7/dist-packages (from optuna) (1.21.5)\n",
            "Requirement already satisfied: PyYAML in /usr/local/lib/python3.7/dist-packages (from optuna) (3.13)\n",
            "Requirement already satisfied: pyparsing!=3.0.5,>=2.0.2 in /usr/local/lib/python3.7/dist-packages (from packaging>=20.0->optuna) (3.0.7)\n",
            "Requirement already satisfied: greenlet!=0.4.17 in /usr/local/lib/python3.7/dist-packages (from sqlalchemy>=1.1.0->optuna) (1.1.2)\n",
            "Requirement already satisfied: importlib-metadata in /usr/local/lib/python3.7/dist-packages (from sqlalchemy>=1.1.0->optuna) (4.11.3)\n",
            "Requirement already satisfied: importlib-resources in /usr/local/lib/python3.7/dist-packages (from alembic->optuna) (5.4.0)\n",
            "Collecting Mako\n",
            "  Downloading Mako-1.2.0-py3-none-any.whl (78 kB)\n",
            "\u001b[K     |████████████████████████████████| 78 kB 6.2 MB/s \n",
            "\u001b[?25hCollecting pbr!=2.1.0,>=2.0.0\n",
            "  Downloading pbr-5.8.1-py2.py3-none-any.whl (113 kB)\n",
            "\u001b[K     |████████████████████████████████| 113 kB 57.7 MB/s \n",
            "\u001b[?25hCollecting autopage>=0.4.0\n",
            "  Downloading autopage-0.5.0-py3-none-any.whl (29 kB)\n",
            "Collecting stevedore>=2.0.1\n",
            "  Downloading stevedore-3.5.0-py3-none-any.whl (49 kB)\n",
            "\u001b[K     |████████████████████████████████| 49 kB 5.5 MB/s \n",
            "\u001b[?25hCollecting cmd2>=1.0.0\n",
            "  Downloading cmd2-2.4.0-py3-none-any.whl (150 kB)\n",
            "\u001b[K     |████████████████████████████████| 150 kB 71.6 MB/s \n",
            "\u001b[?25hRequirement already satisfied: PrettyTable>=0.7.2 in /usr/local/lib/python3.7/dist-packages (from cliff->optuna) (3.2.0)\n",
            "Requirement already satisfied: attrs>=16.3.0 in /usr/local/lib/python3.7/dist-packages (from cmd2>=1.0.0->cliff->optuna) (21.4.0)\n",
            "Requirement already satisfied: wcwidth>=0.1.7 in /usr/local/lib/python3.7/dist-packages (from cmd2>=1.0.0->cliff->optuna) (0.2.5)\n",
            "Requirement already satisfied: typing-extensions in /usr/local/lib/python3.7/dist-packages (from cmd2>=1.0.0->cliff->optuna) (3.10.0.2)\n",
            "Collecting pyperclip>=1.6\n",
            "  Downloading pyperclip-1.8.2.tar.gz (20 kB)\n",
            "Requirement already satisfied: zipp>=0.5 in /usr/local/lib/python3.7/dist-packages (from importlib-metadata->sqlalchemy>=1.1.0->optuna) (3.7.0)\n",
            "Requirement already satisfied: MarkupSafe>=0.9.2 in /usr/local/lib/python3.7/dist-packages (from Mako->alembic->optuna) (2.0.1)\n",
            "Building wheels for collected packages: pyperclip\n",
            "  Building wheel for pyperclip (setup.py) ... \u001b[?25l\u001b[?25hdone\n",
            "  Created wheel for pyperclip: filename=pyperclip-1.8.2-py3-none-any.whl size=11137 sha256=0216ee7e15c73c85bdbe1bf08615c1691489f7299394b3bac570f8e6c7fce8dd\n",
            "  Stored in directory: /root/.cache/pip/wheels/9f/18/84/8f69f8b08169c7bae2dde6bd7daf0c19fca8c8e500ee620a28\n",
            "Successfully built pyperclip\n",
            "Installing collected packages: pyperclip, pbr, stevedore, Mako, cmd2, autopage, colorlog, cmaes, cliff, alembic, optuna\n",
            "Successfully installed Mako-1.2.0 alembic-1.7.7 autopage-0.5.0 cliff-3.10.1 cmaes-0.8.2 cmd2-2.4.0 colorlog-6.6.0 optuna-2.10.0 pbr-5.8.1 pyperclip-1.8.2 stevedore-3.5.0\n"
          ]
        }
      ]
    },
    {
      "cell_type": "code",
      "source": [
        "import optuna\n",
        "import sklearn.svm\n",
        "def objective(trial):\n",
        "\n",
        "    classifier = trial.suggest_categorical('classifier', ['RandomForest', 'SVC'])\n",
        "    \n",
        "    if classifier == 'RandomForest':\n",
        "        n_estimators = trial.suggest_int('n_estimators', 200, 2000,10)\n",
        "        max_depth = int(trial.suggest_float('max_depth', 10, 100, log=True))\n",
        "\n",
        "        clf = sklearn.ensemble.RandomForestClassifier(\n",
        "            n_estimators=n_estimators, max_depth=max_depth)\n",
        "    else:\n",
        "        c = trial.suggest_float('svc_c', 1e-10, 1e10, log=True)\n",
        "        \n",
        "        clf = sklearn.svm.SVC(C=c, gamma='auto')\n",
        "\n",
        "    return sklearn.model_selection.cross_val_score(\n",
        "        clf,X_train,y_train, n_jobs=-1, cv=3).mean()"
      ],
      "metadata": {
        "id": "pI4-yOAZQ2JN"
      },
      "execution_count": null,
      "outputs": []
    },
    {
      "cell_type": "code",
      "source": [
        "study = optuna.create_study(direction='maximize')\n",
        "study.optimize(objective, n_trials=100)\n",
        "\n",
        "trial = study.best_trial\n",
        "\n",
        "print('Accuracy: {}'.format(trial.value))\n",
        "print(\"Best hyperparameters: {}\".format(trial.params))"
      ],
      "metadata": {
        "colab": {
          "base_uri": "https://localhost:8080/"
        },
        "id": "Yu6xqcxWQ4w7",
        "outputId": "6b65916c-afe1-4b32-a0ee-fba112af66cf"
      },
      "execution_count": null,
      "outputs": [
        {
          "output_type": "stream",
          "name": "stderr",
          "text": [
            "\u001b[32m[I 2022-03-24 00:34:28,525]\u001b[0m A new study created in memory with name: no-name-de9f4e00-54f9-4f9b-974e-e2b993ae2d1e\u001b[0m\n",
            "\u001b[32m[I 2022-03-24 00:34:40,542]\u001b[0m Trial 0 finished with value: 0.7508130081300813 and parameters: {'classifier': 'RandomForest', 'n_estimators': 1980, 'max_depth': 49.242605315955}. Best is trial 0 with value: 0.7508130081300813.\u001b[0m\n",
            "\u001b[32m[I 2022-03-24 00:34:40,625]\u001b[0m Trial 1 finished with value: 0.640068547744301 and parameters: {'classifier': 'SVC', 'svc_c': 42248.60858520525}. Best is trial 0 with value: 0.7508130081300813.\u001b[0m\n",
            "\u001b[32m[I 2022-03-24 00:34:47,701]\u001b[0m Trial 2 finished with value: 0.7459110473457676 and parameters: {'classifier': 'RandomForest', 'n_estimators': 1490, 'max_depth': 91.05220318326538}. Best is trial 0 with value: 0.7508130081300813.\u001b[0m\n",
            "\u001b[32m[I 2022-03-24 00:34:53,648]\u001b[0m Trial 3 finished with value: 0.7491790212019768 and parameters: {'classifier': 'RandomForest', 'n_estimators': 1260, 'max_depth': 27.259403482079616}. Best is trial 0 with value: 0.7508130081300813.\u001b[0m\n",
            "\u001b[32m[I 2022-03-24 00:34:53,712]\u001b[0m Trial 4 finished with value: 0.640068547744301 and parameters: {'classifier': 'SVC', 'svc_c': 7.129540334942813e-05}. Best is trial 0 with value: 0.7508130081300813.\u001b[0m\n",
            "\u001b[32m[I 2022-03-24 00:34:53,774]\u001b[0m Trial 5 finished with value: 0.640068547744301 and parameters: {'classifier': 'SVC', 'svc_c': 8.222204209788361e-05}. Best is trial 0 with value: 0.7508130081300813.\u001b[0m\n",
            "\u001b[32m[I 2022-03-24 00:34:57,031]\u001b[0m Trial 6 finished with value: 0.7459190180137095 and parameters: {'classifier': 'RandomForest', 'n_estimators': 690, 'max_depth': 13.837608279568743}. Best is trial 0 with value: 0.7508130081300813.\u001b[0m\n",
            "\u001b[32m[I 2022-03-24 00:34:57,111]\u001b[0m Trial 7 finished with value: 0.640068547744301 and parameters: {'classifier': 'SVC', 'svc_c': 607501.5412554061}. Best is trial 0 with value: 0.7508130081300813.\u001b[0m\n",
            "\u001b[32m[I 2022-03-24 00:34:59,502]\u001b[0m Trial 8 finished with value: 0.7556910569105691 and parameters: {'classifier': 'RandomForest', 'n_estimators': 500, 'max_depth': 44.93932780043437}. Best is trial 8 with value: 0.7556910569105691.\u001b[0m\n",
            "\u001b[32m[I 2022-03-24 00:35:05,390]\u001b[0m Trial 9 finished with value: 0.7491630798660928 and parameters: {'classifier': 'RandomForest', 'n_estimators': 1250, 'max_depth': 26.501850420121396}. Best is trial 8 with value: 0.7556910569105691.\u001b[0m\n",
            "\u001b[32m[I 2022-03-24 00:35:06,558]\u001b[0m Trial 10 finished with value: 0.7491790212019768 and parameters: {'classifier': 'RandomForest', 'n_estimators': 240, 'max_depth': 60.191174390211245}. Best is trial 8 with value: 0.7556910569105691.\u001b[0m\n",
            "\u001b[32m[I 2022-03-24 00:35:15,638]\u001b[0m Trial 11 finished with value: 0.7556910569105691 and parameters: {'classifier': 'RandomForest', 'n_estimators': 1900, 'max_depth': 48.39874028149808}. Best is trial 8 with value: 0.7556910569105691.\u001b[0m\n",
            "\u001b[32m[I 2022-03-24 00:35:18,580]\u001b[0m Trial 12 finished with value: 0.7540570699824646 and parameters: {'classifier': 'RandomForest', 'n_estimators': 620, 'max_depth': 44.105182776782414}. Best is trial 8 with value: 0.7556910569105691.\u001b[0m\n",
            "\u001b[32m[I 2022-03-24 00:35:27,399]\u001b[0m Trial 13 finished with value: 0.7475530049418141 and parameters: {'classifier': 'RandomForest', 'n_estimators': 1860, 'max_depth': 79.88658120290468}. Best is trial 8 with value: 0.7556910569105691.\u001b[0m\n",
            "\u001b[32m[I 2022-03-24 00:35:31,163]\u001b[0m Trial 14 finished with value: 0.7491710505340348 and parameters: {'classifier': 'RandomForest', 'n_estimators': 800, 'max_depth': 34.344667312707344}. Best is trial 8 with value: 0.7556910569105691.\u001b[0m\n",
            "\u001b[32m[I 2022-03-24 00:35:32,324]\u001b[0m Trial 15 finished with value: 0.7491630798660928 and parameters: {'classifier': 'RandomForest', 'n_estimators': 240, 'max_depth': 15.209541470687725}. Best is trial 8 with value: 0.7556910569105691.\u001b[0m\n",
            "\u001b[32m[I 2022-03-24 00:35:40,048]\u001b[0m Trial 16 finished with value: 0.7491790212019768 and parameters: {'classifier': 'RandomForest', 'n_estimators': 1630, 'max_depth': 61.99472233121422}. Best is trial 8 with value: 0.7556910569105691.\u001b[0m\n",
            "\u001b[32m[I 2022-03-24 00:35:44,823]\u001b[0m Trial 17 finished with value: 0.7507890961262554 and parameters: {'classifier': 'RandomForest', 'n_estimators': 1010, 'max_depth': 20.579943514081524}. Best is trial 8 with value: 0.7556910569105691.\u001b[0m\n",
            "\u001b[32m[I 2022-03-24 00:35:44,889]\u001b[0m Trial 18 finished with value: 0.640068547744301 and parameters: {'classifier': 'SVC', 'svc_c': 2.2819670827729526e-09}. Best is trial 8 with value: 0.7556910569105691.\u001b[0m\n",
            "\u001b[32m[I 2022-03-24 00:35:47,233]\u001b[0m Trial 19 finished with value: 0.7507970667941973 and parameters: {'classifier': 'RandomForest', 'n_estimators': 490, 'max_depth': 38.2773101353272}. Best is trial 8 with value: 0.7556910569105691.\u001b[0m\n",
            "\u001b[32m[I 2022-03-24 00:35:51,621]\u001b[0m Trial 20 finished with value: 0.7491790212019768 and parameters: {'classifier': 'RandomForest', 'n_estimators': 930, 'max_depth': 10.004470658628287}. Best is trial 8 with value: 0.7556910569105691.\u001b[0m\n",
            "\u001b[32m[I 2022-03-24 00:35:54,195]\u001b[0m Trial 21 finished with value: 0.7459429300175354 and parameters: {'classifier': 'RandomForest', 'n_estimators': 530, 'max_depth': 44.77412027973567}. Best is trial 8 with value: 0.7556910569105691.\u001b[0m\n",
            "\u001b[32m[I 2022-03-24 00:35:56,793]\u001b[0m Trial 22 finished with value: 0.7410409692332217 and parameters: {'classifier': 'RandomForest', 'n_estimators': 540, 'max_depth': 55.42786026366693}. Best is trial 8 with value: 0.7556910569105691.\u001b[0m\n",
            "\u001b[32m[I 2022-03-24 00:35:58,910]\u001b[0m Trial 23 finished with value: 0.7410409692332217 and parameters: {'classifier': 'RandomForest', 'n_estimators': 440, 'max_depth': 40.70121318371817}. Best is trial 8 with value: 0.7556910569105691.\u001b[0m\n",
            "\u001b[32m[I 2022-03-24 00:36:02,712]\u001b[0m Trial 24 finished with value: 0.7426590148254424 and parameters: {'classifier': 'RandomForest', 'n_estimators': 800, 'max_depth': 70.53890206815285}. Best is trial 8 with value: 0.7556910569105691.\u001b[0m\n",
            "\u001b[32m[I 2022-03-24 00:36:08,387]\u001b[0m Trial 25 finished with value: 0.744285031085605 and parameters: {'classifier': 'RandomForest', 'n_estimators': 1200, 'max_depth': 29.90451448505797}. Best is trial 8 with value: 0.7556910569105691.\u001b[0m\n",
            "\u001b[32m[I 2022-03-24 00:36:08,483]\u001b[0m Trial 26 finished with value: 0.640068547744301 and parameters: {'classifier': 'SVC', 'svc_c': 595060924.6352361}. Best is trial 8 with value: 0.7556910569105691.\u001b[0m\n",
            "\u001b[32m[I 2022-03-24 00:36:15,959]\u001b[0m Trial 27 finished with value: 0.7426669854933844 and parameters: {'classifier': 'RandomForest', 'n_estimators': 1580, 'max_depth': 47.71050962474046}. Best is trial 8 with value: 0.7556910569105691.\u001b[0m\n",
            "\u001b[32m[I 2022-03-24 00:36:17,707]\u001b[0m Trial 28 finished with value: 0.744293001753547 and parameters: {'classifier': 'RandomForest', 'n_estimators': 360, 'max_depth': 22.75287837591874}. Best is trial 8 with value: 0.7556910569105691.\u001b[0m\n",
            "\u001b[32m[I 2022-03-24 00:36:21,097]\u001b[0m Trial 29 finished with value: 0.7573250438386737 and parameters: {'classifier': 'RandomForest', 'n_estimators': 710, 'max_depth': 34.92362358327494}. Best is trial 29 with value: 0.7573250438386737.\u001b[0m\n",
            "\u001b[32m[I 2022-03-24 00:36:24,824]\u001b[0m Trial 30 finished with value: 0.75242308305436 and parameters: {'classifier': 'RandomForest', 'n_estimators': 790, 'max_depth': 35.299527401407786}. Best is trial 29 with value: 0.7573250438386737.\u001b[0m\n",
            "\u001b[32m[I 2022-03-24 00:36:27,699]\u001b[0m Trial 31 finished with value: 0.7475530049418141 and parameters: {'classifier': 'RandomForest', 'n_estimators': 600, 'max_depth': 51.48538839788246}. Best is trial 29 with value: 0.7573250438386737.\u001b[0m\n",
            "\u001b[32m[I 2022-03-24 00:36:31,069]\u001b[0m Trial 32 finished with value: 0.7426590148254424 and parameters: {'classifier': 'RandomForest', 'n_estimators': 700, 'max_depth': 40.65956117908259}. Best is trial 29 with value: 0.7573250438386737.\u001b[0m\n",
            "\u001b[32m[I 2022-03-24 00:36:35,421]\u001b[0m Trial 33 finished with value: 0.7524310537223019 and parameters: {'classifier': 'RandomForest', 'n_estimators': 920, 'max_depth': 33.999558594377376}. Best is trial 29 with value: 0.7573250438386737.\u001b[0m\n",
            "\u001b[32m[I 2022-03-24 00:36:40,753]\u001b[0m Trial 34 finished with value: 0.7524390243902439 and parameters: {'classifier': 'RandomForest', 'n_estimators': 1110, 'max_depth': 65.781853335371}. Best is trial 29 with value: 0.7573250438386737.\u001b[0m\n",
            "\u001b[32m[I 2022-03-24 00:36:40,842]\u001b[0m Trial 35 finished with value: 0.640068547744301 and parameters: {'classifier': 'SVC', 'svc_c': 3.9012124527225818}. Best is trial 29 with value: 0.7573250438386737.\u001b[0m\n",
            "\u001b[32m[I 2022-03-24 00:36:42,909]\u001b[0m Trial 36 finished with value: 0.7524390243902439 and parameters: {'classifier': 'RandomForest', 'n_estimators': 420, 'max_depth': 43.83007124780948}. Best is trial 29 with value: 0.7573250438386737.\u001b[0m\n",
            "\u001b[32m[I 2022-03-24 00:36:52,168]\u001b[0m Trial 37 finished with value: 0.7508050374621393 and parameters: {'classifier': 'RandomForest', 'n_estimators': 1930, 'max_depth': 52.52060585952503}. Best is trial 29 with value: 0.7573250438386737.\u001b[0m\n",
            "\u001b[32m[I 2022-03-24 00:36:52,236]\u001b[0m Trial 38 finished with value: 0.640068547744301 and parameters: {'classifier': 'SVC', 'svc_c': 5.898002002268289e-09}. Best is trial 29 with value: 0.7573250438386737.\u001b[0m\n",
            "\u001b[32m[I 2022-03-24 00:36:58,963]\u001b[0m Trial 39 finished with value: 0.7459110473457676 and parameters: {'classifier': 'RandomForest', 'n_estimators': 1400, 'max_depth': 30.69120503958043}. Best is trial 29 with value: 0.7573250438386737.\u001b[0m\n",
            "\u001b[32m[I 2022-03-24 00:36:59,049]\u001b[0m Trial 40 finished with value: 0.640068547744301 and parameters: {'classifier': 'SVC', 'svc_c': 16.35278880743256}. Best is trial 29 with value: 0.7573250438386737.\u001b[0m\n",
            "\u001b[32m[I 2022-03-24 00:37:01,055]\u001b[0m Trial 41 finished with value: 0.7589351187629524 and parameters: {'classifier': 'RandomForest', 'n_estimators': 410, 'max_depth': 42.72803645487328}. Best is trial 41 with value: 0.7589351187629524.\u001b[0m\n",
            "\u001b[32m[I 2022-03-24 00:37:02,568]\u001b[0m Trial 42 finished with value: 0.7442770604176631 and parameters: {'classifier': 'RandomForest', 'n_estimators': 310, 'max_depth': 49.91225519013685}. Best is trial 41 with value: 0.7589351187629524.\u001b[0m\n",
            "\u001b[32m[I 2022-03-24 00:37:05,866]\u001b[0m Trial 43 finished with value: 0.75242308305436 and parameters: {'classifier': 'RandomForest', 'n_estimators': 680, 'max_depth': 38.67208924858613}. Best is trial 41 with value: 0.7589351187629524.\u001b[0m\n",
            "\u001b[32m[I 2022-03-24 00:37:08,799]\u001b[0m Trial 44 finished with value: 0.7475450342738722 and parameters: {'classifier': 'RandomForest', 'n_estimators': 610, 'max_depth': 44.50582980146407}. Best is trial 41 with value: 0.7589351187629524.\u001b[0m\n",
            "\u001b[32m[I 2022-03-24 00:37:10,513]\u001b[0m Trial 45 finished with value: 0.7491710505340348 and parameters: {'classifier': 'RandomForest', 'n_estimators': 350, 'max_depth': 26.675543827755565}. Best is trial 41 with value: 0.7589351187629524.\u001b[0m\n",
            "\u001b[32m[I 2022-03-24 00:37:18,827]\u001b[0m Trial 46 finished with value: 0.7491710505340348 and parameters: {'classifier': 'RandomForest', 'n_estimators': 1740, 'max_depth': 56.752580392749145}. Best is trial 41 with value: 0.7589351187629524.\u001b[0m\n",
            "\u001b[32m[I 2022-03-24 00:37:21,861]\u001b[0m Trial 47 finished with value: 0.7475450342738722 and parameters: {'classifier': 'RandomForest', 'n_estimators': 630, 'max_depth': 93.93060288993166}. Best is trial 41 with value: 0.7589351187629524.\u001b[0m\n",
            "\u001b[32m[I 2022-03-24 00:37:28,164]\u001b[0m Trial 48 finished with value: 0.755699027578511 and parameters: {'classifier': 'RandomForest', 'n_estimators': 1340, 'max_depth': 79.43866647864485}. Best is trial 41 with value: 0.7589351187629524.\u001b[0m\n",
            "\u001b[32m[I 2022-03-24 00:37:34,885]\u001b[0m Trial 49 finished with value: 0.75242308305436 and parameters: {'classifier': 'RandomForest', 'n_estimators': 1420, 'max_depth': 74.53908504455472}. Best is trial 41 with value: 0.7589351187629524.\u001b[0m\n",
            "\u001b[32m[I 2022-03-24 00:37:43,301]\u001b[0m Trial 50 finished with value: 0.7491869918699187 and parameters: {'classifier': 'RandomForest', 'n_estimators': 1780, 'max_depth': 23.922715843087893}. Best is trial 41 with value: 0.7589351187629524.\u001b[0m\n",
            "\u001b[32m[I 2022-03-24 00:37:44,401]\u001b[0m Trial 51 finished with value: 0.7508050374621393 and parameters: {'classifier': 'RandomForest', 'n_estimators': 220, 'max_depth': 37.14885950483146}. Best is trial 41 with value: 0.7589351187629524.\u001b[0m\n",
            "\u001b[32m[I 2022-03-24 00:37:48,578]\u001b[0m Trial 52 finished with value: 0.7507970667941973 and parameters: {'classifier': 'RandomForest', 'n_estimators': 880, 'max_depth': 62.3728628379446}. Best is trial 41 with value: 0.7589351187629524.\u001b[0m\n",
            "\u001b[32m[I 2022-03-24 00:37:57,897]\u001b[0m Trial 53 finished with value: 0.7540570699824646 and parameters: {'classifier': 'RandomForest', 'n_estimators': 1980, 'max_depth': 86.8450383263177}. Best is trial 41 with value: 0.7589351187629524.\u001b[0m\n",
            "\u001b[32m[I 2022-03-24 00:38:07,111]\u001b[0m Trial 54 finished with value: 0.7507970667941973 and parameters: {'classifier': 'RandomForest', 'n_estimators': 1970, 'max_depth': 81.64520342928792}. Best is trial 41 with value: 0.7589351187629524.\u001b[0m\n",
            "\u001b[32m[I 2022-03-24 00:38:16,072]\u001b[0m Trial 55 finished with value: 0.7507970667941973 and parameters: {'classifier': 'RandomForest', 'n_estimators': 1890, 'max_depth': 79.53625859130119}. Best is trial 41 with value: 0.7589351187629524.\u001b[0m\n",
            "\u001b[32m[I 2022-03-24 00:38:16,156]\u001b[0m Trial 56 finished with value: 0.640068547744301 and parameters: {'classifier': 'SVC', 'svc_c': 9564485313.78402}. Best is trial 41 with value: 0.7589351187629524.\u001b[0m\n",
            "\u001b[32m[I 2022-03-24 00:38:25,510]\u001b[0m Trial 57 finished with value: 0.75242308305436 and parameters: {'classifier': 'RandomForest', 'n_estimators': 2000, 'max_depth': 99.5622868094433}. Best is trial 41 with value: 0.7589351187629524.\u001b[0m\n",
            "\u001b[32m[I 2022-03-24 00:38:33,804]\u001b[0m Trial 58 finished with value: 0.7475450342738722 and parameters: {'classifier': 'RandomForest', 'n_estimators': 1720, 'max_depth': 87.71434425970905}. Best is trial 41 with value: 0.7589351187629524.\u001b[0m\n",
            "\u001b[32m[I 2022-03-24 00:38:42,545]\u001b[0m Trial 59 finished with value: 0.744293001753547 and parameters: {'classifier': 'RandomForest', 'n_estimators': 1850, 'max_depth': 69.68534828955879}. Best is trial 41 with value: 0.7589351187629524.\u001b[0m\n",
            "\u001b[32m[I 2022-03-24 00:38:48,870]\u001b[0m Trial 60 finished with value: 0.7524310537223019 and parameters: {'classifier': 'RandomForest', 'n_estimators': 1340, 'max_depth': 32.89307967828146}. Best is trial 41 with value: 0.7589351187629524.\u001b[0m\n",
            "\u001b[32m[I 2022-03-24 00:38:51,169]\u001b[0m Trial 61 finished with value: 0.7508130081300813 and parameters: {'classifier': 'RandomForest', 'n_estimators': 480, 'max_depth': 45.238043308976856}. Best is trial 41 with value: 0.7589351187629524.\u001b[0m\n",
            "\u001b[32m[I 2022-03-24 00:38:58,563]\u001b[0m Trial 62 finished with value: 0.7524310537223019 and parameters: {'classifier': 'RandomForest', 'n_estimators': 1570, 'max_depth': 58.90238252304206}. Best is trial 41 with value: 0.7589351187629524.\u001b[0m\n",
            "\u001b[32m[I 2022-03-24 00:39:03,844]\u001b[0m Trial 63 finished with value: 0.7475290929379882 and parameters: {'classifier': 'RandomForest', 'n_estimators': 1110, 'max_depth': 41.602597279885096}. Best is trial 41 with value: 0.7589351187629524.\u001b[0m\n",
            "\u001b[32m[I 2022-03-24 00:39:07,446]\u001b[0m Trial 64 finished with value: 0.7491710505340348 and parameters: {'classifier': 'RandomForest', 'n_estimators': 760, 'max_depth': 28.33755818863952}. Best is trial 41 with value: 0.7589351187629524.\u001b[0m\n",
            "\u001b[32m[I 2022-03-24 00:39:10,136]\u001b[0m Trial 65 finished with value: 0.7556830862426271 and parameters: {'classifier': 'RandomForest', 'n_estimators': 570, 'max_depth': 16.672502156686374}. Best is trial 41 with value: 0.7589351187629524.\u001b[0m\n",
            "\u001b[32m[I 2022-03-24 00:39:12,734]\u001b[0m Trial 66 finished with value: 0.744285031085605 and parameters: {'classifier': 'RandomForest', 'n_estimators': 540, 'max_depth': 15.219941981289669}. Best is trial 41 with value: 0.7589351187629524.\u001b[0m\n",
            "\u001b[32m[I 2022-03-24 00:39:17,465]\u001b[0m Trial 67 finished with value: 0.7524390243902439 and parameters: {'classifier': 'RandomForest', 'n_estimators': 1000, 'max_depth': 18.938096674361798}. Best is trial 41 with value: 0.7589351187629524.\u001b[0m\n",
            "\u001b[32m[I 2022-03-24 00:39:17,548]\u001b[0m Trial 68 finished with value: 0.640068547744301 and parameters: {'classifier': 'SVC', 'svc_c': 0.0012470614719362564}. Best is trial 41 with value: 0.7589351187629524.\u001b[0m\n",
            "\u001b[32m[I 2022-03-24 00:39:25,341]\u001b[0m Trial 69 finished with value: 0.7589430894308943 and parameters: {'classifier': 'RandomForest', 'n_estimators': 1650, 'max_depth': 16.1951831269622}. Best is trial 69 with value: 0.7589430894308943.\u001b[0m\n",
            "\u001b[32m[I 2022-03-24 00:39:33,125]\u001b[0m Trial 70 finished with value: 0.7524310537223019 and parameters: {'classifier': 'RandomForest', 'n_estimators': 1640, 'max_depth': 12.589912959836697}. Best is trial 69 with value: 0.7589430894308943.\u001b[0m\n",
            "\u001b[32m[I 2022-03-24 00:39:35,181]\u001b[0m Trial 71 finished with value: 0.7508130081300813 and parameters: {'classifier': 'RandomForest', 'n_estimators': 430, 'max_depth': 17.767108086573156}. Best is trial 69 with value: 0.7589430894308943.\u001b[0m\n",
            "\u001b[32m[I 2022-03-24 00:39:43,840]\u001b[0m Trial 72 finished with value: 0.7491710505340348 and parameters: {'classifier': 'RandomForest', 'n_estimators': 1830, 'max_depth': 18.147934292404354}. Best is trial 69 with value: 0.7589430894308943.\u001b[0m\n",
            "\u001b[32m[I 2022-03-24 00:39:45,252]\u001b[0m Trial 73 finished with value: 0.7475450342738722 and parameters: {'classifier': 'RandomForest', 'n_estimators': 290, 'max_depth': 12.801701559026261}. Best is trial 69 with value: 0.7589430894308943.\u001b[0m\n",
            "\u001b[32m[I 2022-03-24 00:39:51,140]\u001b[0m Trial 74 finished with value: 0.7524310537223019 and parameters: {'classifier': 'RandomForest', 'n_estimators': 1230, 'max_depth': 10.008809301916807}. Best is trial 69 with value: 0.7589430894308943.\u001b[0m\n",
            "\u001b[32m[I 2022-03-24 00:39:53,766]\u001b[0m Trial 75 finished with value: 0.7491630798660928 and parameters: {'classifier': 'RandomForest', 'n_estimators': 540, 'max_depth': 15.664669962866986}. Best is trial 69 with value: 0.7589430894308943.\u001b[0m\n",
            "\u001b[32m[I 2022-03-24 00:40:01,687]\u001b[0m Trial 76 finished with value: 0.7491710505340348 and parameters: {'classifier': 'RandomForest', 'n_estimators': 1660, 'max_depth': 36.14638906556048}. Best is trial 69 with value: 0.7589430894308943.\u001b[0m\n",
            "\u001b[32m[I 2022-03-24 00:40:08,712]\u001b[0m Trial 77 finished with value: 0.7491630798660928 and parameters: {'classifier': 'RandomForest', 'n_estimators': 1490, 'max_depth': 49.29406431691136}. Best is trial 69 with value: 0.7589430894308943.\u001b[0m\n",
            "\u001b[32m[I 2022-03-24 00:40:08,813]\u001b[0m Trial 78 finished with value: 0.640068547744301 and parameters: {'classifier': 'SVC', 'svc_c': 14924.8746443837}. Best is trial 69 with value: 0.7589430894308943.\u001b[0m\n",
            "\u001b[32m[I 2022-03-24 00:40:12,176]\u001b[0m Trial 79 finished with value: 0.755706998246453 and parameters: {'classifier': 'RandomForest', 'n_estimators': 710, 'max_depth': 46.97994212549899}. Best is trial 69 with value: 0.7589430894308943.\u001b[0m\n",
            "\u001b[32m[I 2022-03-24 00:40:15,425]\u001b[0m Trial 80 finished with value: 0.7573250438386737 and parameters: {'classifier': 'RandomForest', 'n_estimators': 680, 'max_depth': 53.534186367666855}. Best is trial 69 with value: 0.7589430894308943.\u001b[0m\n",
            "\u001b[32m[I 2022-03-24 00:40:18,843]\u001b[0m Trial 81 finished with value: 0.7507970667941973 and parameters: {'classifier': 'RandomForest', 'n_estimators': 710, 'max_depth': 54.38709850360164}. Best is trial 69 with value: 0.7589430894308943.\u001b[0m\n",
            "\u001b[32m[I 2022-03-24 00:40:22,836]\u001b[0m Trial 82 finished with value: 0.7459190180137095 and parameters: {'classifier': 'RandomForest', 'n_estimators': 840, 'max_depth': 47.73142718851559}. Best is trial 69 with value: 0.7589430894308943.\u001b[0m\n",
            "\u001b[32m[I 2022-03-24 00:40:25,615]\u001b[0m Trial 83 finished with value: 0.744293001753547 and parameters: {'classifier': 'RandomForest', 'n_estimators': 580, 'max_depth': 39.522188369944786}. Best is trial 69 with value: 0.7589430894308943.\u001b[0m\n",
            "\u001b[32m[I 2022-03-24 00:40:28,747]\u001b[0m Trial 84 finished with value: 0.7524469950581859 and parameters: {'classifier': 'RandomForest', 'n_estimators': 660, 'max_depth': 41.9163017297534}. Best is trial 69 with value: 0.7589430894308943.\u001b[0m\n",
            "\u001b[32m[I 2022-03-24 00:40:32,256]\u001b[0m Trial 85 finished with value: 0.75242308305436 and parameters: {'classifier': 'RandomForest', 'n_estimators': 740, 'max_depth': 45.923492056018006}. Best is trial 69 with value: 0.7589430894308943.\u001b[0m\n",
            "\u001b[32m[I 2022-03-24 00:40:34,486]\u001b[0m Trial 86 finished with value: 0.7491630798660928 and parameters: {'classifier': 'RandomForest', 'n_estimators': 460, 'max_depth': 52.12957088472551}. Best is trial 69 with value: 0.7589430894308943.\u001b[0m\n",
            "\u001b[32m[I 2022-03-24 00:40:40,022]\u001b[0m Trial 87 finished with value: 0.7459190180137095 and parameters: {'classifier': 'RandomForest', 'n_estimators': 1170, 'max_depth': 31.746956799653912}. Best is trial 69 with value: 0.7589430894308943.\u001b[0m\n",
            "\u001b[32m[I 2022-03-24 00:40:41,888]\u001b[0m Trial 88 finished with value: 0.7508050374621393 and parameters: {'classifier': 'RandomForest', 'n_estimators': 390, 'max_depth': 64.78202496749829}. Best is trial 69 with value: 0.7589430894308943.\u001b[0m\n",
            "\u001b[32m[I 2022-03-24 00:40:46,517]\u001b[0m Trial 89 finished with value: 0.7475450342738722 and parameters: {'classifier': 'RandomForest', 'n_estimators': 970, 'max_depth': 23.883186250582447}. Best is trial 69 with value: 0.7589430894308943.\u001b[0m\n",
            "\u001b[32m[I 2022-03-24 00:40:49,274]\u001b[0m Trial 90 finished with value: 0.7426669854933844 and parameters: {'classifier': 'RandomForest', 'n_estimators': 580, 'max_depth': 16.257307440941023}. Best is trial 69 with value: 0.7589430894308943.\u001b[0m\n",
            "\u001b[32m[I 2022-03-24 00:40:55,544]\u001b[0m Trial 91 finished with value: 0.7556910569105691 and parameters: {'classifier': 'RandomForest', 'n_estimators': 1320, 'max_depth': 44.019235250317124}. Best is trial 69 with value: 0.7589430894308943.\u001b[0m\n",
            "\u001b[32m[I 2022-03-24 00:41:00,484]\u001b[0m Trial 92 finished with value: 0.7507970667941973 and parameters: {'classifier': 'RandomForest', 'n_estimators': 1050, 'max_depth': 43.11259375720484}. Best is trial 69 with value: 0.7589430894308943.\u001b[0m\n",
            "\u001b[32m[I 2022-03-24 00:41:07,795]\u001b[0m Trial 93 finished with value: 0.7491790212019768 and parameters: {'classifier': 'RandomForest', 'n_estimators': 1550, 'max_depth': 37.659443492145805}. Best is trial 69 with value: 0.7589430894308943.\u001b[0m\n",
            "\u001b[32m[I 2022-03-24 00:41:13,921]\u001b[0m Trial 94 finished with value: 0.7524310537223019 and parameters: {'classifier': 'RandomForest', 'n_estimators': 1290, 'max_depth': 47.15141102421089}. Best is trial 69 with value: 0.7589430894308943.\u001b[0m\n",
            "\u001b[32m[I 2022-03-24 00:41:20,763]\u001b[0m Trial 95 finished with value: 0.7475370636059302 and parameters: {'classifier': 'RandomForest', 'n_estimators': 1420, 'max_depth': 57.54793685886126}. Best is trial 69 with value: 0.7589430894308943.\u001b[0m\n",
            "\u001b[32m[I 2022-03-24 00:41:23,269]\u001b[0m Trial 96 finished with value: 0.7459190180137095 and parameters: {'classifier': 'RandomForest', 'n_estimators': 510, 'max_depth': 34.77741679214771}. Best is trial 69 with value: 0.7589430894308943.\u001b[0m\n",
            "\u001b[32m[I 2022-03-24 00:41:23,338]\u001b[0m Trial 97 finished with value: 0.640068547744301 and parameters: {'classifier': 'SVC', 'svc_c': 2.2645700928804055e-07}. Best is trial 69 with value: 0.7589430894308943.\u001b[0m\n",
            "\u001b[32m[I 2022-03-24 00:41:26,578]\u001b[0m Trial 98 finished with value: 0.7491790212019768 and parameters: {'classifier': 'RandomForest', 'n_estimators': 660, 'max_depth': 50.78175433723216}. Best is trial 69 with value: 0.7589430894308943.\u001b[0m\n",
            "\u001b[32m[I 2022-03-24 00:41:33,759]\u001b[0m Trial 99 finished with value: 0.7556830862426271 and parameters: {'classifier': 'RandomForest', 'n_estimators': 1490, 'max_depth': 54.28913786980865}. Best is trial 69 with value: 0.7589430894308943.\u001b[0m\n"
          ]
        },
        {
          "output_type": "stream",
          "name": "stdout",
          "text": [
            "Accuracy: 0.7589430894308943\n",
            "Best hyperparameters: {'classifier': 'RandomForest', 'n_estimators': 1650, 'max_depth': 16.1951831269622}\n"
          ]
        }
      ]
    },
    {
      "cell_type": "code",
      "source": [
        "trial"
      ],
      "metadata": {
        "colab": {
          "base_uri": "https://localhost:8080/"
        },
        "id": "bQN6sWYvQ7tF",
        "outputId": "d32db0c1-f1d9-43e9-fd90-a9a7c12e7ecf"
      },
      "execution_count": null,
      "outputs": [
        {
          "output_type": "execute_result",
          "data": {
            "text/plain": [
              "FrozenTrial(number=69, values=[0.7589430894308943], datetime_start=datetime.datetime(2022, 3, 24, 0, 39, 17, 550317), datetime_complete=datetime.datetime(2022, 3, 24, 0, 39, 25, 340840), params={'classifier': 'RandomForest', 'n_estimators': 1650, 'max_depth': 16.1951831269622}, distributions={'classifier': CategoricalDistribution(choices=('RandomForest', 'SVC')), 'n_estimators': IntUniformDistribution(high=2000, low=200, step=10), 'max_depth': LogUniformDistribution(high=100.0, low=10.0)}, user_attrs={}, system_attrs={}, intermediate_values={}, trial_id=69, state=TrialState.COMPLETE, value=None)"
            ]
          },
          "metadata": {},
          "execution_count": 44
        }
      ]
    },
    {
      "cell_type": "code",
      "source": [
        "study.best_params\n"
      ],
      "metadata": {
        "colab": {
          "base_uri": "https://localhost:8080/"
        },
        "id": "-cd-kUmgQ9Gu",
        "outputId": "d0a31a40-a94b-4b1e-c1b7-b98e141ee9d3"
      },
      "execution_count": null,
      "outputs": [
        {
          "output_type": "execute_result",
          "data": {
            "text/plain": [
              "{'classifier': 'RandomForest',\n",
              " 'max_depth': 16.1951831269622,\n",
              " 'n_estimators': 1650}"
            ]
          },
          "metadata": {},
          "execution_count": 45
        }
      ]
    },
    {
      "cell_type": "code",
      "source": [
        "rf=RandomForestClassifier(n_estimators=330,max_depth=30)\n",
        "rf.fit(X_train,y_train)"
      ],
      "metadata": {
        "colab": {
          "base_uri": "https://localhost:8080/"
        },
        "id": "BQrbDMdhQ-gl",
        "outputId": "bec84603-46b0-45ac-81be-c789d5db7985"
      },
      "execution_count": null,
      "outputs": [
        {
          "output_type": "execute_result",
          "data": {
            "text/plain": [
              "RandomForestClassifier(max_depth=30, n_estimators=330)"
            ]
          },
          "metadata": {},
          "execution_count": 46
        }
      ]
    },
    {
      "cell_type": "code",
      "source": [
        "y_pred=rf.predict(X_test)\n",
        "print(confusion_matrix(y_test,y_pred))\n",
        "print(accuracy_score(y_test,y_pred))\n",
        "print(classification_report(y_test,y_pred))"
      ],
      "metadata": {
        "colab": {
          "base_uri": "https://localhost:8080/"
        },
        "id": "CatdW-rvQ_CK",
        "outputId": "f85ca799-344c-4948-ec8d-4795c3a7582d"
      },
      "execution_count": null,
      "outputs": [
        {
          "output_type": "stream",
          "name": "stdout",
          "text": [
            "[[92 15]\n",
            " [16 31]]\n",
            "0.7987012987012987\n",
            "              precision    recall  f1-score   support\n",
            "\n",
            "           0       0.85      0.86      0.86       107\n",
            "           1       0.67      0.66      0.67        47\n",
            "\n",
            "    accuracy                           0.80       154\n",
            "   macro avg       0.76      0.76      0.76       154\n",
            "weighted avg       0.80      0.80      0.80       154\n",
            "\n"
          ]
        }
      ]
    }
  ]
}