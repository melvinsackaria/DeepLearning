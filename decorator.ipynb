{
  "nbformat": 4,
  "nbformat_minor": 0,
  "metadata": {
    "colab": {
      "name": "decorator.ipynb",
      "provenance": [],
      "collapsed_sections": [],
      "authorship_tag": "ABX9TyNhV1y6Yct5NpbvT5fu+ov/",
      "include_colab_link": true
    },
    "kernelspec": {
      "name": "python3",
      "display_name": "Python 3"
    },
    "language_info": {
      "name": "python"
    }
  },
  "cells": [
    {
      "cell_type": "markdown",
      "metadata": {
        "id": "view-in-github",
        "colab_type": "text"
      },
      "source": [
        "<a href=\"https://colab.research.google.com/github/melvinsackaria/DeepLearning/blob/main/decorator.ipynb\" target=\"_parent\"><img src=\"https://colab.research.google.com/assets/colab-badge.svg\" alt=\"Open In Colab\"/></a>"
      ]
    },
    {
      "cell_type": "code",
      "metadata": {
        "colab": {
          "base_uri": "https://localhost:8080/"
        },
        "id": "5BOrg-cnotCK",
        "outputId": "6822e903-97d4-4888-8430-1816f1fa36d8"
      },
      "source": [
        "def myWrapper(func):\n",
        "  def myInnerFunc():\n",
        "    print(\"Inside wrapper.\")\n",
        "    func()\n",
        "  return myInnerFunc\n",
        " \n",
        "def myFunc():\n",
        "  print(\"Hello, World!\")\n",
        " \n",
        "c=myWrapper(myFunc)\n",
        "c()"
      ],
      "execution_count": null,
      "outputs": [
        {
          "output_type": "stream",
          "name": "stdout",
          "text": [
            "Inside wrapper.\n",
            "Hello, World!\n"
          ]
        }
      ]
    },
    {
      "cell_type": "markdown",
      "metadata": {
        "id": "3-R0KPeTppR7"
      },
      "source": [
        "**Steps**\n",
        "\n",
        "The actual function is passed as a parameter to the wrapper function.\n",
        "\n",
        "myWrapper has an inner function which calls the actual function (myFunc).\n",
        "\n",
        "Inside Inner function, you can write any additional operation to perform along with calling the original function (myFunc).\n",
        "\n",
        "myWrapper returns the inner function object.\n",
        "\n",
        "**Note:** When you write function name without brackets, it acts as a function object and it does not call function. The function gets called only when there is a function name (object) followed by brackets “()”."
      ]
    },
    {
      "cell_type": "code",
      "metadata": {
        "colab": {
          "base_uri": "https://localhost:8080/"
        },
        "id": "WgJM08mzqQhd",
        "outputId": "6b72cc84-b08b-4f76-8062-087d47e011c2"
      },
      "source": [
        "def myWrapper(func):\n",
        "  def myInnerFunc():\n",
        "    print(\"Inside wrapper.\")\n",
        "    func()\n",
        "  return myInnerFunc\n",
        " \n",
        "@myWrapper\n",
        "def myFunc():\n",
        "  print(\"Hello, World!\")\n",
        " \n",
        "myFunc()"
      ],
      "execution_count": null,
      "outputs": [
        {
          "output_type": "stream",
          "name": "stdout",
          "text": [
            "Inside wrapper.\n",
            "Hello, World!\n"
          ]
        }
      ]
    },
    {
      "cell_type": "code",
      "metadata": {
        "colab": {
          "base_uri": "https://localhost:8080/"
        },
        "id": "Kt4xk2Gsqfia",
        "outputId": "b4c529f0-7ca5-4f12-da74-9199e1e05a5a"
      },
      "source": [
        "def addTwoNumbers(a, b):\n",
        "    c=a+b\n",
        "    return c\n",
        " \n",
        "c=addTwoNumbers(4, 5)\n",
        " \n",
        "print(\"Addition of two numbers=\", c)"
      ],
      "execution_count": null,
      "outputs": [
        {
          "output_type": "stream",
          "name": "stdout",
          "text": [
            "Addition of two numbers= 9\n"
          ]
        }
      ]
    },
    {
      "cell_type": "markdown",
      "metadata": {
        "id": "lQoGkXgUrHoD"
      },
      "source": [
        "Now our aim is to modify the behavior of addTwoNumbers() without changing function definition and function call.\n",
        "\n",
        "What function behavior do we want to change?\n",
        "\n",
        "We want addTwoNumbers function should calculate the sum of the square of two numbers instead of the sum of two numbers."
      ]
    },
    {
      "cell_type": "code",
      "metadata": {
        "colab": {
          "base_uri": "https://localhost:8080/"
        },
        "id": "y9XpXSnQqeFm",
        "outputId": "73648761-ccef-48a7-b0e8-6d2b17ec3ee6"
      },
      "source": [
        "def decorateFun(func): \n",
        "    def sumOfSquare(x, y): \n",
        "        return func(x**2, y**2) \n",
        "    return sumOfSquare \n",
        " \n",
        "@decorateFun\n",
        "def addTwoNumbers(a, b): \n",
        "    c = a+b \n",
        "    return c \n",
        " \n",
        "c = addTwoNumbers(4,5) \n",
        "print(\"Addition of two numbers=\", c)"
      ],
      "execution_count": null,
      "outputs": [
        {
          "output_type": "stream",
          "name": "stdout",
          "text": [
            "Addition of two numbers= 41\n"
          ]
        }
      ]
    }
  ]
}