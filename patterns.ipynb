{
  "nbformat": 4,
  "nbformat_minor": 0,
  "metadata": {
    "colab": {
      "name": "patterns.ipynb",
      "provenance": [],
      "collapsed_sections": [],
      "authorship_tag": "ABX9TyMOS2uqgcu37qlKzCsXxqsp",
      "include_colab_link": true
    },
    "kernelspec": {
      "name": "python3",
      "display_name": "Python 3"
    },
    "language_info": {
      "name": "python"
    }
  },
  "cells": [
    {
      "cell_type": "markdown",
      "metadata": {
        "id": "view-in-github",
        "colab_type": "text"
      },
      "source": [
        "<a href=\"https://colab.research.google.com/github/melvinsackaria/DeepLearning/blob/main/patterns.ipynb\" target=\"_parent\"><img src=\"https://colab.research.google.com/assets/colab-badge.svg\" alt=\"Open In Colab\"/></a>"
      ]
    },
    {
      "cell_type": "code",
      "source": [
        "print(range(6))\n",
        "print(range(1,6))"
      ],
      "metadata": {
        "colab": {
          "base_uri": "https://localhost:8080/"
        },
        "id": "RA2QJMiFZshP",
        "outputId": "8a51f792-c481-4c2c-d0b7-08f50331db1a"
      },
      "execution_count": null,
      "outputs": [
        {
          "output_type": "stream",
          "name": "stdout",
          "text": [
            "range(0, 6)\n",
            "range(1, 6)\n"
          ]
        }
      ]
    },
    {
      "cell_type": "code",
      "source": [
        "string=\"Melvin\"\n",
        "string[0].isdigit()"
      ],
      "metadata": {
        "colab": {
          "base_uri": "https://localhost:8080/"
        },
        "id": "dlhS_3WsAC7M",
        "outputId": "abe0e72e-9212-42c9-f288-bae4c31acb23"
      },
      "execution_count": null,
      "outputs": [
        {
          "output_type": "execute_result",
          "data": {
            "text/plain": [
              "False"
            ]
          },
          "metadata": {},
          "execution_count": 1
        }
      ]
    },
    {
      "cell_type": "code",
      "source": [
        "import re\n",
        "\n",
        "# String\n",
        "my_string = \"100 houses\"\n",
        "\n",
        "# Search if start with a number\n",
        "reg = re.search('^\\s*[0-9]',my_string)\n",
        "\n",
        "# Print result\n",
        "print(reg)"
      ],
      "metadata": {
        "colab": {
          "base_uri": "https://localhost:8080/"
        },
        "id": "6xd3CIOpAtg2",
        "outputId": "949316fb-28f7-4c4d-cf24-5685fc8ae466"
      },
      "execution_count": null,
      "outputs": [
        {
          "output_type": "stream",
          "name": "stdout",
          "text": [
            "<re.Match object; span=(0, 1), match='1'>\n"
          ]
        }
      ]
    },
    {
      "cell_type": "code",
      "source": [
        "text = \"programming is easy\"\n",
        "result = text.startswith(('python1', 'programming'))\n",
        "\n",
        "# prints True\n",
        "print(result)\n",
        "\n",
        "result = text.startswith(('is', 'easy', 'java'))\n",
        "\n",
        "# prints False\n",
        "print(result)\n",
        "\n",
        "# With start and end parameter\n",
        "# 'is easy' string is checked\n",
        "result = text.startswith(('programming', 'easy'), 12, 19)\n",
        "\n",
        "# prints False\n",
        "print(result)"
      ],
      "metadata": {
        "colab": {
          "base_uri": "https://localhost:8080/"
        },
        "id": "xmF6yqc7B46J",
        "outputId": "11366b0c-b6f7-4e10-8f9c-181e66e2d2d6"
      },
      "execution_count": null,
      "outputs": [
        {
          "output_type": "stream",
          "name": "stdout",
          "text": [
            "True\n",
            "False\n",
            "False\n"
          ]
        }
      ]
    },
    {
      "cell_type": "code",
      "source": [
        "k=6\n",
        "for i in range(k):\n",
        "  print(i)"
      ],
      "metadata": {
        "colab": {
          "base_uri": "https://localhost:8080/"
        },
        "id": "QIy0U-uDZz4G",
        "outputId": "8f405a16-9502-40e7-cac4-8dce8dd71555"
      },
      "execution_count": null,
      "outputs": [
        {
          "output_type": "stream",
          "name": "stdout",
          "text": [
            "0\n",
            "1\n",
            "2\n",
            "3\n",
            "4\n",
            "5\n"
          ]
        }
      ]
    },
    {
      "cell_type": "code",
      "source": [
        "k=6\n",
        "for i in range(k):\n",
        "  print(k)"
      ],
      "metadata": {
        "colab": {
          "base_uri": "https://localhost:8080/"
        },
        "id": "uPGKJdwuZ9r4",
        "outputId": "60692158-b82c-4a68-b1da-4fbb29160d6e"
      },
      "execution_count": null,
      "outputs": [
        {
          "output_type": "stream",
          "name": "stdout",
          "text": [
            "6\n",
            "6\n",
            "6\n",
            "6\n",
            "6\n",
            "6\n"
          ]
        }
      ]
    },
    {
      "cell_type": "code",
      "source": [
        "k=6\n",
        "for i in range(1,k):\n",
        "  print(k)"
      ],
      "metadata": {
        "colab": {
          "base_uri": "https://localhost:8080/"
        },
        "id": "Zs5m_75hatDM",
        "outputId": "1022986c-def3-446f-f43e-78be49cc1391"
      },
      "execution_count": null,
      "outputs": [
        {
          "output_type": "stream",
          "name": "stdout",
          "text": [
            "6\n",
            "6\n",
            "6\n",
            "6\n",
            "6\n"
          ]
        }
      ]
    },
    {
      "cell_type": "code",
      "execution_count": null,
      "metadata": {
        "colab": {
          "base_uri": "https://localhost:8080/"
        },
        "id": "R2T0btY1HWlY",
        "outputId": "66c03683-c920-4ca9-fe11-4fafc0f76b9c"
      },
      "outputs": [
        {
          "output_type": "stream",
          "name": "stdout",
          "text": [
            "x\n",
            "xx\n",
            "xxx\n",
            "xxxx\n",
            "xxxxx\n",
            "xxxxxx\n",
            "-----------------------\n",
            "\n",
            "x\n",
            "xx\n",
            "xxx\n",
            "xxxx\n",
            "xxxxx\n",
            "xxxxxx\n"
          ]
        }
      ],
      "source": [
        "k=7\n",
        "for i in range(1,k):\n",
        "  print(\"x\"*i)\n",
        "print(\"-----------------------\")\n",
        "for i in range(k):\n",
        "  print(\"x\"*i)"
      ]
    },
    {
      "cell_type": "code",
      "source": [
        "# Function to demonstrate printing pattern\n",
        "def pypart(n):\n",
        "    # outer loop to handle number of rows\n",
        "    # n in this case\n",
        "    for i in range(0, n):\n",
        "        # inner loop to handle number of columns\n",
        "        # values changing acc. to outer loop\n",
        "        for j in range(0, i+1):\n",
        "            # printing stars\n",
        "            print(\"* \",end=\"\")\n",
        "        # ending line after each row\n",
        "        print(\"\\r\")\n",
        " \n",
        "# Driver Code\n",
        "n = 5\n",
        "pypart(n)"
      ],
      "metadata": {
        "colab": {
          "base_uri": "https://localhost:8080/"
        },
        "id": "JwtjWdCJs6zN",
        "outputId": "f3342eb0-4e88-4d80-c2aa-b528ce265f61"
      },
      "execution_count": null,
      "outputs": [
        {
          "output_type": "stream",
          "name": "stdout",
          "text": [
            "* \r\n",
            "* * \r\n",
            "* * * \r\n",
            "* * * * \r\n",
            "* * * * * \r\n"
          ]
        }
      ]
    },
    {
      "cell_type": "markdown",
      "source": [
        "for 6 rows , u have to give range (1,7)\n",
        "if range(6) used first calcultion valueu will be 0"
      ],
      "metadata": {
        "id": "HcDqn_ucac_2"
      }
    },
    {
      "cell_type": "code",
      "source": [
        ""
      ],
      "metadata": {
        "id": "JTcn2AMbbZWa"
      },
      "execution_count": null,
      "outputs": []
    },
    {
      "cell_type": "code",
      "source": [
        "k=7\n",
        "for i in range(1,k):\n",
        "  print(\"x\"*k)\n",
        "print(\"-----------------------\")\n",
        "for i in range(k):\n",
        "  print(\"x\"*k)"
      ],
      "metadata": {
        "colab": {
          "base_uri": "https://localhost:8080/"
        },
        "id": "oWltwhPgZg8W",
        "outputId": "27c96fb0-05cc-4449-bb5a-b942106357c8"
      },
      "execution_count": null,
      "outputs": [
        {
          "output_type": "stream",
          "name": "stdout",
          "text": [
            "xxxxxxx\n",
            "xxxxxxx\n",
            "xxxxxxx\n",
            "xxxxxxx\n",
            "xxxxxxx\n",
            "xxxxxxx\n",
            "-----------------------\n",
            "xxxxxxx\n",
            "xxxxxxx\n",
            "xxxxxxx\n",
            "xxxxxxx\n",
            "xxxxxxx\n",
            "xxxxxxx\n",
            "xxxxxxx\n"
          ]
        }
      ]
    },
    {
      "cell_type": "code",
      "source": [
        "k=6\n",
        "for i in range(k):\n",
        "  print(\"x\"*(k-i))"
      ],
      "metadata": {
        "colab": {
          "base_uri": "https://localhost:8080/"
        },
        "id": "1uJPJ46TbcEM",
        "outputId": "f82b78e7-b435-4402-efe7-ef82d60a8a6e"
      },
      "execution_count": null,
      "outputs": [
        {
          "output_type": "stream",
          "name": "stdout",
          "text": [
            "xxxxxx\n",
            "xxxxx\n",
            "xxxx\n",
            "xxx\n",
            "xx\n",
            "x\n"
          ]
        }
      ]
    },
    {
      "cell_type": "code",
      "source": [
        "def pyr1(n):\n",
        "  for i in range (0,n):\n",
        "    for j in range(n-i):\n",
        "      print(\"x\",end=\" \")\n",
        "    print(\"\\r\")\n",
        "\n",
        "n=5\n",
        "pyr1(n)"
      ],
      "metadata": {
        "colab": {
          "base_uri": "https://localhost:8080/"
        },
        "id": "qlcCvxnCu536",
        "outputId": "25ca8a3f-dea2-4db1-85ce-37547a447798"
      },
      "execution_count": null,
      "outputs": [
        {
          "output_type": "stream",
          "name": "stdout",
          "text": [
            "x x x x x \r\n",
            "x x x x \r\n",
            "x x x \r\n",
            "x x \r\n",
            "x \r\n"
          ]
        }
      ]
    },
    {
      "cell_type": "code",
      "source": [
        "# Function to demonstrate printing pattern of numbers\n",
        "def numpat(n):\n",
        "     \n",
        "    # initialising starting number\n",
        "    num = 1\n",
        " \n",
        "    # outer loop to handle number of rows\n",
        "    for i in range(0, n):\n",
        "     \n",
        "        # re assigning num\n",
        "        num = 1\n",
        "     \n",
        "        # inner loop to handle number of columns\n",
        "            # values changing acc. to outer loop\n",
        "        for j in range(0, i+1):\n",
        "         \n",
        "                # printing number\n",
        "            print(num, end=\" \")\n",
        "         \n",
        "            # incrementing number at each column\n",
        "            num = num + 1\n",
        "     \n",
        "        # ending line after each row\n",
        "        print(\"\\r\")\n",
        " \n",
        "# Driver code\n",
        "n = 5\n",
        "numpat(n)"
      ],
      "metadata": {
        "colab": {
          "base_uri": "https://localhost:8080/"
        },
        "id": "9AJKtgXSseLS",
        "outputId": "f094a63f-f589-44c7-9cfd-489832e5a5da"
      },
      "execution_count": null,
      "outputs": [
        {
          "output_type": "stream",
          "name": "stdout",
          "text": [
            "1 \r\n",
            "1 2 \r\n",
            "1 2 3 \r\n",
            "1 2 3 4 \r\n",
            "1 2 3 4 5 \r\n"
          ]
        }
      ]
    },
    {
      "cell_type": "code",
      "source": [
        ""
      ],
      "metadata": {
        "id": "gH9ZljxQahL3"
      },
      "execution_count": null,
      "outputs": []
    },
    {
      "cell_type": "code",
      "source": [
        "# Function to demonstrate printing pattern of numbers\n",
        "def numpat(n):\n",
        "     \n",
        "    # initialising starting number\n",
        "    num = 1\n",
        " \n",
        "    # outer loop to handle number of rows\n",
        "    for i in range(0, n):\n",
        "     \n",
        "           \n",
        "        # inner loop to handle number of columns\n",
        "            # values changing acc. to outer loop\n",
        "        for j in range(0, i+1):\n",
        "         \n",
        "            # printing number\n",
        "            print(num, end=\" \")\n",
        "         \n",
        "            # incrementing number at each column\n",
        "            num = num + 1\n",
        "     \n",
        "        # ending line after each row\n",
        "        print(\"\\r\")\n",
        " \n",
        "# Driver code\n",
        "n = 5\n",
        "numpat(n)"
      ],
      "metadata": {
        "colab": {
          "base_uri": "https://localhost:8080/"
        },
        "id": "OUNVUIrdDbmT",
        "outputId": "04934ac3-bf51-4b9d-cc80-81094c2b0eb3"
      },
      "execution_count": null,
      "outputs": [
        {
          "output_type": "stream",
          "name": "stdout",
          "text": [
            "1 \r\n",
            "2 3 \r\n",
            "4 5 6 \r\n",
            "7 8 9 10 \r\n",
            "11 12 13 14 15 \r\n"
          ]
        }
      ]
    },
    {
      "cell_type": "code",
      "source": [
        "print(range(n, -1 , -1))"
      ],
      "metadata": {
        "colab": {
          "base_uri": "https://localhost:8080/"
        },
        "id": "9nRbNF8KajgX",
        "outputId": "07b9b3ad-3602-4857-d4e2-567c98ac7704"
      },
      "execution_count": null,
      "outputs": [
        {
          "output_type": "stream",
          "name": "stdout",
          "text": [
            "range(10, -1, -1)\n"
          ]
        }
      ]
    },
    {
      "cell_type": "code",
      "source": [
        "def pattern(n):\n",
        "     k = 2 * n - 2\n",
        "     for i in range(0, n):\n",
        "          for j in range(0, k):\n",
        "               print(end=\" \")\n",
        "          k = k - 2\n",
        "          for j in range(0, i + 1):\n",
        "              print(\"* \", end=\"\")\n",
        "          print(\"\\r\")\n",
        "  \n",
        "pattern(5)\n"
      ],
      "metadata": {
        "colab": {
          "base_uri": "https://localhost:8080/"
        },
        "id": "4NrN8NTEuZXu",
        "outputId": "942ff98a-2b0f-4667-9ce5-01ad62b6cd2d"
      },
      "execution_count": null,
      "outputs": [
        {
          "output_type": "stream",
          "name": "stdout",
          "text": [
            "        * \r\n",
            "      * * \r\n",
            "    * * * \r\n",
            "  * * * * \r\n",
            "* * * * * \r\n"
          ]
        }
      ]
    },
    {
      "cell_type": "code",
      "source": [
        "def pattern(n):\n",
        "      for i in range(n, -1, -1):\n",
        "           for j in range(0, i + 1):\n",
        "               print(\"* \", end=\"\")\n",
        "           print(\"\\r\")\n",
        " \n",
        "pattern(5)"
      ],
      "metadata": {
        "colab": {
          "base_uri": "https://localhost:8080/"
        },
        "id": "cAmgfasMufVB",
        "outputId": "60e461a0-e485-42ca-8d6b-028220e3ecc3"
      },
      "execution_count": null,
      "outputs": [
        {
          "output_type": "stream",
          "name": "stdout",
          "text": [
            "* * * * * * \r\n",
            "* * * * * \r\n",
            "* * * * \r\n",
            "* * * \r\n",
            "* * \r\n",
            "* \r\n"
          ]
        }
      ]
    },
    {
      "cell_type": "code",
      "source": [
        "def pattern(n):\n",
        "     k = 2 * n - 2\n",
        "     for i in range(0, n):\n",
        "          for j in range(0 , k):\n",
        "               print(end=\" \")\n",
        "          k = k - 1\n",
        "          for j in range(0 , i + 1 ):\n",
        "               print(\"* \", end=\"\")\n",
        "          print(\"\\r\")\n",
        "     k = n - 2\n",
        "     for i in range(n , -1, -1):\n",
        "          for j in range(k , 0 , -1): \n",
        "              print(end=\" \")\n",
        "          k = k + 1\n",
        "          for j in range(0 , i + 1):\n",
        "                print(\"* \", end=\"\")\n",
        "          print(\"\\r\")\n",
        " \n",
        "pattern(5)"
      ],
      "metadata": {
        "colab": {
          "base_uri": "https://localhost:8080/"
        },
        "id": "Ec7pvsvEug9Z",
        "outputId": "6c92ed92-8ad5-44d2-c4b5-32ecc27ca586"
      },
      "execution_count": null,
      "outputs": [
        {
          "output_type": "stream",
          "name": "stdout",
          "text": [
            "        * \r\n",
            "       * * \r\n",
            "      * * * \r\n",
            "     * * * * \r\n",
            "    * * * * * \r\n",
            "   * * * * * * \r\n",
            "    * * * * * \r\n",
            "     * * * * \r\n",
            "      * * * \r\n",
            "       * * \r\n",
            "        * \r\n"
          ]
        }
      ]
    },
    {
      "cell_type": "code",
      "source": [
        "for i in range(5):\n",
        "    for j in range(5):\n",
        "        if i + j == 2 or i - j == 2 or i + j == 6 or j - i == 2:\n",
        "            print(\"*\", end=\"\")\n",
        "        else:\n",
        "            print(end=\" \")\n",
        "    print()"
      ],
      "metadata": {
        "colab": {
          "base_uri": "https://localhost:8080/"
        },
        "id": "F1qqBQXNu4rG",
        "outputId": "368a0312-4fd1-4ce4-f739-52bf72b06cee"
      },
      "execution_count": null,
      "outputs": [
        {
          "output_type": "stream",
          "name": "stdout",
          "text": [
            "  *  \n",
            " * * \n",
            "*   *\n",
            " * * \n",
            "  *  \n"
          ]
        }
      ]
    },
    {
      "cell_type": "markdown",
      "source": [
        "https://www.edureka.co/blog/python-pattern-programs/"
      ],
      "metadata": {
        "id": "1UApC-QN4tYg"
      }
    },
    {
      "cell_type": "code",
      "source": [
        "def pattern(n):\n",
        "     k = n - 2\n",
        "     for i in range(n, -1 , -1):\n",
        "       for j in range(k , 0 , -1):\n",
        "         print(end=\" \")\n",
        "      k = k + 1    \n",
        "          for j in range(0, i+1):\n",
        "            print(\"* \" , end=\"\")\n",
        "          print(\"\\r\")\n",
        "          k = 2 * n  - 2\n",
        "          for i in range(0 , n+1):\n",
        "            for j in range(0 , k):\n",
        "              print(end=\"\")\n",
        "            k = k - 1\n",
        "            for j in range(0, i + 1):\n",
        "              print(\"* \", end=\"\")\n",
        "            print(\"\\r\")\n",
        " \n",
        "pattern(5)"
      ],
      "metadata": {
        "colab": {
          "base_uri": "https://localhost:8080/"
        },
        "id": "pwbc94D5u7-q",
        "outputId": "199d008e-c540-4ea8-bebb-c90fb8e49993"
      },
      "execution_count": null,
      "outputs": [
        {
          "output_type": "stream",
          "name": "stdout",
          "text": [
            "   * * * * * * \r\n",
            "* \r\n",
            "* * \r\n",
            "* * * \r\n",
            "* * * * \r\n",
            "* * * * * \r\n",
            "* * * * * * \r\n",
            "  * * * * * \r\n",
            "* \r\n",
            "* * \r\n",
            "* * * \r\n",
            "* * * * \r\n",
            "* * * * * \r\n",
            "* * * * * * \r\n",
            "  * * * * \r\n",
            "* \r\n",
            "* * \r\n",
            "* * * \r\n",
            "* * * * \r\n",
            "* * * * * \r\n",
            "* * * * * * \r\n",
            "  * * * \r\n",
            "* \r\n",
            "* * \r\n",
            "* * * \r\n",
            "* * * * \r\n",
            "* * * * * \r\n",
            "* * * * * * \r\n",
            "  * * \r\n",
            "* \r\n",
            "* * \r\n",
            "* * * \r\n",
            "* * * * \r\n",
            "* * * * * \r\n",
            "* * * * * * \r\n",
            "  * \r\n",
            "* \r\n",
            "* * \r\n",
            "* * * \r\n",
            "* * * * \r\n",
            "* * * * * \r\n",
            "* * * * * * \r\n"
          ]
        }
      ]
    },
    {
      "cell_type": "code",
      "source": [
        "numbers = {1, 2, 3, 4}\n",
        "new_numbers = numbers.copy()\n",
        "\n",
        " \n",
        "\n",
        "print('numbers: ', numbers)\n",
        "print('new_numbers: ', new_numbers)\n",
        " "
      ],
      "metadata": {
        "colab": {
          "base_uri": "https://localhost:8080/"
        },
        "id": "MnDFucLONaE8",
        "outputId": "c8c876f9-bda5-474e-a860-d4efb1f4d6dc"
      },
      "execution_count": null,
      "outputs": [
        {
          "output_type": "stream",
          "name": "stdout",
          "text": [
            "numbers:  {1, 2, 3, 4}\n",
            "new_numbers:  {1, 2, 3, 4}\n"
          ]
        }
      ]
    }
  ]
}